{
 "cells": [
  {
   "cell_type": "code",
   "execution_count": 1,
   "metadata": {},
   "outputs": [],
   "source": [
    "import pandas as pd\n",
    "from sqlalchemy import create_engine"
   ]
  },
  {
   "cell_type": "markdown",
   "metadata": {},
   "source": [
    "### Extract CSVs into DataFrames"
   ]
  },
  {
   "cell_type": "code",
   "execution_count": 2,
   "metadata": {},
   "outputs": [
    {
     "output_type": "execute_result",
     "data": {
      "text/plain": [
       "     age_range  unemployed_males  unemployed_females  unemployed_persons  \\\n",
       "0        15–24     159565.385400       121044.090930       280609.476330   \n",
       "1        25–34      74594.166479        66539.343886       141133.510360   \n",
       "2        35–44      51645.723769        50073.315809       101719.039580   \n",
       "3        45–54      44478.867093        47368.896916        91847.764009   \n",
       "4        55–64      43499.936666        35048.634453        78548.571119   \n",
       "5  65 and over       7122.601481         4602.790347        11725.391828   \n",
       "\n",
       "   employed_males  employed_females  employed_persons  \n",
       "0   380401.489730     385679.058810     766080.548540  \n",
       "1   367450.979320     351866.668720     719317.648040  \n",
       "2   241445.846350     210000.567680     451446.414030  \n",
       "3   142725.985420     137576.324370     280302.309780  \n",
       "4    87621.948345      80653.175223     168275.123570  \n",
       "5    12799.821098      10091.272147      22891.093245  "
      ],
      "text/html": "<div>\n<style scoped>\n    .dataframe tbody tr th:only-of-type {\n        vertical-align: middle;\n    }\n\n    .dataframe tbody tr th {\n        vertical-align: top;\n    }\n\n    .dataframe thead th {\n        text-align: right;\n    }\n</style>\n<table border=\"1\" class=\"dataframe\">\n  <thead>\n    <tr style=\"text-align: right;\">\n      <th></th>\n      <th>age_range</th>\n      <th>unemployed_males</th>\n      <th>unemployed_females</th>\n      <th>unemployed_persons</th>\n      <th>employed_males</th>\n      <th>employed_females</th>\n      <th>employed_persons</th>\n    </tr>\n  </thead>\n  <tbody>\n    <tr>\n      <th>0</th>\n      <td>15–24</td>\n      <td>159565.385400</td>\n      <td>121044.090930</td>\n      <td>280609.476330</td>\n      <td>380401.489730</td>\n      <td>385679.058810</td>\n      <td>766080.548540</td>\n    </tr>\n    <tr>\n      <th>1</th>\n      <td>25–34</td>\n      <td>74594.166479</td>\n      <td>66539.343886</td>\n      <td>141133.510360</td>\n      <td>367450.979320</td>\n      <td>351866.668720</td>\n      <td>719317.648040</td>\n    </tr>\n    <tr>\n      <th>2</th>\n      <td>35–44</td>\n      <td>51645.723769</td>\n      <td>50073.315809</td>\n      <td>101719.039580</td>\n      <td>241445.846350</td>\n      <td>210000.567680</td>\n      <td>451446.414030</td>\n    </tr>\n    <tr>\n      <th>3</th>\n      <td>45–54</td>\n      <td>44478.867093</td>\n      <td>47368.896916</td>\n      <td>91847.764009</td>\n      <td>142725.985420</td>\n      <td>137576.324370</td>\n      <td>280302.309780</td>\n    </tr>\n    <tr>\n      <th>4</th>\n      <td>55–64</td>\n      <td>43499.936666</td>\n      <td>35048.634453</td>\n      <td>78548.571119</td>\n      <td>87621.948345</td>\n      <td>80653.175223</td>\n      <td>168275.123570</td>\n    </tr>\n    <tr>\n      <th>5</th>\n      <td>65 and over</td>\n      <td>7122.601481</td>\n      <td>4602.790347</td>\n      <td>11725.391828</td>\n      <td>12799.821098</td>\n      <td>10091.272147</td>\n      <td>22891.093245</td>\n    </tr>\n  </tbody>\n</table>\n</div>"
     },
     "metadata": {},
     "execution_count": 2
    }
   ],
   "source": [
    "# Age table 1\n",
    "employed_vs_unemployed_by_age_file = \"employed_vs_unemployed_by_age.csv\"\n",
    "employed_vs_unemployed_by_age_df = pd.read_csv(employed_vs_unemployed_by_age_file)\n",
    "employed_vs_unemployed_by_age_df"
   ]
  },
  {
   "cell_type": "code",
   "execution_count": 3,
   "metadata": {},
   "outputs": [
    {
     "output_type": "execute_result",
     "data": {
      "text/plain": [
       "     age_range  discouraged_jobseekers\n",
       "0        15–24            19127.603453\n",
       "1        25–34            10210.574674\n",
       "2        35–44            12010.948635\n",
       "3        45–54             8337.623604\n",
       "4        55–64            19210.640148\n",
       "5  65 and over            34798.844168"
      ],
      "text/html": "<div>\n<style scoped>\n    .dataframe tbody tr th:only-of-type {\n        vertical-align: middle;\n    }\n\n    .dataframe tbody tr th {\n        vertical-align: top;\n    }\n\n    .dataframe thead th {\n        text-align: right;\n    }\n</style>\n<table border=\"1\" class=\"dataframe\">\n  <thead>\n    <tr style=\"text-align: right;\">\n      <th></th>\n      <th>age_range</th>\n      <th>discouraged_jobseekers</th>\n    </tr>\n  </thead>\n  <tbody>\n    <tr>\n      <th>0</th>\n      <td>15–24</td>\n      <td>19127.603453</td>\n    </tr>\n    <tr>\n      <th>1</th>\n      <td>25–34</td>\n      <td>10210.574674</td>\n    </tr>\n    <tr>\n      <th>2</th>\n      <td>35–44</td>\n      <td>12010.948635</td>\n    </tr>\n    <tr>\n      <th>3</th>\n      <td>45–54</td>\n      <td>8337.623604</td>\n    </tr>\n    <tr>\n      <th>4</th>\n      <td>55–64</td>\n      <td>19210.640148</td>\n    </tr>\n    <tr>\n      <th>5</th>\n      <td>65 and over</td>\n      <td>34798.844168</td>\n    </tr>\n  </tbody>\n</table>\n</div>"
     },
     "metadata": {},
     "execution_count": 3
    }
   ],
   "source": [
    "# Age table 2\n",
    "discouragedjobseekers_age_file = \"discouragedjobseekers_age.csv\"\n",
    "discouragedjobseekers_age_df = pd.read_csv(discouragedjobseekers_age_file)\n",
    "discouragedjobseekers_age_df"
   ]
  },
  {
   "cell_type": "code",
   "execution_count": 4,
   "metadata": {},
   "outputs": [
    {
     "output_type": "execute_result",
     "data": {
      "text/plain": [
       "     age_range  too_many_applicants\n",
       "0        15–24             46734.44\n",
       "1        25–34             62200.00\n",
       "2        35–44             21908.10\n",
       "3        45–54             13232.70\n",
       "4  55 and over              9518.45"
      ],
      "text/html": "<div>\n<style scoped>\n    .dataframe tbody tr th:only-of-type {\n        vertical-align: middle;\n    }\n\n    .dataframe tbody tr th {\n        vertical-align: top;\n    }\n\n    .dataframe thead th {\n        text-align: right;\n    }\n</style>\n<table border=\"1\" class=\"dataframe\">\n  <thead>\n    <tr style=\"text-align: right;\">\n      <th></th>\n      <th>age_range</th>\n      <th>too_many_applicants</th>\n    </tr>\n  </thead>\n  <tbody>\n    <tr>\n      <th>0</th>\n      <td>15–24</td>\n      <td>46734.44</td>\n    </tr>\n    <tr>\n      <th>1</th>\n      <td>25–34</td>\n      <td>62200.00</td>\n    </tr>\n    <tr>\n      <th>2</th>\n      <td>35–44</td>\n      <td>21908.10</td>\n    </tr>\n    <tr>\n      <th>3</th>\n      <td>45–54</td>\n      <td>13232.70</td>\n    </tr>\n    <tr>\n      <th>4</th>\n      <td>55 and over</td>\n      <td>9518.45</td>\n    </tr>\n  </tbody>\n</table>\n</div>"
     },
     "metadata": {},
     "execution_count": 4
    }
   ],
   "source": [
    "# Age table 3\n",
    "main_diff_by_age_range_file = \"main_diff_by_age_range.csv\"\n",
    "main_diff_by_age_range_clean = pd.read_csv(main_diff_by_age_range_file)\n",
    "main_diff_by_age_range_clean"
   ]
  },
  {
   "cell_type": "code",
   "execution_count": 8,
   "metadata": {},
   "outputs": [
    {
     "output_type": "execute_result",
     "data": {
      "text/plain": [
       "                state_territory  unemployed_males  unemployed_females  \\\n",
       "0               New South Wales     112945.715480        89785.571823   \n",
       "1                      Victoria      94190.597794        91945.809923   \n",
       "2                    Queensland      87235.314785        68519.251480   \n",
       "3               South Australia      29764.662561        24717.399134   \n",
       "4             Western Australia      42139.740754        35491.005275   \n",
       "5                      Tasmania       7899.504385         6748.262709   \n",
       "6            Northern Territory       3391.359290         3362.262633   \n",
       "7  Australian Capital Territory       3339.785837         4107.509366   \n",
       "\n",
       "   unemployed_persons  employed_males  employed_females  employed_persons  \n",
       "0       202731.287300   365633.559710     377107.826650     742741.386360  \n",
       "1       186136.407720   353388.099120     326054.618320     679442.717440  \n",
       "2       155754.566260   241420.677580     216821.677920     458242.355490  \n",
       "3        54482.061695    74780.130808      77814.793609     152594.924420  \n",
       "4        77630.746028   138513.359290     119396.194090     257909.553370  \n",
       "5        14647.767093    24364.490804      20654.131830      45018.622634  \n",
       "6         6753.621923    11822.139860      12612.096887      24434.236747  \n",
       "7         7447.295202    22523.613090      25405.727648      47929.340738  "
      ],
      "text/html": "<div>\n<style scoped>\n    .dataframe tbody tr th:only-of-type {\n        vertical-align: middle;\n    }\n\n    .dataframe tbody tr th {\n        vertical-align: top;\n    }\n\n    .dataframe thead th {\n        text-align: right;\n    }\n</style>\n<table border=\"1\" class=\"dataframe\">\n  <thead>\n    <tr style=\"text-align: right;\">\n      <th></th>\n      <th>state_territory</th>\n      <th>unemployed_males</th>\n      <th>unemployed_females</th>\n      <th>unemployed_persons</th>\n      <th>employed_males</th>\n      <th>employed_females</th>\n      <th>employed_persons</th>\n    </tr>\n  </thead>\n  <tbody>\n    <tr>\n      <th>0</th>\n      <td>New South Wales</td>\n      <td>112945.715480</td>\n      <td>89785.571823</td>\n      <td>202731.287300</td>\n      <td>365633.559710</td>\n      <td>377107.826650</td>\n      <td>742741.386360</td>\n    </tr>\n    <tr>\n      <th>1</th>\n      <td>Victoria</td>\n      <td>94190.597794</td>\n      <td>91945.809923</td>\n      <td>186136.407720</td>\n      <td>353388.099120</td>\n      <td>326054.618320</td>\n      <td>679442.717440</td>\n    </tr>\n    <tr>\n      <th>2</th>\n      <td>Queensland</td>\n      <td>87235.314785</td>\n      <td>68519.251480</td>\n      <td>155754.566260</td>\n      <td>241420.677580</td>\n      <td>216821.677920</td>\n      <td>458242.355490</td>\n    </tr>\n    <tr>\n      <th>3</th>\n      <td>South Australia</td>\n      <td>29764.662561</td>\n      <td>24717.399134</td>\n      <td>54482.061695</td>\n      <td>74780.130808</td>\n      <td>77814.793609</td>\n      <td>152594.924420</td>\n    </tr>\n    <tr>\n      <th>4</th>\n      <td>Western Australia</td>\n      <td>42139.740754</td>\n      <td>35491.005275</td>\n      <td>77630.746028</td>\n      <td>138513.359290</td>\n      <td>119396.194090</td>\n      <td>257909.553370</td>\n    </tr>\n    <tr>\n      <th>5</th>\n      <td>Tasmania</td>\n      <td>7899.504385</td>\n      <td>6748.262709</td>\n      <td>14647.767093</td>\n      <td>24364.490804</td>\n      <td>20654.131830</td>\n      <td>45018.622634</td>\n    </tr>\n    <tr>\n      <th>6</th>\n      <td>Northern Territory</td>\n      <td>3391.359290</td>\n      <td>3362.262633</td>\n      <td>6753.621923</td>\n      <td>11822.139860</td>\n      <td>12612.096887</td>\n      <td>24434.236747</td>\n    </tr>\n    <tr>\n      <th>7</th>\n      <td>Australian Capital Territory</td>\n      <td>3339.785837</td>\n      <td>4107.509366</td>\n      <td>7447.295202</td>\n      <td>22523.613090</td>\n      <td>25405.727648</td>\n      <td>47929.340738</td>\n    </tr>\n  </tbody>\n</table>\n</div>"
     },
     "metadata": {},
     "execution_count": 8
    }
   ],
   "source": [
    "# Location table 1\n",
    "employed_vs_unemployed_by_state_file = \"employed_vs_unemployed_by_state.csv\"\n",
    "employed_vs_unemployed_by_state_df = pd.read_csv(employed_vs_unemployed_by_state_file)\n",
    "employed_vs_unemployed_by_state_df"
   ]
  },
  {
   "cell_type": "code",
   "execution_count": 9,
   "metadata": {},
   "outputs": [
    {
     "output_type": "execute_result",
     "data": {
      "text/plain": [
       "                state_territory  discouraged_jobseekers\n",
       "0               New South Wales            35294.443384\n",
       "1                      Victoria            29665.225257\n",
       "2                    Queensland            16515.309330\n",
       "3               South Australia             5064.287140\n",
       "4             Western Australia            11498.128840\n",
       "5                      Tasmania             3687.193909\n",
       "6            Northern Territory              941.021873\n",
       "7  Australian Capital Territory             1030.624947"
      ],
      "text/html": "<div>\n<style scoped>\n    .dataframe tbody tr th:only-of-type {\n        vertical-align: middle;\n    }\n\n    .dataframe tbody tr th {\n        vertical-align: top;\n    }\n\n    .dataframe thead th {\n        text-align: right;\n    }\n</style>\n<table border=\"1\" class=\"dataframe\">\n  <thead>\n    <tr style=\"text-align: right;\">\n      <th></th>\n      <th>state_territory</th>\n      <th>discouraged_jobseekers</th>\n    </tr>\n  </thead>\n  <tbody>\n    <tr>\n      <th>0</th>\n      <td>New South Wales</td>\n      <td>35294.443384</td>\n    </tr>\n    <tr>\n      <th>1</th>\n      <td>Victoria</td>\n      <td>29665.225257</td>\n    </tr>\n    <tr>\n      <th>2</th>\n      <td>Queensland</td>\n      <td>16515.309330</td>\n    </tr>\n    <tr>\n      <th>3</th>\n      <td>South Australia</td>\n      <td>5064.287140</td>\n    </tr>\n    <tr>\n      <th>4</th>\n      <td>Western Australia</td>\n      <td>11498.128840</td>\n    </tr>\n    <tr>\n      <th>5</th>\n      <td>Tasmania</td>\n      <td>3687.193909</td>\n    </tr>\n    <tr>\n      <th>6</th>\n      <td>Northern Territory</td>\n      <td>941.021873</td>\n    </tr>\n    <tr>\n      <th>7</th>\n      <td>Australian Capital Territory</td>\n      <td>1030.624947</td>\n    </tr>\n  </tbody>\n</table>\n</div>"
     },
     "metadata": {},
     "execution_count": 9
    }
   ],
   "source": [
    "# Location table 2\n",
    "discouragedjobseekers_location_file = \"discouragedjobseekers_location.csv\"\n",
    "discouragedjobseekers_location_df = pd.read_csv(discouragedjobseekers_location_file)\n",
    "discouragedjobseekers_location_df"
   ]
  },
  {
   "cell_type": "code",
   "execution_count": 10,
   "metadata": {},
   "outputs": [
    {
     "output_type": "execute_result",
     "data": {
      "text/plain": [
       "                state_territory  job_vacancies\n",
       "0               New South Wales        62200.0\n",
       "1                      Victoria        45800.0\n",
       "2                    Queensland        42100.0\n",
       "3               South Australia        12500.0\n",
       "4             Western Australia        32200.0\n",
       "5                      Tasmania         3400.0\n",
       "6            Northern Territory         4200.0\n",
       "7  Australian Capital Territory         5600.0"
      ],
      "text/html": "<div>\n<style scoped>\n    .dataframe tbody tr th:only-of-type {\n        vertical-align: middle;\n    }\n\n    .dataframe tbody tr th {\n        vertical-align: top;\n    }\n\n    .dataframe thead th {\n        text-align: right;\n    }\n</style>\n<table border=\"1\" class=\"dataframe\">\n  <thead>\n    <tr style=\"text-align: right;\">\n      <th></th>\n      <th>state_territory</th>\n      <th>job_vacancies</th>\n    </tr>\n  </thead>\n  <tbody>\n    <tr>\n      <th>0</th>\n      <td>New South Wales</td>\n      <td>62200.0</td>\n    </tr>\n    <tr>\n      <th>1</th>\n      <td>Victoria</td>\n      <td>45800.0</td>\n    </tr>\n    <tr>\n      <th>2</th>\n      <td>Queensland</td>\n      <td>42100.0</td>\n    </tr>\n    <tr>\n      <th>3</th>\n      <td>South Australia</td>\n      <td>12500.0</td>\n    </tr>\n    <tr>\n      <th>4</th>\n      <td>Western Australia</td>\n      <td>32200.0</td>\n    </tr>\n    <tr>\n      <th>5</th>\n      <td>Tasmania</td>\n      <td>3400.0</td>\n    </tr>\n    <tr>\n      <th>6</th>\n      <td>Northern Territory</td>\n      <td>4200.0</td>\n    </tr>\n    <tr>\n      <th>7</th>\n      <td>Australian Capital Territory</td>\n      <td>5600.0</td>\n    </tr>\n  </tbody>\n</table>\n</div>"
     },
     "metadata": {},
     "execution_count": 10
    }
   ],
   "source": [
    "# Location table 3\n",
    "jobvacancies_location_file = \"jobvacancies_location.csv\"\n",
    "jobvacancies_location_df = pd.read_csv(jobvacancies_location_file)\n",
    "jobvacancies_location_df"
   ]
  },
  {
   "cell_type": "markdown",
   "metadata": {},
   "source": [
    "### Transform Age DataFrame"
   ]
  },
  {
   "cell_type": "code",
   "execution_count": 5,
   "metadata": {},
   "outputs": [
    {
     "output_type": "execute_result",
     "data": {
      "text/plain": [
       "     age_range  employed_persons  unemployed_persons\n",
       "0        15–24     766080.548540       280609.476330\n",
       "1        25–34     719317.648040       141133.510360\n",
       "2        35–44     451446.414030       101719.039580\n",
       "3        45–54     280302.309780        91847.764009\n",
       "4  55 and over     191166.216815        90273.962947"
      ],
      "text/html": "<div>\n<style scoped>\n    .dataframe tbody tr th:only-of-type {\n        vertical-align: middle;\n    }\n\n    .dataframe tbody tr th {\n        vertical-align: top;\n    }\n\n    .dataframe thead th {\n        text-align: right;\n    }\n</style>\n<table border=\"1\" class=\"dataframe\">\n  <thead>\n    <tr style=\"text-align: right;\">\n      <th></th>\n      <th>age_range</th>\n      <th>employed_persons</th>\n      <th>unemployed_persons</th>\n    </tr>\n  </thead>\n  <tbody>\n    <tr>\n      <th>0</th>\n      <td>15–24</td>\n      <td>766080.548540</td>\n      <td>280609.476330</td>\n    </tr>\n    <tr>\n      <th>1</th>\n      <td>25–34</td>\n      <td>719317.648040</td>\n      <td>141133.510360</td>\n    </tr>\n    <tr>\n      <th>2</th>\n      <td>35–44</td>\n      <td>451446.414030</td>\n      <td>101719.039580</td>\n    </tr>\n    <tr>\n      <th>3</th>\n      <td>45–54</td>\n      <td>280302.309780</td>\n      <td>91847.764009</td>\n    </tr>\n    <tr>\n      <th>4</th>\n      <td>55 and over</td>\n      <td>191166.216815</td>\n      <td>90273.962947</td>\n    </tr>\n  </tbody>\n</table>\n</div>"
     },
     "metadata": {},
     "execution_count": 5
    }
   ],
   "source": [
    "# Trim age table 1 columns and combine bottom rows\n",
    "employedunemployed_age_df = employed_vs_unemployed_by_age_df[['age_range', 'employed_persons', 'unemployed_persons']].copy()\n",
    "employedunemployed_age_df.at[4,'age_range']= \"55 and over\"\n",
    "employed_age= employedunemployed_age_df.iloc[4]['employed_persons'] + employedunemployed_age_df.iloc[5]['employed_persons']\n",
    "unemployed_age= employedunemployed_age_df.iloc[4]['unemployed_persons'] + employedunemployed_age_df.iloc[5]['unemployed_persons']\n",
    "employedunemployed_age_df.at[4,'employed_persons'] = employed_age\n",
    "employedunemployed_age_df.at[4,'unemployed_persons'] = unemployed_age\n",
    "employedunemployed_age_clean = employedunemployed_age_df[:-1].copy()\n",
    "employedunemployed_age_clean"
   ]
  },
  {
   "cell_type": "code",
   "execution_count": 6,
   "metadata": {},
   "outputs": [
    {
     "output_type": "execute_result",
     "data": {
      "text/plain": [
       "     age_range  discouraged_jobseekers\n",
       "0        15–24            19127.603453\n",
       "1        25–34            10210.574674\n",
       "2        35–44            12010.948635\n",
       "3        45–54             8337.623604\n",
       "4  55 and over            54009.484316"
      ],
      "text/html": "<div>\n<style scoped>\n    .dataframe tbody tr th:only-of-type {\n        vertical-align: middle;\n    }\n\n    .dataframe tbody tr th {\n        vertical-align: top;\n    }\n\n    .dataframe thead th {\n        text-align: right;\n    }\n</style>\n<table border=\"1\" class=\"dataframe\">\n  <thead>\n    <tr style=\"text-align: right;\">\n      <th></th>\n      <th>age_range</th>\n      <th>discouraged_jobseekers</th>\n    </tr>\n  </thead>\n  <tbody>\n    <tr>\n      <th>0</th>\n      <td>15–24</td>\n      <td>19127.603453</td>\n    </tr>\n    <tr>\n      <th>1</th>\n      <td>25–34</td>\n      <td>10210.574674</td>\n    </tr>\n    <tr>\n      <th>2</th>\n      <td>35–44</td>\n      <td>12010.948635</td>\n    </tr>\n    <tr>\n      <th>3</th>\n      <td>45–54</td>\n      <td>8337.623604</td>\n    </tr>\n    <tr>\n      <th>4</th>\n      <td>55 and over</td>\n      <td>54009.484316</td>\n    </tr>\n  </tbody>\n</table>\n</div>"
     },
     "metadata": {},
     "execution_count": 6
    }
   ],
   "source": [
    "# tage table 2 combine botttom rows\n",
    "discouragedjobseekers_age_df.at[4,'age_range']= \"55 and over\"\n",
    "discouragedjobseekers_age_df\n",
    "discouraged_lastage= discouragedjobseekers_age_df.iloc[4]['discouraged_jobseekers'] + discouragedjobseekers_age_df.iloc[5]['discouraged_jobseekers']\n",
    "discouragedjobseekers_age_df.at[4,'discouraged_jobseekers'] = discouraged_lastage\n",
    "discouragedjobseekers_age_clean = discouragedjobseekers_age_df[:-1].copy()\n",
    "discouragedjobseekers_age_clean"
   ]
  },
  {
   "cell_type": "code",
   "execution_count": 7,
   "metadata": {},
   "outputs": [
    {
     "output_type": "execute_result",
     "data": {
      "text/plain": [
       "     age_range  employed_persons  unemployed_persons  discouraged_jobseekers  \\\n",
       "0        15–24     766080.548540       280609.476330            19127.603453   \n",
       "1        25–34     719317.648040       141133.510360            10210.574674   \n",
       "2        35–44     451446.414030       101719.039580            12010.948635   \n",
       "3        45–54     280302.309780        91847.764009             8337.623604   \n",
       "4  55 and over     191166.216815        90273.962947            54009.484316   \n",
       "\n",
       "   too_many_applicants  \n",
       "0             46734.44  \n",
       "1             62200.00  \n",
       "2             21908.10  \n",
       "3             13232.70  \n",
       "4              9518.45  "
      ],
      "text/html": "<div>\n<style scoped>\n    .dataframe tbody tr th:only-of-type {\n        vertical-align: middle;\n    }\n\n    .dataframe tbody tr th {\n        vertical-align: top;\n    }\n\n    .dataframe thead th {\n        text-align: right;\n    }\n</style>\n<table border=\"1\" class=\"dataframe\">\n  <thead>\n    <tr style=\"text-align: right;\">\n      <th></th>\n      <th>age_range</th>\n      <th>employed_persons</th>\n      <th>unemployed_persons</th>\n      <th>discouraged_jobseekers</th>\n      <th>too_many_applicants</th>\n    </tr>\n  </thead>\n  <tbody>\n    <tr>\n      <th>0</th>\n      <td>15–24</td>\n      <td>766080.548540</td>\n      <td>280609.476330</td>\n      <td>19127.603453</td>\n      <td>46734.44</td>\n    </tr>\n    <tr>\n      <th>1</th>\n      <td>25–34</td>\n      <td>719317.648040</td>\n      <td>141133.510360</td>\n      <td>10210.574674</td>\n      <td>62200.00</td>\n    </tr>\n    <tr>\n      <th>2</th>\n      <td>35–44</td>\n      <td>451446.414030</td>\n      <td>101719.039580</td>\n      <td>12010.948635</td>\n      <td>21908.10</td>\n    </tr>\n    <tr>\n      <th>3</th>\n      <td>45–54</td>\n      <td>280302.309780</td>\n      <td>91847.764009</td>\n      <td>8337.623604</td>\n      <td>13232.70</td>\n    </tr>\n    <tr>\n      <th>4</th>\n      <td>55 and over</td>\n      <td>191166.216815</td>\n      <td>90273.962947</td>\n      <td>54009.484316</td>\n      <td>9518.45</td>\n    </tr>\n  </tbody>\n</table>\n</div>"
     },
     "metadata": {},
     "execution_count": 7
    }
   ],
   "source": [
    "# Merge 3 Age tables\n",
    "age3 = employedunemployed_age_clean.merge(discouragedjobseekers_age_clean, on='age_range')\n",
    "age4 = age3.merge(main_diff_by_age_range_clean, on='age_range')\n",
    "jobseekers_challenge_by_age = age4\n",
    "jobseekers_challenge_by_age"
   ]
  },
  {
   "cell_type": "markdown",
   "metadata": {},
   "source": [
    "### Transform Location DataFrame"
   ]
  },
  {
   "cell_type": "code",
   "execution_count": 16,
   "metadata": {},
   "outputs": [
    {
     "output_type": "execute_result",
     "data": {
      "text/plain": [
       "                state_territory  employed_persons  unemployed_persons\n",
       "0               New South Wales     742741.386360       202731.287300\n",
       "1                      Victoria     679442.717440       186136.407720\n",
       "2                    Queensland     458242.355490       155754.566260\n",
       "3               South Australia     152594.924420        54482.061695\n",
       "4             Western Australia     257909.553370        77630.746028\n",
       "5                      Tasmania      45018.622634        14647.767093\n",
       "6            Northern Territory      24434.236747         6753.621923\n",
       "7  Australian Capital Territory      47929.340738         7447.295202"
      ],
      "text/html": "<div>\n<style scoped>\n    .dataframe tbody tr th:only-of-type {\n        vertical-align: middle;\n    }\n\n    .dataframe tbody tr th {\n        vertical-align: top;\n    }\n\n    .dataframe thead th {\n        text-align: right;\n    }\n</style>\n<table border=\"1\" class=\"dataframe\">\n  <thead>\n    <tr style=\"text-align: right;\">\n      <th></th>\n      <th>state_territory</th>\n      <th>employed_persons</th>\n      <th>unemployed_persons</th>\n    </tr>\n  </thead>\n  <tbody>\n    <tr>\n      <th>0</th>\n      <td>New South Wales</td>\n      <td>742741.386360</td>\n      <td>202731.287300</td>\n    </tr>\n    <tr>\n      <th>1</th>\n      <td>Victoria</td>\n      <td>679442.717440</td>\n      <td>186136.407720</td>\n    </tr>\n    <tr>\n      <th>2</th>\n      <td>Queensland</td>\n      <td>458242.355490</td>\n      <td>155754.566260</td>\n    </tr>\n    <tr>\n      <th>3</th>\n      <td>South Australia</td>\n      <td>152594.924420</td>\n      <td>54482.061695</td>\n    </tr>\n    <tr>\n      <th>4</th>\n      <td>Western Australia</td>\n      <td>257909.553370</td>\n      <td>77630.746028</td>\n    </tr>\n    <tr>\n      <th>5</th>\n      <td>Tasmania</td>\n      <td>45018.622634</td>\n      <td>14647.767093</td>\n    </tr>\n    <tr>\n      <th>6</th>\n      <td>Northern Territory</td>\n      <td>24434.236747</td>\n      <td>6753.621923</td>\n    </tr>\n    <tr>\n      <th>7</th>\n      <td>Australian Capital Territory</td>\n      <td>47929.340738</td>\n      <td>7447.295202</td>\n    </tr>\n  </tbody>\n</table>\n</div>"
     },
     "metadata": {},
     "execution_count": 16
    }
   ],
   "source": [
    "# Trim location table 1 columns\n",
    "employed_vs_unemployed_by_state_df = employed_vs_unemployed_by_state_df[['state_territory', 'employed_persons', 'unemployed_persons']].copy()\n",
    "employed_vs_unemployed_by_state_df"
   ]
  },
  {
   "cell_type": "code",
   "execution_count": 17,
   "metadata": {},
   "outputs": [
    {
     "output_type": "execute_result",
     "data": {
      "text/plain": [
       "                state_territory  employed_persons  unemployed_persons  \\\n",
       "0               New South Wales     742741.386360       202731.287300   \n",
       "1                      Victoria     679442.717440       186136.407720   \n",
       "2                    Queensland     458242.355490       155754.566260   \n",
       "3               South Australia     152594.924420        54482.061695   \n",
       "4             Western Australia     257909.553370        77630.746028   \n",
       "5                      Tasmania      45018.622634        14647.767093   \n",
       "6            Northern Territory      24434.236747         6753.621923   \n",
       "7  Australian Capital Territory      47929.340738         7447.295202   \n",
       "\n",
       "   discouraged_jobseekers  job_vacancies  \n",
       "0            35294.443384        62200.0  \n",
       "1            29665.225257        45800.0  \n",
       "2            16515.309330        42100.0  \n",
       "3             5064.287140        12500.0  \n",
       "4            11498.128840        32200.0  \n",
       "5             3687.193909         3400.0  \n",
       "6              941.021873         4200.0  \n",
       "7             1030.624947         5600.0  "
      ],
      "text/html": "<div>\n<style scoped>\n    .dataframe tbody tr th:only-of-type {\n        vertical-align: middle;\n    }\n\n    .dataframe tbody tr th {\n        vertical-align: top;\n    }\n\n    .dataframe thead th {\n        text-align: right;\n    }\n</style>\n<table border=\"1\" class=\"dataframe\">\n  <thead>\n    <tr style=\"text-align: right;\">\n      <th></th>\n      <th>state_territory</th>\n      <th>employed_persons</th>\n      <th>unemployed_persons</th>\n      <th>discouraged_jobseekers</th>\n      <th>job_vacancies</th>\n    </tr>\n  </thead>\n  <tbody>\n    <tr>\n      <th>0</th>\n      <td>New South Wales</td>\n      <td>742741.386360</td>\n      <td>202731.287300</td>\n      <td>35294.443384</td>\n      <td>62200.0</td>\n    </tr>\n    <tr>\n      <th>1</th>\n      <td>Victoria</td>\n      <td>679442.717440</td>\n      <td>186136.407720</td>\n      <td>29665.225257</td>\n      <td>45800.0</td>\n    </tr>\n    <tr>\n      <th>2</th>\n      <td>Queensland</td>\n      <td>458242.355490</td>\n      <td>155754.566260</td>\n      <td>16515.309330</td>\n      <td>42100.0</td>\n    </tr>\n    <tr>\n      <th>3</th>\n      <td>South Australia</td>\n      <td>152594.924420</td>\n      <td>54482.061695</td>\n      <td>5064.287140</td>\n      <td>12500.0</td>\n    </tr>\n    <tr>\n      <th>4</th>\n      <td>Western Australia</td>\n      <td>257909.553370</td>\n      <td>77630.746028</td>\n      <td>11498.128840</td>\n      <td>32200.0</td>\n    </tr>\n    <tr>\n      <th>5</th>\n      <td>Tasmania</td>\n      <td>45018.622634</td>\n      <td>14647.767093</td>\n      <td>3687.193909</td>\n      <td>3400.0</td>\n    </tr>\n    <tr>\n      <th>6</th>\n      <td>Northern Territory</td>\n      <td>24434.236747</td>\n      <td>6753.621923</td>\n      <td>941.021873</td>\n      <td>4200.0</td>\n    </tr>\n    <tr>\n      <th>7</th>\n      <td>Australian Capital Territory</td>\n      <td>47929.340738</td>\n      <td>7447.295202</td>\n      <td>1030.624947</td>\n      <td>5600.0</td>\n    </tr>\n  </tbody>\n</table>\n</div>"
     },
     "metadata": {},
     "execution_count": 17
    }
   ],
   "source": [
    "# merge location columns\n",
    "location3 = employed_vs_unemployed_by_state_df.merge(discouragedjobseekers_location_df, on='state_territory')\n",
    "location4 = location3.merge(jobvacancies_location_df, on='state_territory')\n",
    "location4\n",
    "jobseekers_challenge_by_location = location4\n",
    "jobseekers_challenge_by_location"
   ]
  },
  {
   "cell_type": "markdown",
   "metadata": {},
   "source": [
    "### Create database connection"
   ]
  },
  {
   "cell_type": "code",
   "execution_count": null,
   "metadata": {},
   "outputs": [],
   "source": [
    "# connection_string = \"postgres:postgres@localhost:5432/customer_db\"\n",
    "# engine = create_engine(f'postgresql://{connection_string}')"
   ]
  },
  {
   "cell_type": "code",
   "execution_count": null,
   "metadata": {},
   "outputs": [],
   "source": [
    "# Confirm tables\n",
    "engine.table_names()"
   ]
  },
  {
   "cell_type": "markdown",
   "metadata": {},
   "source": [
    "### Load DataFrames into database"
   ]
  },
  {
   "cell_type": "code",
   "execution_count": null,
   "metadata": {},
   "outputs": [],
   "source": [
    "premise_transformed.to_sql(name='premise', con=engine, if_exists='append', index=True)"
   ]
  },
  {
   "cell_type": "code",
   "execution_count": null,
   "metadata": {},
   "outputs": [],
   "source": [
    "county_transformed.to_sql(name='county', con=engine, if_exists='append', index=True)"
   ]
  },
  {
   "cell_type": "code",
   "execution_count": null,
   "metadata": {},
   "outputs": [],
   "source": []
  }
 ],
 "metadata": {
  "kernelspec": {
   "display_name": "Python 3",
   "language": "python",
   "name": "python3"
  },
  "language_info": {
   "codemirror_mode": {
    "name": "ipython",
    "version": 3
   },
   "file_extension": ".py",
   "mimetype": "text/x-python",
   "name": "python",
   "nbconvert_exporter": "python",
   "pygments_lexer": "ipython3",
   "version": "3.8.3-final"
  }
 },
 "nbformat": 4,
 "nbformat_minor": 2
}