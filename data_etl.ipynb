{
  "cells": [
    {
      "cell_type": "code",
      "source": [
        "import pandas as pd\n",
        "from sqlalchemy import create_engine"
      ],
      "outputs": [],
      "execution_count": 2,
      "metadata": {}
    },
    {
      "cell_type": "markdown",
      "source": [],
      "metadata": {
        "slideshow": {
          "slide_type": "-"
        }
      }
    },
    {
      "cell_type": "code",
      "source": [
        "csv_file = \"employed_vs_unemployed_by_age.csv\"\n",
        "customer_data_df = pd.read_csv(csv_file)\n",
        "customer_data_df.head()"
      ],
      "outputs": [
        {
          "output_type": "execute_result",
          "data": {
            "text/plain": [
              "     Age  Unemployed Males  Unemployed Females  Unemployed Persons  \\\n",
              "0  15–24        159.565385          121.044091          280.609476   \n",
              "1  25–34         74.594166           66.539344          141.133510   \n",
              "2  35–44         51.645724           50.073316          101.719040   \n",
              "3  45–54         44.478867           47.368897           91.847764   \n",
              "4  55–64         43.499937           35.048634           78.548571   \n",
              "\n",
              "   Employed Males  Employed Females  Employed Persons  \n",
              "0      380.401490        385.679059        766.080549  \n",
              "1      367.450979        351.866669        719.317648  \n",
              "2      241.445846        210.000568        451.446414  \n",
              "3      142.725985        137.576324        280.302310  \n",
              "4       87.621948         80.653175        168.275124  "
            ],
            "text/html": "<div>\n<style scoped>\n    .dataframe tbody tr th:only-of-type {\n        vertical-align: middle;\n    }\n\n    .dataframe tbody tr th {\n        vertical-align: top;\n    }\n\n    .dataframe thead th {\n        text-align: right;\n    }\n</style>\n<table border=\"1\" class=\"dataframe\">\n  <thead>\n    <tr style=\"text-align: right;\">\n      <th></th>\n      <th>Age</th>\n      <th>Unemployed Males</th>\n      <th>Unemployed Females</th>\n      <th>Unemployed Persons</th>\n      <th>Employed Males</th>\n      <th>Employed Females</th>\n      <th>Employed Persons</th>\n    </tr>\n  </thead>\n  <tbody>\n    <tr>\n      <th>0</th>\n      <td>15–24</td>\n      <td>159.565385</td>\n      <td>121.044091</td>\n      <td>280.609476</td>\n      <td>380.401490</td>\n      <td>385.679059</td>\n      <td>766.080549</td>\n    </tr>\n    <tr>\n      <th>1</th>\n      <td>25–34</td>\n      <td>74.594166</td>\n      <td>66.539344</td>\n      <td>141.133510</td>\n      <td>367.450979</td>\n      <td>351.866669</td>\n      <td>719.317648</td>\n    </tr>\n    <tr>\n      <th>2</th>\n      <td>35–44</td>\n      <td>51.645724</td>\n      <td>50.073316</td>\n      <td>101.719040</td>\n      <td>241.445846</td>\n      <td>210.000568</td>\n      <td>451.446414</td>\n    </tr>\n    <tr>\n      <th>3</th>\n      <td>45–54</td>\n      <td>44.478867</td>\n      <td>47.368897</td>\n      <td>91.847764</td>\n      <td>142.725985</td>\n      <td>137.576324</td>\n      <td>280.302310</td>\n    </tr>\n    <tr>\n      <th>4</th>\n      <td>55–64</td>\n      <td>43.499937</td>\n      <td>35.048634</td>\n      <td>78.548571</td>\n      <td>87.621948</td>\n      <td>80.653175</td>\n      <td>168.275124</td>\n    </tr>\n  </tbody>\n</table>\n</div>"
          },
          "metadata": {},
          "execution_count": 4
        }
      ],
      "execution_count": 4,
      "metadata": {}
    },
    {
      "cell_type": "markdown",
      "source": [
        "### Connect to local database"
      ],
      "metadata": {}
    },
    {
      "cell_type": "code",
      "source": [
        "rds_connection_string = \"postgres:postgres>@localhost:5432/customer_db\"\n",
        "engine = create_engine(f'postgresql://{rds_connection_string}')"
      ],
      "outputs": [],
      "execution_count": 19,
      "metadata": {}
    },
    {
      "cell_type": "code",
      "execution_count": 21,
      "metadata": {},
      "outputs": [],
      "source": []
    },
    {
      "cell_type": "markdown",
      "source": [
        "### Check for tables"
      ],
      "metadata": {}
    },
    {
      "cell_type": "code",
      "source": [
        "engine.table_names()"
      ],
      "outputs": [
        {
          "output_type": "error",
          "ename": "NameError",
          "evalue": "name 'engine' is not defined",
          "traceback": [
            "\u001b[1;31m---------------------------------------------------------------------------\u001b[0m",
            "\u001b[1;31mNameError\u001b[0m                                 Traceback (most recent call last)",
            "\u001b[1;32m<ipython-input-5-d72bc75a6b62>\u001b[0m in \u001b[0;36m<module>\u001b[1;34m\u001b[0m\n\u001b[1;32m----> 1\u001b[1;33m \u001b[0mengine\u001b[0m\u001b[1;33m.\u001b[0m\u001b[0mtable_names\u001b[0m\u001b[1;33m(\u001b[0m\u001b[1;33m)\u001b[0m\u001b[1;33m\u001b[0m\u001b[1;33m\u001b[0m\u001b[0m\n\u001b[0m",
            "\u001b[1;31mNameError\u001b[0m: name 'engine' is not defined"
          ]
        }
      ],
      "execution_count": 5,
      "metadata": {}
    },
    {
      "cell_type": "markdown",
      "source": [
        "### Use pandas to load csv converted DataFrame into database"
      ],
      "metadata": {}
    },
    {
      "cell_type": "code",
      "source": [
        "new_customer_data_df.to_sql(name='customer_name', con=engine, if_exists='append', index=False)"
      ],
      "outputs": [],
      "execution_count": 8,
      "metadata": {}
    },
    {
      "cell_type": "markdown",
      "source": [
        "### Use pandas to load json converted DataFrame into database"
      ],
      "metadata": {}
    },
    {
      "cell_type": "code",
      "source": [
        "new_customer_location_df.to_sql(name='customer_location', con=engine, if_exists='append', index=False)"
      ],
      "outputs": [],
      "execution_count": 9,
      "metadata": {}
    },
    {
      "cell_type": "markdown",
      "source": [
        "### Confirm data has been added by querying the customer_name table\n",
        "* NOTE: can also check using pgAdmin"
      ],
      "metadata": {}
    },
    {
      "cell_type": "code",
      "source": [
        "pd.read_sql_query('select * from customer_name', con=engine).head()"
      ],
      "outputs": [
        {
          "output_type": "execute_result",
          "execution_count": 10,
          "data": {
            "text/html": [
              "<div>\n",
              "<style scoped>\n",
              "    .dataframe tbody tr th:only-of-type {\n",
              "        vertical-align: middle;\n",
              "    }\n",
              "\n",
              "    .dataframe tbody tr th {\n",
              "        vertical-align: top;\n",
              "    }\n",
              "\n",
              "    .dataframe thead th {\n",
              "        text-align: right;\n",
              "    }\n",
              "</style>\n",
              "<table border=\"1\" class=\"dataframe\">\n",
              "  <thead>\n",
              "    <tr style=\"text-align: right;\">\n",
              "      <th></th>\n",
              "      <th>id</th>\n",
              "      <th>first_name</th>\n",
              "      <th>last_name</th>\n",
              "    </tr>\n",
              "  </thead>\n",
              "  <tbody>\n",
              "    <tr>\n",
              "      <th>0</th>\n",
              "      <td>1</td>\n",
              "      <td>Benetta</td>\n",
              "      <td>Cancott</td>\n",
              "    </tr>\n",
              "    <tr>\n",
              "      <th>1</th>\n",
              "      <td>2</td>\n",
              "      <td>Lilyan</td>\n",
              "      <td>Cherry</td>\n",
              "    </tr>\n",
              "    <tr>\n",
              "      <th>2</th>\n",
              "      <td>3</td>\n",
              "      <td>Ezekiel</td>\n",
              "      <td>Benasik</td>\n",
              "    </tr>\n",
              "    <tr>\n",
              "      <th>3</th>\n",
              "      <td>4</td>\n",
              "      <td>Kennedy</td>\n",
              "      <td>Atlay</td>\n",
              "    </tr>\n",
              "    <tr>\n",
              "      <th>4</th>\n",
              "      <td>5</td>\n",
              "      <td>Sanford</td>\n",
              "      <td>Salmen</td>\n",
              "    </tr>\n",
              "  </tbody>\n",
              "</table>\n",
              "</div>"
            ],
            "text/plain": [
              "   id first_name last_name\n",
              "0   1    Benetta   Cancott\n",
              "1   2     Lilyan    Cherry\n",
              "2   3    Ezekiel   Benasik\n",
              "3   4    Kennedy     Atlay\n",
              "4   5    Sanford    Salmen"
            ]
          },
          "metadata": {}
        }
      ],
      "execution_count": 10,
      "metadata": {}
    },
    {
      "cell_type": "markdown",
      "source": [
        "### Confirm data has been added by querying the customer_location table"
      ],
      "metadata": {}
    },
    {
      "cell_type": "code",
      "source": [
        "pd.read_sql_query('select * from customer_location', con=engine).head()"
      ],
      "outputs": [
        {
          "output_type": "execute_result",
          "execution_count": 11,
          "data": {
            "text/html": [
              "<div>\n",
              "<style scoped>\n",
              "    .dataframe tbody tr th:only-of-type {\n",
              "        vertical-align: middle;\n",
              "    }\n",
              "\n",
              "    .dataframe tbody tr th {\n",
              "        vertical-align: top;\n",
              "    }\n",
              "\n",
              "    .dataframe thead th {\n",
              "        text-align: right;\n",
              "    }\n",
              "</style>\n",
              "<table border=\"1\" class=\"dataframe\">\n",
              "  <thead>\n",
              "    <tr style=\"text-align: right;\">\n",
              "      <th></th>\n",
              "      <th>id</th>\n",
              "      <th>address</th>\n",
              "      <th>us_state</th>\n",
              "    </tr>\n",
              "  </thead>\n",
              "  <tbody>\n",
              "    <tr>\n",
              "      <th>0</th>\n",
              "      <td>1</td>\n",
              "      <td>043 Mockingbird Place</td>\n",
              "      <td>Indiana</td>\n",
              "    </tr>\n",
              "    <tr>\n",
              "      <th>1</th>\n",
              "      <td>2</td>\n",
              "      <td>4 Prentice Point</td>\n",
              "      <td>Indiana</td>\n",
              "    </tr>\n",
              "    <tr>\n",
              "      <th>2</th>\n",
              "      <td>3</td>\n",
              "      <td>46 Derek Junction</td>\n",
              "      <td>Texas</td>\n",
              "    </tr>\n",
              "    <tr>\n",
              "      <th>3</th>\n",
              "      <td>4</td>\n",
              "      <td>11966 Old Shore Place</td>\n",
              "      <td>Missouri</td>\n",
              "    </tr>\n",
              "    <tr>\n",
              "      <th>4</th>\n",
              "      <td>5</td>\n",
              "      <td>5 Evergreen Circle</td>\n",
              "      <td>New York</td>\n",
              "    </tr>\n",
              "  </tbody>\n",
              "</table>\n",
              "</div>"
            ],
            "text/plain": [
              "   id                address  us_state\n",
              "0   1  043 Mockingbird Place   Indiana\n",
              "1   2       4 Prentice Point   Indiana\n",
              "2   3      46 Derek Junction     Texas\n",
              "3   4  11966 Old Shore Place  Missouri\n",
              "4   5     5 Evergreen Circle  New York"
            ]
          },
          "metadata": {}
        }
      ],
      "execution_count": 11,
      "metadata": {}
    },
    {
      "cell_type": "code",
      "source": [],
      "outputs": [],
      "execution_count": null,
      "metadata": {}
    }
  ],
  "metadata": {
    "kernelspec": {
      "name": "python3",
      "display_name": "Python 3.8.5 64-bit (conda)",
      "metadata": {
        "interpreter": {
          "hash": "2c3c5b7e521ed385cd317e5adc75c961fe301f41d1ed6ee19f28764a4ab100bf"
        }
      }
    },
    "language_info": {
      "codemirror_mode": {
        "name": "ipython",
        "version": 3
      },
      "file_extension": ".py",
      "mimetype": "text/x-python",
      "name": "python",
      "nbconvert_exporter": "python",
      "pygments_lexer": "ipython3",
      "version": "3.8.5-final"
    },
    "nteract": {
      "version": "0.12.3"
    }
  },
  "nbformat": 4,
  "nbformat_minor": 2
}