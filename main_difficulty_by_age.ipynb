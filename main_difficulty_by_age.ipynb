{
 "metadata": {
  "language_info": {
   "codemirror_mode": {
    "name": "ipython",
    "version": 3
   },
   "file_extension": ".py",
   "mimetype": "text/x-python",
   "name": "python",
   "nbconvert_exporter": "python",
   "pygments_lexer": "ipython3",
   "version": "3.8.5-final"
  },
  "orig_nbformat": 2,
  "kernelspec": {
   "name": "python3",
   "display_name": "Python 3.8.5 64-bit (conda)",
   "metadata": {
    "interpreter": {
     "hash": "2c3c5b7e521ed385cd317e5adc75c961fe301f41d1ed6ee19f28764a4ab100bf"
    }
   }
  }
 },
 "nbformat": 4,
 "nbformat_minor": 2,
 "cells": [
  {
   "cell_type": "code",
   "execution_count": 49,
   "metadata": {},
   "outputs": [],
   "source": [
    "import pandas as pd\n",
    "import numpy as np\n"
   ]
  },
  {
   "cell_type": "code",
   "execution_count": 50,
   "metadata": {},
   "outputs": [
    {
     "output_type": "execute_result",
     "data": {
      "text/plain": [
       "                     Australian Bureau of Statistics  Unnamed: 1  \\\n",
       "0  6226.0 Participation, Job Search and Mobility,...         NaN   \n",
       "1  Released at 11:30 am (Canberra time) Mon 10 Au...         NaN   \n",
       "2  Table 16.1 Main difficulty in finding work by ...         NaN   \n",
       "3                                                NaN         NaN   \n",
       "4                                                NaN         NaN   \n",
       "5                                                NaN         NaN   \n",
       "6                    Main difficulty in finding work         NaN   \n",
       "7                        Had difficulty finding work         NaN   \n",
       "8             Too many applicants for available jobs         NaN   \n",
       "9               Lacked necessary skills or education         NaN   \n",
       "\n",
       "          Unnamed: 2 Unnamed: 3 Unnamed: 4 Unnamed: 5   Unnamed: 6 Unnamed: 7  \\\n",
       "0                NaN        NaN        NaN        NaN          NaN        NaN   \n",
       "1                NaN        NaN        NaN        NaN          NaN        NaN   \n",
       "2                NaN        NaN        NaN        NaN          NaN        NaN   \n",
       "3  AGE GROUP (YEARS)        NaN        NaN        NaN          NaN        SEX   \n",
       "4              15–24      25–34      35–44      45–54  55 and over      Males   \n",
       "5               '000       '000       '000       '000         '000       '000   \n",
       "6                NaN        NaN        NaN        NaN          NaN        NaN   \n",
       "7            240.158    119.005    89.5895    81.8611      81.7914    331.158   \n",
       "8            46.7344    20.4862    21.9081    13.2327      9.51845    62.8826   \n",
       "9            21.6786    14.2312    3.39693    5.91124       5.4021     25.604   \n",
       "\n",
       "  Unnamed: 8 Unnamed: 9  \n",
       "0        NaN        NaN  \n",
       "1        NaN        NaN  \n",
       "2        NaN        NaN  \n",
       "3        NaN        NaN  \n",
       "4    Females    Persons  \n",
       "5       '000       '000  \n",
       "6        NaN        NaN  \n",
       "7    281.248    612.405  \n",
       "8    48.9972     111.88  \n",
       "9    25.0161    50.6201  "
      ],
      "text/html": "<div>\n<style scoped>\n    .dataframe tbody tr th:only-of-type {\n        vertical-align: middle;\n    }\n\n    .dataframe tbody tr th {\n        vertical-align: top;\n    }\n\n    .dataframe thead th {\n        text-align: right;\n    }\n</style>\n<table border=\"1\" class=\"dataframe\">\n  <thead>\n    <tr style=\"text-align: right;\">\n      <th></th>\n      <th>Australian Bureau of Statistics</th>\n      <th>Unnamed: 1</th>\n      <th>Unnamed: 2</th>\n      <th>Unnamed: 3</th>\n      <th>Unnamed: 4</th>\n      <th>Unnamed: 5</th>\n      <th>Unnamed: 6</th>\n      <th>Unnamed: 7</th>\n      <th>Unnamed: 8</th>\n      <th>Unnamed: 9</th>\n    </tr>\n  </thead>\n  <tbody>\n    <tr>\n      <th>0</th>\n      <td>6226.0 Participation, Job Search and Mobility,...</td>\n      <td>NaN</td>\n      <td>NaN</td>\n      <td>NaN</td>\n      <td>NaN</td>\n      <td>NaN</td>\n      <td>NaN</td>\n      <td>NaN</td>\n      <td>NaN</td>\n      <td>NaN</td>\n    </tr>\n    <tr>\n      <th>1</th>\n      <td>Released at 11:30 am (Canberra time) Mon 10 Au...</td>\n      <td>NaN</td>\n      <td>NaN</td>\n      <td>NaN</td>\n      <td>NaN</td>\n      <td>NaN</td>\n      <td>NaN</td>\n      <td>NaN</td>\n      <td>NaN</td>\n      <td>NaN</td>\n    </tr>\n    <tr>\n      <th>2</th>\n      <td>Table 16.1 Main difficulty in finding work by ...</td>\n      <td>NaN</td>\n      <td>NaN</td>\n      <td>NaN</td>\n      <td>NaN</td>\n      <td>NaN</td>\n      <td>NaN</td>\n      <td>NaN</td>\n      <td>NaN</td>\n      <td>NaN</td>\n    </tr>\n    <tr>\n      <th>3</th>\n      <td>NaN</td>\n      <td>NaN</td>\n      <td>AGE GROUP (YEARS)</td>\n      <td>NaN</td>\n      <td>NaN</td>\n      <td>NaN</td>\n      <td>NaN</td>\n      <td>SEX</td>\n      <td>NaN</td>\n      <td>NaN</td>\n    </tr>\n    <tr>\n      <th>4</th>\n      <td>NaN</td>\n      <td>NaN</td>\n      <td>15–24</td>\n      <td>25–34</td>\n      <td>35–44</td>\n      <td>45–54</td>\n      <td>55 and over</td>\n      <td>Males</td>\n      <td>Females</td>\n      <td>Persons</td>\n    </tr>\n    <tr>\n      <th>5</th>\n      <td>NaN</td>\n      <td>NaN</td>\n      <td>'000</td>\n      <td>'000</td>\n      <td>'000</td>\n      <td>'000</td>\n      <td>'000</td>\n      <td>'000</td>\n      <td>'000</td>\n      <td>'000</td>\n    </tr>\n    <tr>\n      <th>6</th>\n      <td>Main difficulty in finding work</td>\n      <td>NaN</td>\n      <td>NaN</td>\n      <td>NaN</td>\n      <td>NaN</td>\n      <td>NaN</td>\n      <td>NaN</td>\n      <td>NaN</td>\n      <td>NaN</td>\n      <td>NaN</td>\n    </tr>\n    <tr>\n      <th>7</th>\n      <td>Had difficulty finding work</td>\n      <td>NaN</td>\n      <td>240.158</td>\n      <td>119.005</td>\n      <td>89.5895</td>\n      <td>81.8611</td>\n      <td>81.7914</td>\n      <td>331.158</td>\n      <td>281.248</td>\n      <td>612.405</td>\n    </tr>\n    <tr>\n      <th>8</th>\n      <td>Too many applicants for available jobs</td>\n      <td>NaN</td>\n      <td>46.7344</td>\n      <td>20.4862</td>\n      <td>21.9081</td>\n      <td>13.2327</td>\n      <td>9.51845</td>\n      <td>62.8826</td>\n      <td>48.9972</td>\n      <td>111.88</td>\n    </tr>\n    <tr>\n      <th>9</th>\n      <td>Lacked necessary skills or education</td>\n      <td>NaN</td>\n      <td>21.6786</td>\n      <td>14.2312</td>\n      <td>3.39693</td>\n      <td>5.91124</td>\n      <td>5.4021</td>\n      <td>25.604</td>\n      <td>25.0161</td>\n      <td>50.6201</td>\n    </tr>\n  </tbody>\n</table>\n</div>"
     },
     "metadata": {},
     "execution_count": 50
    }
   ],
   "source": [
    "file_name = \"Resources\\Main Difficulty in finding work by age group of unemployed.xls\"\n",
    "df = pd.read_excel(file_name, sheet_name=\"Table 16.1\")\n",
    "df.head(10)\n"
   ]
  },
  {
   "cell_type": "code",
   "execution_count": 51,
   "metadata": {},
   "outputs": [
    {
     "output_type": "execute_result",
     "data": {
      "text/plain": [
       "                      Australian Bureau of Statistics  Unnamed: 1 Unnamed: 2  \\\n",
       "0   6226.0 Participation, Job Search and Mobility,...         NaN        NaN   \n",
       "1   Released at 11:30 am (Canberra time) Mon 10 Au...         NaN        NaN   \n",
       "2   Table 16.1 Main difficulty in finding work by ...         NaN        NaN   \n",
       "6                     Main difficulty in finding work         NaN        NaN   \n",
       "7                         Had difficulty finding work         NaN    240.158   \n",
       "8              Too many applicants for available jobs         NaN    46.7344   \n",
       "9                Lacked necessary skills or education         NaN    21.6786   \n",
       "10       Considered too young or too old by employers         NaN    9.48366   \n",
       "11                  Considered too young by employers         NaN    5.95113   \n",
       "12                    Considered too old by employers         NaN    3.53253   \n",
       "13                       Insufficient work experience         NaN    57.5263   \n",
       "14                                No vacancies at all         NaN    15.9131   \n",
       "15                       No vacancies in line of work         NaN    8.93312   \n",
       "16               Too far to travel/transport problems         NaN    12.8865   \n",
       "17                       Own ill health or disability         NaN    14.9002   \n",
       "18                              Language difficulties         NaN    1.35856   \n",
       "19                                   Unsuitable hours         NaN    11.8411   \n",
       "20  Difficulties with finding childcare and other ...         NaN    1.82282   \n",
       "21                         No feedback from employers         NaN    3.68466   \n",
       "22                                 Other difficulties         NaN    33.3951   \n",
       "23               Did not have difficulty finding work         NaN    40.4514   \n",
       "24                                              Total         NaN    280.609   \n",
       "25                                                NaN         NaN        NaN   \n",
       "26                                                NaN         NaN        NaN   \n",
       "27                   © Commonwealth of Australia 2020         NaN        NaN   \n",
       "\n",
       "   Unnamed: 3 Unnamed: 4 Unnamed: 5 Unnamed: 6 Unnamed: 7 Unnamed: 8  \\\n",
       "0         NaN        NaN        NaN        NaN        NaN        NaN   \n",
       "1         NaN        NaN        NaN        NaN        NaN        NaN   \n",
       "2         NaN        NaN        NaN        NaN        NaN        NaN   \n",
       "6         NaN        NaN        NaN        NaN        NaN        NaN   \n",
       "7     119.005    89.5895    81.8611    81.7914    331.158    281.248   \n",
       "8     20.4862    21.9081    13.2327    9.51845    62.8826    48.9972   \n",
       "9     14.2312    3.39693    5.91124     5.4021     25.604    25.0161   \n",
       "10    2.42123   0.909375     6.9906    28.5424    26.5392    21.8081   \n",
       "11   0.671009          -          -          -    3.35417    3.26798   \n",
       "12    1.75023   0.909375     6.9906    28.5424     23.185    18.5401   \n",
       "13    16.2254    6.03754    3.16761   0.778057    42.8526    40.8823   \n",
       "14    5.07731    4.57682    2.93412    4.14528    19.6673    12.9793   \n",
       "15    4.89334    6.88117    10.7606    6.17881    24.7225    12.9245   \n",
       "16    5.43615    3.19061    3.33686    2.74652    22.4092    5.18742   \n",
       "17     10.695    10.9637    13.0677    8.88243    34.3159    24.1933   \n",
       "18    2.41557    4.44544    3.54547    2.36169    4.51758    9.60915   \n",
       "19      5.971      10.37    4.97441    1.27637    12.8504    21.5825   \n",
       "20    5.30417    5.29949    6.09695   0.657959    5.62373    13.5577   \n",
       "21    1.95561    1.19173    1.71274    1.27363    5.10944    4.70894   \n",
       "22    23.8928    10.4185    6.13019    10.0277    44.0632    39.8012   \n",
       "23    22.1285    12.1295    9.98663    8.48255    49.7492    43.4294   \n",
       "24    141.134    101.719    91.8478     90.274    380.907    324.677   \n",
       "25        NaN        NaN        NaN        NaN        NaN        NaN   \n",
       "26        NaN        NaN        NaN        NaN        NaN        NaN   \n",
       "27        NaN        NaN        NaN        NaN        NaN        NaN   \n",
       "\n",
       "   Unnamed: 9  \n",
       "0         NaN  \n",
       "1         NaN  \n",
       "2         NaN  \n",
       "6         NaN  \n",
       "7     612.405  \n",
       "8      111.88  \n",
       "9     50.6201  \n",
       "10    48.3472  \n",
       "11    6.62214  \n",
       "12    41.7251  \n",
       "13    83.7349  \n",
       "14    32.6466  \n",
       "15     37.647  \n",
       "16    27.5966  \n",
       "17    58.5091  \n",
       "18    14.1267  \n",
       "19    34.4329  \n",
       "20    19.1814  \n",
       "21    9.81837  \n",
       "22    83.8644  \n",
       "23    93.1786  \n",
       "24    705.584  \n",
       "25        NaN  \n",
       "26        NaN  \n",
       "27        NaN  "
      ],
      "text/html": "<div>\n<style scoped>\n    .dataframe tbody tr th:only-of-type {\n        vertical-align: middle;\n    }\n\n    .dataframe tbody tr th {\n        vertical-align: top;\n    }\n\n    .dataframe thead th {\n        text-align: right;\n    }\n</style>\n<table border=\"1\" class=\"dataframe\">\n  <thead>\n    <tr style=\"text-align: right;\">\n      <th></th>\n      <th>Australian Bureau of Statistics</th>\n      <th>Unnamed: 1</th>\n      <th>Unnamed: 2</th>\n      <th>Unnamed: 3</th>\n      <th>Unnamed: 4</th>\n      <th>Unnamed: 5</th>\n      <th>Unnamed: 6</th>\n      <th>Unnamed: 7</th>\n      <th>Unnamed: 8</th>\n      <th>Unnamed: 9</th>\n    </tr>\n  </thead>\n  <tbody>\n    <tr>\n      <th>0</th>\n      <td>6226.0 Participation, Job Search and Mobility,...</td>\n      <td>NaN</td>\n      <td>NaN</td>\n      <td>NaN</td>\n      <td>NaN</td>\n      <td>NaN</td>\n      <td>NaN</td>\n      <td>NaN</td>\n      <td>NaN</td>\n      <td>NaN</td>\n    </tr>\n    <tr>\n      <th>1</th>\n      <td>Released at 11:30 am (Canberra time) Mon 10 Au...</td>\n      <td>NaN</td>\n      <td>NaN</td>\n      <td>NaN</td>\n      <td>NaN</td>\n      <td>NaN</td>\n      <td>NaN</td>\n      <td>NaN</td>\n      <td>NaN</td>\n      <td>NaN</td>\n    </tr>\n    <tr>\n      <th>2</th>\n      <td>Table 16.1 Main difficulty in finding work by ...</td>\n      <td>NaN</td>\n      <td>NaN</td>\n      <td>NaN</td>\n      <td>NaN</td>\n      <td>NaN</td>\n      <td>NaN</td>\n      <td>NaN</td>\n      <td>NaN</td>\n      <td>NaN</td>\n    </tr>\n    <tr>\n      <th>6</th>\n      <td>Main difficulty in finding work</td>\n      <td>NaN</td>\n      <td>NaN</td>\n      <td>NaN</td>\n      <td>NaN</td>\n      <td>NaN</td>\n      <td>NaN</td>\n      <td>NaN</td>\n      <td>NaN</td>\n      <td>NaN</td>\n    </tr>\n    <tr>\n      <th>7</th>\n      <td>Had difficulty finding work</td>\n      <td>NaN</td>\n      <td>240.158</td>\n      <td>119.005</td>\n      <td>89.5895</td>\n      <td>81.8611</td>\n      <td>81.7914</td>\n      <td>331.158</td>\n      <td>281.248</td>\n      <td>612.405</td>\n    </tr>\n    <tr>\n      <th>8</th>\n      <td>Too many applicants for available jobs</td>\n      <td>NaN</td>\n      <td>46.7344</td>\n      <td>20.4862</td>\n      <td>21.9081</td>\n      <td>13.2327</td>\n      <td>9.51845</td>\n      <td>62.8826</td>\n      <td>48.9972</td>\n      <td>111.88</td>\n    </tr>\n    <tr>\n      <th>9</th>\n      <td>Lacked necessary skills or education</td>\n      <td>NaN</td>\n      <td>21.6786</td>\n      <td>14.2312</td>\n      <td>3.39693</td>\n      <td>5.91124</td>\n      <td>5.4021</td>\n      <td>25.604</td>\n      <td>25.0161</td>\n      <td>50.6201</td>\n    </tr>\n    <tr>\n      <th>10</th>\n      <td>Considered too young or too old by employers</td>\n      <td>NaN</td>\n      <td>9.48366</td>\n      <td>2.42123</td>\n      <td>0.909375</td>\n      <td>6.9906</td>\n      <td>28.5424</td>\n      <td>26.5392</td>\n      <td>21.8081</td>\n      <td>48.3472</td>\n    </tr>\n    <tr>\n      <th>11</th>\n      <td>Considered too young by employers</td>\n      <td>NaN</td>\n      <td>5.95113</td>\n      <td>0.671009</td>\n      <td>-</td>\n      <td>-</td>\n      <td>-</td>\n      <td>3.35417</td>\n      <td>3.26798</td>\n      <td>6.62214</td>\n    </tr>\n    <tr>\n      <th>12</th>\n      <td>Considered too old by employers</td>\n      <td>NaN</td>\n      <td>3.53253</td>\n      <td>1.75023</td>\n      <td>0.909375</td>\n      <td>6.9906</td>\n      <td>28.5424</td>\n      <td>23.185</td>\n      <td>18.5401</td>\n      <td>41.7251</td>\n    </tr>\n    <tr>\n      <th>13</th>\n      <td>Insufficient work experience</td>\n      <td>NaN</td>\n      <td>57.5263</td>\n      <td>16.2254</td>\n      <td>6.03754</td>\n      <td>3.16761</td>\n      <td>0.778057</td>\n      <td>42.8526</td>\n      <td>40.8823</td>\n      <td>83.7349</td>\n    </tr>\n    <tr>\n      <th>14</th>\n      <td>No vacancies at all</td>\n      <td>NaN</td>\n      <td>15.9131</td>\n      <td>5.07731</td>\n      <td>4.57682</td>\n      <td>2.93412</td>\n      <td>4.14528</td>\n      <td>19.6673</td>\n      <td>12.9793</td>\n      <td>32.6466</td>\n    </tr>\n    <tr>\n      <th>15</th>\n      <td>No vacancies in line of work</td>\n      <td>NaN</td>\n      <td>8.93312</td>\n      <td>4.89334</td>\n      <td>6.88117</td>\n      <td>10.7606</td>\n      <td>6.17881</td>\n      <td>24.7225</td>\n      <td>12.9245</td>\n      <td>37.647</td>\n    </tr>\n    <tr>\n      <th>16</th>\n      <td>Too far to travel/transport problems</td>\n      <td>NaN</td>\n      <td>12.8865</td>\n      <td>5.43615</td>\n      <td>3.19061</td>\n      <td>3.33686</td>\n      <td>2.74652</td>\n      <td>22.4092</td>\n      <td>5.18742</td>\n      <td>27.5966</td>\n    </tr>\n    <tr>\n      <th>17</th>\n      <td>Own ill health or disability</td>\n      <td>NaN</td>\n      <td>14.9002</td>\n      <td>10.695</td>\n      <td>10.9637</td>\n      <td>13.0677</td>\n      <td>8.88243</td>\n      <td>34.3159</td>\n      <td>24.1933</td>\n      <td>58.5091</td>\n    </tr>\n    <tr>\n      <th>18</th>\n      <td>Language difficulties</td>\n      <td>NaN</td>\n      <td>1.35856</td>\n      <td>2.41557</td>\n      <td>4.44544</td>\n      <td>3.54547</td>\n      <td>2.36169</td>\n      <td>4.51758</td>\n      <td>9.60915</td>\n      <td>14.1267</td>\n    </tr>\n    <tr>\n      <th>19</th>\n      <td>Unsuitable hours</td>\n      <td>NaN</td>\n      <td>11.8411</td>\n      <td>5.971</td>\n      <td>10.37</td>\n      <td>4.97441</td>\n      <td>1.27637</td>\n      <td>12.8504</td>\n      <td>21.5825</td>\n      <td>34.4329</td>\n    </tr>\n    <tr>\n      <th>20</th>\n      <td>Difficulties with finding childcare and other ...</td>\n      <td>NaN</td>\n      <td>1.82282</td>\n      <td>5.30417</td>\n      <td>5.29949</td>\n      <td>6.09695</td>\n      <td>0.657959</td>\n      <td>5.62373</td>\n      <td>13.5577</td>\n      <td>19.1814</td>\n    </tr>\n    <tr>\n      <th>21</th>\n      <td>No feedback from employers</td>\n      <td>NaN</td>\n      <td>3.68466</td>\n      <td>1.95561</td>\n      <td>1.19173</td>\n      <td>1.71274</td>\n      <td>1.27363</td>\n      <td>5.10944</td>\n      <td>4.70894</td>\n      <td>9.81837</td>\n    </tr>\n    <tr>\n      <th>22</th>\n      <td>Other difficulties</td>\n      <td>NaN</td>\n      <td>33.3951</td>\n      <td>23.8928</td>\n      <td>10.4185</td>\n      <td>6.13019</td>\n      <td>10.0277</td>\n      <td>44.0632</td>\n      <td>39.8012</td>\n      <td>83.8644</td>\n    </tr>\n    <tr>\n      <th>23</th>\n      <td>Did not have difficulty finding work</td>\n      <td>NaN</td>\n      <td>40.4514</td>\n      <td>22.1285</td>\n      <td>12.1295</td>\n      <td>9.98663</td>\n      <td>8.48255</td>\n      <td>49.7492</td>\n      <td>43.4294</td>\n      <td>93.1786</td>\n    </tr>\n    <tr>\n      <th>24</th>\n      <td>Total</td>\n      <td>NaN</td>\n      <td>280.609</td>\n      <td>141.134</td>\n      <td>101.719</td>\n      <td>91.8478</td>\n      <td>90.274</td>\n      <td>380.907</td>\n      <td>324.677</td>\n      <td>705.584</td>\n    </tr>\n    <tr>\n      <th>25</th>\n      <td>NaN</td>\n      <td>NaN</td>\n      <td>NaN</td>\n      <td>NaN</td>\n      <td>NaN</td>\n      <td>NaN</td>\n      <td>NaN</td>\n      <td>NaN</td>\n      <td>NaN</td>\n      <td>NaN</td>\n    </tr>\n    <tr>\n      <th>26</th>\n      <td>NaN</td>\n      <td>NaN</td>\n      <td>NaN</td>\n      <td>NaN</td>\n      <td>NaN</td>\n      <td>NaN</td>\n      <td>NaN</td>\n      <td>NaN</td>\n      <td>NaN</td>\n      <td>NaN</td>\n    </tr>\n    <tr>\n      <th>27</th>\n      <td>© Commonwealth of Australia 2020</td>\n      <td>NaN</td>\n      <td>NaN</td>\n      <td>NaN</td>\n      <td>NaN</td>\n      <td>NaN</td>\n      <td>NaN</td>\n      <td>NaN</td>\n      <td>NaN</td>\n      <td>NaN</td>\n    </tr>\n  </tbody>\n</table>\n</div>"
     },
     "metadata": {},
     "execution_count": 51
    }
   ],
   "source": [
    "df_clean = df.drop(dfs.index[0:3]).copy()\n",
    "df_clean"
   ]
  },
  {
   "cell_type": "code",
   "execution_count": 58,
   "metadata": {},
   "outputs": [
    {
     "output_type": "execute_result",
     "data": {
      "text/plain": [
       "            Australian Bureau of Statistics    Released at 11:30 am (Canberra time) Mon 10 Au...\n",
       "Unnamed: 1                                                                                   NaN\n",
       "Unnamed: 2                                                                                   NaN\n",
       "Unnamed: 3                                                                                   NaN\n",
       "Unnamed: 4                                                                                   NaN\n",
       "Unnamed: 5                                                                                   NaN\n",
       "Unnamed: 6                                                                                   NaN\n",
       "Unnamed: 7                                                                                   NaN\n",
       "Unnamed: 8                                                                                   NaN\n",
       "Unnamed: 9                                                                                   NaN\n",
       "Name: 1, dtype: object"
      ]
     },
     "metadata": {},
     "execution_count": 58
    }
   ],
   "source": [
    "column_names = df_clean.iloc[1,]\n",
    "column_names\n"
   ]
  },
  {
   "cell_type": "code",
   "execution_count": null,
   "metadata": {},
   "outputs": [],
   "source": []
  }
 ]
}