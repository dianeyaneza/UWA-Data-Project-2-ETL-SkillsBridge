{
 "metadata": {
  "language_info": {
   "codemirror_mode": {
    "name": "ipython",
    "version": 3
   },
   "file_extension": ".py",
   "mimetype": "text/x-python",
   "name": "python",
   "nbconvert_exporter": "python",
   "pygments_lexer": "ipython3",
   "version": "3.8.3-final"
  },
  "orig_nbformat": 2,
  "kernelspec": {
   "name": "python3",
   "display_name": "Python 3.8.3 32-bit (conda)",
   "metadata": {
    "interpreter": {
     "hash": "85762426d71f2b191e713c5961a63e6fefd6db17605c41aaf3f2f11771e258dd"
    }
   }
  }
 },
 "nbformat": 4,
 "nbformat_minor": 2,
 "cells": [
  {
   "cell_type": "code",
   "execution_count": 1,
   "metadata": {},
   "outputs": [],
   "source": [
    "# import dependencies\n",
    "import pandas as pd\n",
    "from pandas import DataFrame, read_csv"
   ]
  },
  {
   "cell_type": "code",
   "execution_count": 2,
   "metadata": {},
   "outputs": [
    {
     "output_type": "execute_result",
     "data": {
      "text/plain": [
       "                      Australian Bureau of Statistics  Unnamed: 1  \\\n",
       "0   6226.0 Participation, Job Search and Mobility,...         NaN   \n",
       "1   Released at 11:30 am (Canberra time) Mon 10 Au...         NaN   \n",
       "2   Table 16.1 Main difficulty in finding work by ...         NaN   \n",
       "3                                                 NaN         NaN   \n",
       "4                                                 NaN         NaN   \n",
       "5                                                 NaN         NaN   \n",
       "6                     Main difficulty in finding work         NaN   \n",
       "7                         Had difficulty finding work         NaN   \n",
       "8              Too many applicants for available jobs         NaN   \n",
       "9                Lacked necessary skills or education         NaN   \n",
       "10       Considered too young or too old by employers         NaN   \n",
       "11                  Considered too young by employers         NaN   \n",
       "12                    Considered too old by employers         NaN   \n",
       "13                       Insufficient work experience         NaN   \n",
       "14                                No vacancies at all         NaN   \n",
       "15                       No vacancies in line of work         NaN   \n",
       "16               Too far to travel/transport problems         NaN   \n",
       "17                       Own ill health or disability         NaN   \n",
       "18                              Language difficulties         NaN   \n",
       "19                                   Unsuitable hours         NaN   \n",
       "20  Difficulties with finding childcare and other ...         NaN   \n",
       "21                         No feedback from employers         NaN   \n",
       "22                                 Other difficulties         NaN   \n",
       "23               Did not have difficulty finding work         NaN   \n",
       "24                                              Total         NaN   \n",
       "25                                                NaN         NaN   \n",
       "26                                                NaN         NaN   \n",
       "27                   © Commonwealth of Australia 2020         NaN   \n",
       "\n",
       "           Unnamed: 2 Unnamed: 3 Unnamed: 4 Unnamed: 5   Unnamed: 6  \\\n",
       "0                 NaN        NaN        NaN        NaN          NaN   \n",
       "1                 NaN        NaN        NaN        NaN          NaN   \n",
       "2                 NaN        NaN        NaN        NaN          NaN   \n",
       "3   AGE GROUP (YEARS)        NaN        NaN        NaN          NaN   \n",
       "4               15–24      25–34      35–44      45–54  55 and over   \n",
       "5                '000       '000       '000       '000         '000   \n",
       "6                 NaN        NaN        NaN        NaN          NaN   \n",
       "7             240.158    119.005    89.5895    81.8611      81.7914   \n",
       "8             46.7344    20.4862    21.9081    13.2327      9.51845   \n",
       "9             21.6786    14.2312    3.39693    5.91124       5.4021   \n",
       "10            9.48366    2.42123   0.909375     6.9906      28.5424   \n",
       "11            5.95113   0.671009          -          -            -   \n",
       "12            3.53253    1.75023   0.909375     6.9906      28.5424   \n",
       "13            57.5263    16.2254    6.03754    3.16761     0.778057   \n",
       "14            15.9131    5.07731    4.57682    2.93412      4.14528   \n",
       "15            8.93312    4.89334    6.88117    10.7606      6.17881   \n",
       "16            12.8865    5.43615    3.19061    3.33686      2.74652   \n",
       "17            14.9002     10.695    10.9637    13.0677      8.88243   \n",
       "18            1.35856    2.41557    4.44544    3.54547      2.36169   \n",
       "19            11.8411      5.971      10.37    4.97441      1.27637   \n",
       "20            1.82282    5.30417    5.29949    6.09695     0.657959   \n",
       "21            3.68466    1.95561    1.19173    1.71274      1.27363   \n",
       "22            33.3951    23.8928    10.4185    6.13019      10.0277   \n",
       "23            40.4514    22.1285    12.1295    9.98663      8.48255   \n",
       "24            280.609    141.134    101.719    91.8478       90.274   \n",
       "25                NaN        NaN        NaN        NaN          NaN   \n",
       "26                NaN        NaN        NaN        NaN          NaN   \n",
       "27                NaN        NaN        NaN        NaN          NaN   \n",
       "\n",
       "   Unnamed: 7 Unnamed: 8 Unnamed: 9  \n",
       "0         NaN        NaN        NaN  \n",
       "1         NaN        NaN        NaN  \n",
       "2         NaN        NaN        NaN  \n",
       "3         SEX        NaN        NaN  \n",
       "4       Males    Females    Persons  \n",
       "5        '000       '000       '000  \n",
       "6         NaN        NaN        NaN  \n",
       "7     331.158    281.248    612.405  \n",
       "8     62.8826    48.9972     111.88  \n",
       "9      25.604    25.0161    50.6201  \n",
       "10    26.5392    21.8081    48.3472  \n",
       "11    3.35417    3.26798    6.62214  \n",
       "12     23.185    18.5401    41.7251  \n",
       "13    42.8526    40.8823    83.7349  \n",
       "14    19.6673    12.9793    32.6466  \n",
       "15    24.7225    12.9245     37.647  \n",
       "16    22.4092    5.18742    27.5966  \n",
       "17    34.3159    24.1933    58.5091  \n",
       "18    4.51758    9.60915    14.1267  \n",
       "19    12.8504    21.5825    34.4329  \n",
       "20    5.62373    13.5577    19.1814  \n",
       "21    5.10944    4.70894    9.81837  \n",
       "22    44.0632    39.8012    83.8644  \n",
       "23    49.7492    43.4294    93.1786  \n",
       "24    380.907    324.677    705.584  \n",
       "25        NaN        NaN        NaN  \n",
       "26        NaN        NaN        NaN  \n",
       "27        NaN        NaN        NaN  "
      ],
      "text/html": "<div>\n<style scoped>\n    .dataframe tbody tr th:only-of-type {\n        vertical-align: middle;\n    }\n\n    .dataframe tbody tr th {\n        vertical-align: top;\n    }\n\n    .dataframe thead th {\n        text-align: right;\n    }\n</style>\n<table border=\"1\" class=\"dataframe\">\n  <thead>\n    <tr style=\"text-align: right;\">\n      <th></th>\n      <th>Australian Bureau of Statistics</th>\n      <th>Unnamed: 1</th>\n      <th>Unnamed: 2</th>\n      <th>Unnamed: 3</th>\n      <th>Unnamed: 4</th>\n      <th>Unnamed: 5</th>\n      <th>Unnamed: 6</th>\n      <th>Unnamed: 7</th>\n      <th>Unnamed: 8</th>\n      <th>Unnamed: 9</th>\n    </tr>\n  </thead>\n  <tbody>\n    <tr>\n      <th>0</th>\n      <td>6226.0 Participation, Job Search and Mobility,...</td>\n      <td>NaN</td>\n      <td>NaN</td>\n      <td>NaN</td>\n      <td>NaN</td>\n      <td>NaN</td>\n      <td>NaN</td>\n      <td>NaN</td>\n      <td>NaN</td>\n      <td>NaN</td>\n    </tr>\n    <tr>\n      <th>1</th>\n      <td>Released at 11:30 am (Canberra time) Mon 10 Au...</td>\n      <td>NaN</td>\n      <td>NaN</td>\n      <td>NaN</td>\n      <td>NaN</td>\n      <td>NaN</td>\n      <td>NaN</td>\n      <td>NaN</td>\n      <td>NaN</td>\n      <td>NaN</td>\n    </tr>\n    <tr>\n      <th>2</th>\n      <td>Table 16.1 Main difficulty in finding work by ...</td>\n      <td>NaN</td>\n      <td>NaN</td>\n      <td>NaN</td>\n      <td>NaN</td>\n      <td>NaN</td>\n      <td>NaN</td>\n      <td>NaN</td>\n      <td>NaN</td>\n      <td>NaN</td>\n    </tr>\n    <tr>\n      <th>3</th>\n      <td>NaN</td>\n      <td>NaN</td>\n      <td>AGE GROUP (YEARS)</td>\n      <td>NaN</td>\n      <td>NaN</td>\n      <td>NaN</td>\n      <td>NaN</td>\n      <td>SEX</td>\n      <td>NaN</td>\n      <td>NaN</td>\n    </tr>\n    <tr>\n      <th>4</th>\n      <td>NaN</td>\n      <td>NaN</td>\n      <td>15–24</td>\n      <td>25–34</td>\n      <td>35–44</td>\n      <td>45–54</td>\n      <td>55 and over</td>\n      <td>Males</td>\n      <td>Females</td>\n      <td>Persons</td>\n    </tr>\n    <tr>\n      <th>5</th>\n      <td>NaN</td>\n      <td>NaN</td>\n      <td>'000</td>\n      <td>'000</td>\n      <td>'000</td>\n      <td>'000</td>\n      <td>'000</td>\n      <td>'000</td>\n      <td>'000</td>\n      <td>'000</td>\n    </tr>\n    <tr>\n      <th>6</th>\n      <td>Main difficulty in finding work</td>\n      <td>NaN</td>\n      <td>NaN</td>\n      <td>NaN</td>\n      <td>NaN</td>\n      <td>NaN</td>\n      <td>NaN</td>\n      <td>NaN</td>\n      <td>NaN</td>\n      <td>NaN</td>\n    </tr>\n    <tr>\n      <th>7</th>\n      <td>Had difficulty finding work</td>\n      <td>NaN</td>\n      <td>240.158</td>\n      <td>119.005</td>\n      <td>89.5895</td>\n      <td>81.8611</td>\n      <td>81.7914</td>\n      <td>331.158</td>\n      <td>281.248</td>\n      <td>612.405</td>\n    </tr>\n    <tr>\n      <th>8</th>\n      <td>Too many applicants for available jobs</td>\n      <td>NaN</td>\n      <td>46.7344</td>\n      <td>20.4862</td>\n      <td>21.9081</td>\n      <td>13.2327</td>\n      <td>9.51845</td>\n      <td>62.8826</td>\n      <td>48.9972</td>\n      <td>111.88</td>\n    </tr>\n    <tr>\n      <th>9</th>\n      <td>Lacked necessary skills or education</td>\n      <td>NaN</td>\n      <td>21.6786</td>\n      <td>14.2312</td>\n      <td>3.39693</td>\n      <td>5.91124</td>\n      <td>5.4021</td>\n      <td>25.604</td>\n      <td>25.0161</td>\n      <td>50.6201</td>\n    </tr>\n    <tr>\n      <th>10</th>\n      <td>Considered too young or too old by employers</td>\n      <td>NaN</td>\n      <td>9.48366</td>\n      <td>2.42123</td>\n      <td>0.909375</td>\n      <td>6.9906</td>\n      <td>28.5424</td>\n      <td>26.5392</td>\n      <td>21.8081</td>\n      <td>48.3472</td>\n    </tr>\n    <tr>\n      <th>11</th>\n      <td>Considered too young by employers</td>\n      <td>NaN</td>\n      <td>5.95113</td>\n      <td>0.671009</td>\n      <td>-</td>\n      <td>-</td>\n      <td>-</td>\n      <td>3.35417</td>\n      <td>3.26798</td>\n      <td>6.62214</td>\n    </tr>\n    <tr>\n      <th>12</th>\n      <td>Considered too old by employers</td>\n      <td>NaN</td>\n      <td>3.53253</td>\n      <td>1.75023</td>\n      <td>0.909375</td>\n      <td>6.9906</td>\n      <td>28.5424</td>\n      <td>23.185</td>\n      <td>18.5401</td>\n      <td>41.7251</td>\n    </tr>\n    <tr>\n      <th>13</th>\n      <td>Insufficient work experience</td>\n      <td>NaN</td>\n      <td>57.5263</td>\n      <td>16.2254</td>\n      <td>6.03754</td>\n      <td>3.16761</td>\n      <td>0.778057</td>\n      <td>42.8526</td>\n      <td>40.8823</td>\n      <td>83.7349</td>\n    </tr>\n    <tr>\n      <th>14</th>\n      <td>No vacancies at all</td>\n      <td>NaN</td>\n      <td>15.9131</td>\n      <td>5.07731</td>\n      <td>4.57682</td>\n      <td>2.93412</td>\n      <td>4.14528</td>\n      <td>19.6673</td>\n      <td>12.9793</td>\n      <td>32.6466</td>\n    </tr>\n    <tr>\n      <th>15</th>\n      <td>No vacancies in line of work</td>\n      <td>NaN</td>\n      <td>8.93312</td>\n      <td>4.89334</td>\n      <td>6.88117</td>\n      <td>10.7606</td>\n      <td>6.17881</td>\n      <td>24.7225</td>\n      <td>12.9245</td>\n      <td>37.647</td>\n    </tr>\n    <tr>\n      <th>16</th>\n      <td>Too far to travel/transport problems</td>\n      <td>NaN</td>\n      <td>12.8865</td>\n      <td>5.43615</td>\n      <td>3.19061</td>\n      <td>3.33686</td>\n      <td>2.74652</td>\n      <td>22.4092</td>\n      <td>5.18742</td>\n      <td>27.5966</td>\n    </tr>\n    <tr>\n      <th>17</th>\n      <td>Own ill health or disability</td>\n      <td>NaN</td>\n      <td>14.9002</td>\n      <td>10.695</td>\n      <td>10.9637</td>\n      <td>13.0677</td>\n      <td>8.88243</td>\n      <td>34.3159</td>\n      <td>24.1933</td>\n      <td>58.5091</td>\n    </tr>\n    <tr>\n      <th>18</th>\n      <td>Language difficulties</td>\n      <td>NaN</td>\n      <td>1.35856</td>\n      <td>2.41557</td>\n      <td>4.44544</td>\n      <td>3.54547</td>\n      <td>2.36169</td>\n      <td>4.51758</td>\n      <td>9.60915</td>\n      <td>14.1267</td>\n    </tr>\n    <tr>\n      <th>19</th>\n      <td>Unsuitable hours</td>\n      <td>NaN</td>\n      <td>11.8411</td>\n      <td>5.971</td>\n      <td>10.37</td>\n      <td>4.97441</td>\n      <td>1.27637</td>\n      <td>12.8504</td>\n      <td>21.5825</td>\n      <td>34.4329</td>\n    </tr>\n    <tr>\n      <th>20</th>\n      <td>Difficulties with finding childcare and other ...</td>\n      <td>NaN</td>\n      <td>1.82282</td>\n      <td>5.30417</td>\n      <td>5.29949</td>\n      <td>6.09695</td>\n      <td>0.657959</td>\n      <td>5.62373</td>\n      <td>13.5577</td>\n      <td>19.1814</td>\n    </tr>\n    <tr>\n      <th>21</th>\n      <td>No feedback from employers</td>\n      <td>NaN</td>\n      <td>3.68466</td>\n      <td>1.95561</td>\n      <td>1.19173</td>\n      <td>1.71274</td>\n      <td>1.27363</td>\n      <td>5.10944</td>\n      <td>4.70894</td>\n      <td>9.81837</td>\n    </tr>\n    <tr>\n      <th>22</th>\n      <td>Other difficulties</td>\n      <td>NaN</td>\n      <td>33.3951</td>\n      <td>23.8928</td>\n      <td>10.4185</td>\n      <td>6.13019</td>\n      <td>10.0277</td>\n      <td>44.0632</td>\n      <td>39.8012</td>\n      <td>83.8644</td>\n    </tr>\n    <tr>\n      <th>23</th>\n      <td>Did not have difficulty finding work</td>\n      <td>NaN</td>\n      <td>40.4514</td>\n      <td>22.1285</td>\n      <td>12.1295</td>\n      <td>9.98663</td>\n      <td>8.48255</td>\n      <td>49.7492</td>\n      <td>43.4294</td>\n      <td>93.1786</td>\n    </tr>\n    <tr>\n      <th>24</th>\n      <td>Total</td>\n      <td>NaN</td>\n      <td>280.609</td>\n      <td>141.134</td>\n      <td>101.719</td>\n      <td>91.8478</td>\n      <td>90.274</td>\n      <td>380.907</td>\n      <td>324.677</td>\n      <td>705.584</td>\n    </tr>\n    <tr>\n      <th>25</th>\n      <td>NaN</td>\n      <td>NaN</td>\n      <td>NaN</td>\n      <td>NaN</td>\n      <td>NaN</td>\n      <td>NaN</td>\n      <td>NaN</td>\n      <td>NaN</td>\n      <td>NaN</td>\n      <td>NaN</td>\n    </tr>\n    <tr>\n      <th>26</th>\n      <td>NaN</td>\n      <td>NaN</td>\n      <td>NaN</td>\n      <td>NaN</td>\n      <td>NaN</td>\n      <td>NaN</td>\n      <td>NaN</td>\n      <td>NaN</td>\n      <td>NaN</td>\n      <td>NaN</td>\n    </tr>\n    <tr>\n      <th>27</th>\n      <td>© Commonwealth of Australia 2020</td>\n      <td>NaN</td>\n      <td>NaN</td>\n      <td>NaN</td>\n      <td>NaN</td>\n      <td>NaN</td>\n      <td>NaN</td>\n      <td>NaN</td>\n      <td>NaN</td>\n      <td>NaN</td>\n    </tr>\n  </tbody>\n</table>\n</div>"
     },
     "metadata": {},
     "execution_count": 2
    }
   ],
   "source": [
    "# read file\n",
    "difficulties_file = \"Resources/Main Difficulty in finding work by age.xls\"\n",
    "difficulties_df = pd.read_excel(difficulties_file, 'Table 16.1')\n",
    "difficulties_df.head(30)"
   ]
  },
  {
   "cell_type": "code",
   "execution_count": 3,
   "metadata": {},
   "outputs": [
    {
     "output_type": "execute_result",
     "data": {
      "text/plain": [
       "                      Australian Bureau of Statistics  Unnamed: 1 Unnamed: 2  \\\n",
       "0                         Had difficulty finding work         NaN    240.158   \n",
       "1              Too many applicants for available jobs         NaN    46.7344   \n",
       "2                Lacked necessary skills or education         NaN    21.6786   \n",
       "3        Considered too young or too old by employers         NaN    9.48366   \n",
       "4                   Considered too young by employers         NaN    5.95113   \n",
       "5                     Considered too old by employers         NaN    3.53253   \n",
       "6                        Insufficient work experience         NaN    57.5263   \n",
       "7                                 No vacancies at all         NaN    15.9131   \n",
       "8                        No vacancies in line of work         NaN    8.93312   \n",
       "9                Too far to travel/transport problems         NaN    12.8865   \n",
       "10                       Own ill health or disability         NaN    14.9002   \n",
       "11                              Language difficulties         NaN    1.35856   \n",
       "12                                   Unsuitable hours         NaN    11.8411   \n",
       "13  Difficulties with finding childcare and other ...         NaN    1.82282   \n",
       "14                         No feedback from employers         NaN    3.68466   \n",
       "15                                 Other difficulties         NaN    33.3951   \n",
       "16               Did not have difficulty finding work         NaN    40.4514   \n",
       "17                                              Total         NaN    280.609   \n",
       "18                                                NaN         NaN        NaN   \n",
       "19                                                NaN         NaN        NaN   \n",
       "20                   © Commonwealth of Australia 2020         NaN        NaN   \n",
       "\n",
       "   Unnamed: 3 Unnamed: 4 Unnamed: 5 Unnamed: 6 Unnamed: 7 Unnamed: 8  \\\n",
       "0     119.005    89.5895    81.8611    81.7914    331.158    281.248   \n",
       "1     20.4862    21.9081    13.2327    9.51845    62.8826    48.9972   \n",
       "2     14.2312    3.39693    5.91124     5.4021     25.604    25.0161   \n",
       "3     2.42123   0.909375     6.9906    28.5424    26.5392    21.8081   \n",
       "4    0.671009          -          -          -    3.35417    3.26798   \n",
       "5     1.75023   0.909375     6.9906    28.5424     23.185    18.5401   \n",
       "6     16.2254    6.03754    3.16761   0.778057    42.8526    40.8823   \n",
       "7     5.07731    4.57682    2.93412    4.14528    19.6673    12.9793   \n",
       "8     4.89334    6.88117    10.7606    6.17881    24.7225    12.9245   \n",
       "9     5.43615    3.19061    3.33686    2.74652    22.4092    5.18742   \n",
       "10     10.695    10.9637    13.0677    8.88243    34.3159    24.1933   \n",
       "11    2.41557    4.44544    3.54547    2.36169    4.51758    9.60915   \n",
       "12      5.971      10.37    4.97441    1.27637    12.8504    21.5825   \n",
       "13    5.30417    5.29949    6.09695   0.657959    5.62373    13.5577   \n",
       "14    1.95561    1.19173    1.71274    1.27363    5.10944    4.70894   \n",
       "15    23.8928    10.4185    6.13019    10.0277    44.0632    39.8012   \n",
       "16    22.1285    12.1295    9.98663    8.48255    49.7492    43.4294   \n",
       "17    141.134    101.719    91.8478     90.274    380.907    324.677   \n",
       "18        NaN        NaN        NaN        NaN        NaN        NaN   \n",
       "19        NaN        NaN        NaN        NaN        NaN        NaN   \n",
       "20        NaN        NaN        NaN        NaN        NaN        NaN   \n",
       "\n",
       "   Unnamed: 9  \n",
       "0     612.405  \n",
       "1      111.88  \n",
       "2     50.6201  \n",
       "3     48.3472  \n",
       "4     6.62214  \n",
       "5     41.7251  \n",
       "6     83.7349  \n",
       "7     32.6466  \n",
       "8      37.647  \n",
       "9     27.5966  \n",
       "10    58.5091  \n",
       "11    14.1267  \n",
       "12    34.4329  \n",
       "13    19.1814  \n",
       "14    9.81837  \n",
       "15    83.8644  \n",
       "16    93.1786  \n",
       "17    705.584  \n",
       "18        NaN  \n",
       "19        NaN  \n",
       "20        NaN  "
      ],
      "text/html": "<div>\n<style scoped>\n    .dataframe tbody tr th:only-of-type {\n        vertical-align: middle;\n    }\n\n    .dataframe tbody tr th {\n        vertical-align: top;\n    }\n\n    .dataframe thead th {\n        text-align: right;\n    }\n</style>\n<table border=\"1\" class=\"dataframe\">\n  <thead>\n    <tr style=\"text-align: right;\">\n      <th></th>\n      <th>Australian Bureau of Statistics</th>\n      <th>Unnamed: 1</th>\n      <th>Unnamed: 2</th>\n      <th>Unnamed: 3</th>\n      <th>Unnamed: 4</th>\n      <th>Unnamed: 5</th>\n      <th>Unnamed: 6</th>\n      <th>Unnamed: 7</th>\n      <th>Unnamed: 8</th>\n      <th>Unnamed: 9</th>\n    </tr>\n  </thead>\n  <tbody>\n    <tr>\n      <th>0</th>\n      <td>Had difficulty finding work</td>\n      <td>NaN</td>\n      <td>240.158</td>\n      <td>119.005</td>\n      <td>89.5895</td>\n      <td>81.8611</td>\n      <td>81.7914</td>\n      <td>331.158</td>\n      <td>281.248</td>\n      <td>612.405</td>\n    </tr>\n    <tr>\n      <th>1</th>\n      <td>Too many applicants for available jobs</td>\n      <td>NaN</td>\n      <td>46.7344</td>\n      <td>20.4862</td>\n      <td>21.9081</td>\n      <td>13.2327</td>\n      <td>9.51845</td>\n      <td>62.8826</td>\n      <td>48.9972</td>\n      <td>111.88</td>\n    </tr>\n    <tr>\n      <th>2</th>\n      <td>Lacked necessary skills or education</td>\n      <td>NaN</td>\n      <td>21.6786</td>\n      <td>14.2312</td>\n      <td>3.39693</td>\n      <td>5.91124</td>\n      <td>5.4021</td>\n      <td>25.604</td>\n      <td>25.0161</td>\n      <td>50.6201</td>\n    </tr>\n    <tr>\n      <th>3</th>\n      <td>Considered too young or too old by employers</td>\n      <td>NaN</td>\n      <td>9.48366</td>\n      <td>2.42123</td>\n      <td>0.909375</td>\n      <td>6.9906</td>\n      <td>28.5424</td>\n      <td>26.5392</td>\n      <td>21.8081</td>\n      <td>48.3472</td>\n    </tr>\n    <tr>\n      <th>4</th>\n      <td>Considered too young by employers</td>\n      <td>NaN</td>\n      <td>5.95113</td>\n      <td>0.671009</td>\n      <td>-</td>\n      <td>-</td>\n      <td>-</td>\n      <td>3.35417</td>\n      <td>3.26798</td>\n      <td>6.62214</td>\n    </tr>\n    <tr>\n      <th>5</th>\n      <td>Considered too old by employers</td>\n      <td>NaN</td>\n      <td>3.53253</td>\n      <td>1.75023</td>\n      <td>0.909375</td>\n      <td>6.9906</td>\n      <td>28.5424</td>\n      <td>23.185</td>\n      <td>18.5401</td>\n      <td>41.7251</td>\n    </tr>\n    <tr>\n      <th>6</th>\n      <td>Insufficient work experience</td>\n      <td>NaN</td>\n      <td>57.5263</td>\n      <td>16.2254</td>\n      <td>6.03754</td>\n      <td>3.16761</td>\n      <td>0.778057</td>\n      <td>42.8526</td>\n      <td>40.8823</td>\n      <td>83.7349</td>\n    </tr>\n    <tr>\n      <th>7</th>\n      <td>No vacancies at all</td>\n      <td>NaN</td>\n      <td>15.9131</td>\n      <td>5.07731</td>\n      <td>4.57682</td>\n      <td>2.93412</td>\n      <td>4.14528</td>\n      <td>19.6673</td>\n      <td>12.9793</td>\n      <td>32.6466</td>\n    </tr>\n    <tr>\n      <th>8</th>\n      <td>No vacancies in line of work</td>\n      <td>NaN</td>\n      <td>8.93312</td>\n      <td>4.89334</td>\n      <td>6.88117</td>\n      <td>10.7606</td>\n      <td>6.17881</td>\n      <td>24.7225</td>\n      <td>12.9245</td>\n      <td>37.647</td>\n    </tr>\n    <tr>\n      <th>9</th>\n      <td>Too far to travel/transport problems</td>\n      <td>NaN</td>\n      <td>12.8865</td>\n      <td>5.43615</td>\n      <td>3.19061</td>\n      <td>3.33686</td>\n      <td>2.74652</td>\n      <td>22.4092</td>\n      <td>5.18742</td>\n      <td>27.5966</td>\n    </tr>\n    <tr>\n      <th>10</th>\n      <td>Own ill health or disability</td>\n      <td>NaN</td>\n      <td>14.9002</td>\n      <td>10.695</td>\n      <td>10.9637</td>\n      <td>13.0677</td>\n      <td>8.88243</td>\n      <td>34.3159</td>\n      <td>24.1933</td>\n      <td>58.5091</td>\n    </tr>\n    <tr>\n      <th>11</th>\n      <td>Language difficulties</td>\n      <td>NaN</td>\n      <td>1.35856</td>\n      <td>2.41557</td>\n      <td>4.44544</td>\n      <td>3.54547</td>\n      <td>2.36169</td>\n      <td>4.51758</td>\n      <td>9.60915</td>\n      <td>14.1267</td>\n    </tr>\n    <tr>\n      <th>12</th>\n      <td>Unsuitable hours</td>\n      <td>NaN</td>\n      <td>11.8411</td>\n      <td>5.971</td>\n      <td>10.37</td>\n      <td>4.97441</td>\n      <td>1.27637</td>\n      <td>12.8504</td>\n      <td>21.5825</td>\n      <td>34.4329</td>\n    </tr>\n    <tr>\n      <th>13</th>\n      <td>Difficulties with finding childcare and other ...</td>\n      <td>NaN</td>\n      <td>1.82282</td>\n      <td>5.30417</td>\n      <td>5.29949</td>\n      <td>6.09695</td>\n      <td>0.657959</td>\n      <td>5.62373</td>\n      <td>13.5577</td>\n      <td>19.1814</td>\n    </tr>\n    <tr>\n      <th>14</th>\n      <td>No feedback from employers</td>\n      <td>NaN</td>\n      <td>3.68466</td>\n      <td>1.95561</td>\n      <td>1.19173</td>\n      <td>1.71274</td>\n      <td>1.27363</td>\n      <td>5.10944</td>\n      <td>4.70894</td>\n      <td>9.81837</td>\n    </tr>\n    <tr>\n      <th>15</th>\n      <td>Other difficulties</td>\n      <td>NaN</td>\n      <td>33.3951</td>\n      <td>23.8928</td>\n      <td>10.4185</td>\n      <td>6.13019</td>\n      <td>10.0277</td>\n      <td>44.0632</td>\n      <td>39.8012</td>\n      <td>83.8644</td>\n    </tr>\n    <tr>\n      <th>16</th>\n      <td>Did not have difficulty finding work</td>\n      <td>NaN</td>\n      <td>40.4514</td>\n      <td>22.1285</td>\n      <td>12.1295</td>\n      <td>9.98663</td>\n      <td>8.48255</td>\n      <td>49.7492</td>\n      <td>43.4294</td>\n      <td>93.1786</td>\n    </tr>\n    <tr>\n      <th>17</th>\n      <td>Total</td>\n      <td>NaN</td>\n      <td>280.609</td>\n      <td>141.134</td>\n      <td>101.719</td>\n      <td>91.8478</td>\n      <td>90.274</td>\n      <td>380.907</td>\n      <td>324.677</td>\n      <td>705.584</td>\n    </tr>\n    <tr>\n      <th>18</th>\n      <td>NaN</td>\n      <td>NaN</td>\n      <td>NaN</td>\n      <td>NaN</td>\n      <td>NaN</td>\n      <td>NaN</td>\n      <td>NaN</td>\n      <td>NaN</td>\n      <td>NaN</td>\n      <td>NaN</td>\n    </tr>\n    <tr>\n      <th>19</th>\n      <td>NaN</td>\n      <td>NaN</td>\n      <td>NaN</td>\n      <td>NaN</td>\n      <td>NaN</td>\n      <td>NaN</td>\n      <td>NaN</td>\n      <td>NaN</td>\n      <td>NaN</td>\n      <td>NaN</td>\n    </tr>\n    <tr>\n      <th>20</th>\n      <td>© Commonwealth of Australia 2020</td>\n      <td>NaN</td>\n      <td>NaN</td>\n      <td>NaN</td>\n      <td>NaN</td>\n      <td>NaN</td>\n      <td>NaN</td>\n      <td>NaN</td>\n      <td>NaN</td>\n      <td>NaN</td>\n    </tr>\n  </tbody>\n</table>\n</div>"
     },
     "metadata": {},
     "execution_count": 3
    }
   ],
   "source": [
    "# drop rows on the top to narrow down analysis time period\n",
    "difficulties_df.drop(difficulties_df.index[0:7],0,inplace=True)\n",
    "difficulties_df.reset_index(drop=True, inplace=True)\n",
    "difficulties_df"
   ]
  },
  {
   "cell_type": "code",
   "execution_count": 4,
   "metadata": {},
   "outputs": [
    {
     "output_type": "execute_result",
     "data": {
      "text/plain": [
       "                      Australian Bureau of Statistics  Unnamed: 1 Unnamed: 2  \\\n",
       "0                         Had difficulty finding work         NaN    240.158   \n",
       "1              Too many applicants for available jobs         NaN    46.7344   \n",
       "2                Lacked necessary skills or education         NaN    21.6786   \n",
       "3        Considered too young or too old by employers         NaN    9.48366   \n",
       "4                   Considered too young by employers         NaN    5.95113   \n",
       "5                     Considered too old by employers         NaN    3.53253   \n",
       "6                        Insufficient work experience         NaN    57.5263   \n",
       "7                                 No vacancies at all         NaN    15.9131   \n",
       "8                        No vacancies in line of work         NaN    8.93312   \n",
       "9                Too far to travel/transport problems         NaN    12.8865   \n",
       "10                       Own ill health or disability         NaN    14.9002   \n",
       "11                              Language difficulties         NaN    1.35856   \n",
       "12                                   Unsuitable hours         NaN    11.8411   \n",
       "13  Difficulties with finding childcare and other ...         NaN    1.82282   \n",
       "14                         No feedback from employers         NaN    3.68466   \n",
       "15                                 Other difficulties         NaN    33.3951   \n",
       "16               Did not have difficulty finding work         NaN    40.4514   \n",
       "17                                              Total         NaN    280.609   \n",
       "\n",
       "   Unnamed: 3 Unnamed: 4 Unnamed: 5 Unnamed: 6 Unnamed: 7 Unnamed: 8  \\\n",
       "0     119.005    89.5895    81.8611    81.7914    331.158    281.248   \n",
       "1     20.4862    21.9081    13.2327    9.51845    62.8826    48.9972   \n",
       "2     14.2312    3.39693    5.91124     5.4021     25.604    25.0161   \n",
       "3     2.42123   0.909375     6.9906    28.5424    26.5392    21.8081   \n",
       "4    0.671009          -          -          -    3.35417    3.26798   \n",
       "5     1.75023   0.909375     6.9906    28.5424     23.185    18.5401   \n",
       "6     16.2254    6.03754    3.16761   0.778057    42.8526    40.8823   \n",
       "7     5.07731    4.57682    2.93412    4.14528    19.6673    12.9793   \n",
       "8     4.89334    6.88117    10.7606    6.17881    24.7225    12.9245   \n",
       "9     5.43615    3.19061    3.33686    2.74652    22.4092    5.18742   \n",
       "10     10.695    10.9637    13.0677    8.88243    34.3159    24.1933   \n",
       "11    2.41557    4.44544    3.54547    2.36169    4.51758    9.60915   \n",
       "12      5.971      10.37    4.97441    1.27637    12.8504    21.5825   \n",
       "13    5.30417    5.29949    6.09695   0.657959    5.62373    13.5577   \n",
       "14    1.95561    1.19173    1.71274    1.27363    5.10944    4.70894   \n",
       "15    23.8928    10.4185    6.13019    10.0277    44.0632    39.8012   \n",
       "16    22.1285    12.1295    9.98663    8.48255    49.7492    43.4294   \n",
       "17    141.134    101.719    91.8478     90.274    380.907    324.677   \n",
       "\n",
       "   Unnamed: 9  \n",
       "0     612.405  \n",
       "1      111.88  \n",
       "2     50.6201  \n",
       "3     48.3472  \n",
       "4     6.62214  \n",
       "5     41.7251  \n",
       "6     83.7349  \n",
       "7     32.6466  \n",
       "8      37.647  \n",
       "9     27.5966  \n",
       "10    58.5091  \n",
       "11    14.1267  \n",
       "12    34.4329  \n",
       "13    19.1814  \n",
       "14    9.81837  \n",
       "15    83.8644  \n",
       "16    93.1786  \n",
       "17    705.584  "
      ],
      "text/html": "<div>\n<style scoped>\n    .dataframe tbody tr th:only-of-type {\n        vertical-align: middle;\n    }\n\n    .dataframe tbody tr th {\n        vertical-align: top;\n    }\n\n    .dataframe thead th {\n        text-align: right;\n    }\n</style>\n<table border=\"1\" class=\"dataframe\">\n  <thead>\n    <tr style=\"text-align: right;\">\n      <th></th>\n      <th>Australian Bureau of Statistics</th>\n      <th>Unnamed: 1</th>\n      <th>Unnamed: 2</th>\n      <th>Unnamed: 3</th>\n      <th>Unnamed: 4</th>\n      <th>Unnamed: 5</th>\n      <th>Unnamed: 6</th>\n      <th>Unnamed: 7</th>\n      <th>Unnamed: 8</th>\n      <th>Unnamed: 9</th>\n    </tr>\n  </thead>\n  <tbody>\n    <tr>\n      <th>0</th>\n      <td>Had difficulty finding work</td>\n      <td>NaN</td>\n      <td>240.158</td>\n      <td>119.005</td>\n      <td>89.5895</td>\n      <td>81.8611</td>\n      <td>81.7914</td>\n      <td>331.158</td>\n      <td>281.248</td>\n      <td>612.405</td>\n    </tr>\n    <tr>\n      <th>1</th>\n      <td>Too many applicants for available jobs</td>\n      <td>NaN</td>\n      <td>46.7344</td>\n      <td>20.4862</td>\n      <td>21.9081</td>\n      <td>13.2327</td>\n      <td>9.51845</td>\n      <td>62.8826</td>\n      <td>48.9972</td>\n      <td>111.88</td>\n    </tr>\n    <tr>\n      <th>2</th>\n      <td>Lacked necessary skills or education</td>\n      <td>NaN</td>\n      <td>21.6786</td>\n      <td>14.2312</td>\n      <td>3.39693</td>\n      <td>5.91124</td>\n      <td>5.4021</td>\n      <td>25.604</td>\n      <td>25.0161</td>\n      <td>50.6201</td>\n    </tr>\n    <tr>\n      <th>3</th>\n      <td>Considered too young or too old by employers</td>\n      <td>NaN</td>\n      <td>9.48366</td>\n      <td>2.42123</td>\n      <td>0.909375</td>\n      <td>6.9906</td>\n      <td>28.5424</td>\n      <td>26.5392</td>\n      <td>21.8081</td>\n      <td>48.3472</td>\n    </tr>\n    <tr>\n      <th>4</th>\n      <td>Considered too young by employers</td>\n      <td>NaN</td>\n      <td>5.95113</td>\n      <td>0.671009</td>\n      <td>-</td>\n      <td>-</td>\n      <td>-</td>\n      <td>3.35417</td>\n      <td>3.26798</td>\n      <td>6.62214</td>\n    </tr>\n    <tr>\n      <th>5</th>\n      <td>Considered too old by employers</td>\n      <td>NaN</td>\n      <td>3.53253</td>\n      <td>1.75023</td>\n      <td>0.909375</td>\n      <td>6.9906</td>\n      <td>28.5424</td>\n      <td>23.185</td>\n      <td>18.5401</td>\n      <td>41.7251</td>\n    </tr>\n    <tr>\n      <th>6</th>\n      <td>Insufficient work experience</td>\n      <td>NaN</td>\n      <td>57.5263</td>\n      <td>16.2254</td>\n      <td>6.03754</td>\n      <td>3.16761</td>\n      <td>0.778057</td>\n      <td>42.8526</td>\n      <td>40.8823</td>\n      <td>83.7349</td>\n    </tr>\n    <tr>\n      <th>7</th>\n      <td>No vacancies at all</td>\n      <td>NaN</td>\n      <td>15.9131</td>\n      <td>5.07731</td>\n      <td>4.57682</td>\n      <td>2.93412</td>\n      <td>4.14528</td>\n      <td>19.6673</td>\n      <td>12.9793</td>\n      <td>32.6466</td>\n    </tr>\n    <tr>\n      <th>8</th>\n      <td>No vacancies in line of work</td>\n      <td>NaN</td>\n      <td>8.93312</td>\n      <td>4.89334</td>\n      <td>6.88117</td>\n      <td>10.7606</td>\n      <td>6.17881</td>\n      <td>24.7225</td>\n      <td>12.9245</td>\n      <td>37.647</td>\n    </tr>\n    <tr>\n      <th>9</th>\n      <td>Too far to travel/transport problems</td>\n      <td>NaN</td>\n      <td>12.8865</td>\n      <td>5.43615</td>\n      <td>3.19061</td>\n      <td>3.33686</td>\n      <td>2.74652</td>\n      <td>22.4092</td>\n      <td>5.18742</td>\n      <td>27.5966</td>\n    </tr>\n    <tr>\n      <th>10</th>\n      <td>Own ill health or disability</td>\n      <td>NaN</td>\n      <td>14.9002</td>\n      <td>10.695</td>\n      <td>10.9637</td>\n      <td>13.0677</td>\n      <td>8.88243</td>\n      <td>34.3159</td>\n      <td>24.1933</td>\n      <td>58.5091</td>\n    </tr>\n    <tr>\n      <th>11</th>\n      <td>Language difficulties</td>\n      <td>NaN</td>\n      <td>1.35856</td>\n      <td>2.41557</td>\n      <td>4.44544</td>\n      <td>3.54547</td>\n      <td>2.36169</td>\n      <td>4.51758</td>\n      <td>9.60915</td>\n      <td>14.1267</td>\n    </tr>\n    <tr>\n      <th>12</th>\n      <td>Unsuitable hours</td>\n      <td>NaN</td>\n      <td>11.8411</td>\n      <td>5.971</td>\n      <td>10.37</td>\n      <td>4.97441</td>\n      <td>1.27637</td>\n      <td>12.8504</td>\n      <td>21.5825</td>\n      <td>34.4329</td>\n    </tr>\n    <tr>\n      <th>13</th>\n      <td>Difficulties with finding childcare and other ...</td>\n      <td>NaN</td>\n      <td>1.82282</td>\n      <td>5.30417</td>\n      <td>5.29949</td>\n      <td>6.09695</td>\n      <td>0.657959</td>\n      <td>5.62373</td>\n      <td>13.5577</td>\n      <td>19.1814</td>\n    </tr>\n    <tr>\n      <th>14</th>\n      <td>No feedback from employers</td>\n      <td>NaN</td>\n      <td>3.68466</td>\n      <td>1.95561</td>\n      <td>1.19173</td>\n      <td>1.71274</td>\n      <td>1.27363</td>\n      <td>5.10944</td>\n      <td>4.70894</td>\n      <td>9.81837</td>\n    </tr>\n    <tr>\n      <th>15</th>\n      <td>Other difficulties</td>\n      <td>NaN</td>\n      <td>33.3951</td>\n      <td>23.8928</td>\n      <td>10.4185</td>\n      <td>6.13019</td>\n      <td>10.0277</td>\n      <td>44.0632</td>\n      <td>39.8012</td>\n      <td>83.8644</td>\n    </tr>\n    <tr>\n      <th>16</th>\n      <td>Did not have difficulty finding work</td>\n      <td>NaN</td>\n      <td>40.4514</td>\n      <td>22.1285</td>\n      <td>12.1295</td>\n      <td>9.98663</td>\n      <td>8.48255</td>\n      <td>49.7492</td>\n      <td>43.4294</td>\n      <td>93.1786</td>\n    </tr>\n    <tr>\n      <th>17</th>\n      <td>Total</td>\n      <td>NaN</td>\n      <td>280.609</td>\n      <td>141.134</td>\n      <td>101.719</td>\n      <td>91.8478</td>\n      <td>90.274</td>\n      <td>380.907</td>\n      <td>324.677</td>\n      <td>705.584</td>\n    </tr>\n  </tbody>\n</table>\n</div>"
     },
     "metadata": {},
     "execution_count": 4
    }
   ],
   "source": [
    "# drop bottom rows\n",
    "difficulties_df.drop(difficulties_df.index[18:21],0,inplace=True)\n",
    "difficulties_df.reset_index(drop=True, inplace=True)\n",
    "difficulties_df"
   ]
  },
  {
   "cell_type": "code",
   "execution_count": 5,
   "metadata": {},
   "outputs": [
    {
     "output_type": "execute_result",
     "data": {
      "text/plain": [
       "                      Australian Bureau of Statistics  Unnamed: 1 Unnamed: 2  \\\n",
       "0                         Had difficulty finding work         NaN    240.158   \n",
       "1              Too many applicants for available jobs         NaN    46.7344   \n",
       "2                Lacked necessary skills or education         NaN    21.6786   \n",
       "3                   Considered too young by employers         NaN    5.95113   \n",
       "4                     Considered too old by employers         NaN    3.53253   \n",
       "5                        Insufficient work experience         NaN    57.5263   \n",
       "6                                 No vacancies at all         NaN    15.9131   \n",
       "7                        No vacancies in line of work         NaN    8.93312   \n",
       "8                Too far to travel/transport problems         NaN    12.8865   \n",
       "9                        Own ill health or disability         NaN    14.9002   \n",
       "10                              Language difficulties         NaN    1.35856   \n",
       "11                                   Unsuitable hours         NaN    11.8411   \n",
       "12  Difficulties with finding childcare and other ...         NaN    1.82282   \n",
       "13                         No feedback from employers         NaN    3.68466   \n",
       "14                                 Other difficulties         NaN    33.3951   \n",
       "15               Did not have difficulty finding work         NaN    40.4514   \n",
       "16                                              Total         NaN    280.609   \n",
       "\n",
       "   Unnamed: 3 Unnamed: 4 Unnamed: 5 Unnamed: 6 Unnamed: 7 Unnamed: 8  \\\n",
       "0     119.005    89.5895    81.8611    81.7914    331.158    281.248   \n",
       "1     20.4862    21.9081    13.2327    9.51845    62.8826    48.9972   \n",
       "2     14.2312    3.39693    5.91124     5.4021     25.604    25.0161   \n",
       "3    0.671009          -          -          -    3.35417    3.26798   \n",
       "4     1.75023   0.909375     6.9906    28.5424     23.185    18.5401   \n",
       "5     16.2254    6.03754    3.16761   0.778057    42.8526    40.8823   \n",
       "6     5.07731    4.57682    2.93412    4.14528    19.6673    12.9793   \n",
       "7     4.89334    6.88117    10.7606    6.17881    24.7225    12.9245   \n",
       "8     5.43615    3.19061    3.33686    2.74652    22.4092    5.18742   \n",
       "9      10.695    10.9637    13.0677    8.88243    34.3159    24.1933   \n",
       "10    2.41557    4.44544    3.54547    2.36169    4.51758    9.60915   \n",
       "11      5.971      10.37    4.97441    1.27637    12.8504    21.5825   \n",
       "12    5.30417    5.29949    6.09695   0.657959    5.62373    13.5577   \n",
       "13    1.95561    1.19173    1.71274    1.27363    5.10944    4.70894   \n",
       "14    23.8928    10.4185    6.13019    10.0277    44.0632    39.8012   \n",
       "15    22.1285    12.1295    9.98663    8.48255    49.7492    43.4294   \n",
       "16    141.134    101.719    91.8478     90.274    380.907    324.677   \n",
       "\n",
       "   Unnamed: 9  \n",
       "0     612.405  \n",
       "1      111.88  \n",
       "2     50.6201  \n",
       "3     6.62214  \n",
       "4     41.7251  \n",
       "5     83.7349  \n",
       "6     32.6466  \n",
       "7      37.647  \n",
       "8     27.5966  \n",
       "9     58.5091  \n",
       "10    14.1267  \n",
       "11    34.4329  \n",
       "12    19.1814  \n",
       "13    9.81837  \n",
       "14    83.8644  \n",
       "15    93.1786  \n",
       "16    705.584  "
      ],
      "text/html": "<div>\n<style scoped>\n    .dataframe tbody tr th:only-of-type {\n        vertical-align: middle;\n    }\n\n    .dataframe tbody tr th {\n        vertical-align: top;\n    }\n\n    .dataframe thead th {\n        text-align: right;\n    }\n</style>\n<table border=\"1\" class=\"dataframe\">\n  <thead>\n    <tr style=\"text-align: right;\">\n      <th></th>\n      <th>Australian Bureau of Statistics</th>\n      <th>Unnamed: 1</th>\n      <th>Unnamed: 2</th>\n      <th>Unnamed: 3</th>\n      <th>Unnamed: 4</th>\n      <th>Unnamed: 5</th>\n      <th>Unnamed: 6</th>\n      <th>Unnamed: 7</th>\n      <th>Unnamed: 8</th>\n      <th>Unnamed: 9</th>\n    </tr>\n  </thead>\n  <tbody>\n    <tr>\n      <th>0</th>\n      <td>Had difficulty finding work</td>\n      <td>NaN</td>\n      <td>240.158</td>\n      <td>119.005</td>\n      <td>89.5895</td>\n      <td>81.8611</td>\n      <td>81.7914</td>\n      <td>331.158</td>\n      <td>281.248</td>\n      <td>612.405</td>\n    </tr>\n    <tr>\n      <th>1</th>\n      <td>Too many applicants for available jobs</td>\n      <td>NaN</td>\n      <td>46.7344</td>\n      <td>20.4862</td>\n      <td>21.9081</td>\n      <td>13.2327</td>\n      <td>9.51845</td>\n      <td>62.8826</td>\n      <td>48.9972</td>\n      <td>111.88</td>\n    </tr>\n    <tr>\n      <th>2</th>\n      <td>Lacked necessary skills or education</td>\n      <td>NaN</td>\n      <td>21.6786</td>\n      <td>14.2312</td>\n      <td>3.39693</td>\n      <td>5.91124</td>\n      <td>5.4021</td>\n      <td>25.604</td>\n      <td>25.0161</td>\n      <td>50.6201</td>\n    </tr>\n    <tr>\n      <th>3</th>\n      <td>Considered too young by employers</td>\n      <td>NaN</td>\n      <td>5.95113</td>\n      <td>0.671009</td>\n      <td>-</td>\n      <td>-</td>\n      <td>-</td>\n      <td>3.35417</td>\n      <td>3.26798</td>\n      <td>6.62214</td>\n    </tr>\n    <tr>\n      <th>4</th>\n      <td>Considered too old by employers</td>\n      <td>NaN</td>\n      <td>3.53253</td>\n      <td>1.75023</td>\n      <td>0.909375</td>\n      <td>6.9906</td>\n      <td>28.5424</td>\n      <td>23.185</td>\n      <td>18.5401</td>\n      <td>41.7251</td>\n    </tr>\n    <tr>\n      <th>5</th>\n      <td>Insufficient work experience</td>\n      <td>NaN</td>\n      <td>57.5263</td>\n      <td>16.2254</td>\n      <td>6.03754</td>\n      <td>3.16761</td>\n      <td>0.778057</td>\n      <td>42.8526</td>\n      <td>40.8823</td>\n      <td>83.7349</td>\n    </tr>\n    <tr>\n      <th>6</th>\n      <td>No vacancies at all</td>\n      <td>NaN</td>\n      <td>15.9131</td>\n      <td>5.07731</td>\n      <td>4.57682</td>\n      <td>2.93412</td>\n      <td>4.14528</td>\n      <td>19.6673</td>\n      <td>12.9793</td>\n      <td>32.6466</td>\n    </tr>\n    <tr>\n      <th>7</th>\n      <td>No vacancies in line of work</td>\n      <td>NaN</td>\n      <td>8.93312</td>\n      <td>4.89334</td>\n      <td>6.88117</td>\n      <td>10.7606</td>\n      <td>6.17881</td>\n      <td>24.7225</td>\n      <td>12.9245</td>\n      <td>37.647</td>\n    </tr>\n    <tr>\n      <th>8</th>\n      <td>Too far to travel/transport problems</td>\n      <td>NaN</td>\n      <td>12.8865</td>\n      <td>5.43615</td>\n      <td>3.19061</td>\n      <td>3.33686</td>\n      <td>2.74652</td>\n      <td>22.4092</td>\n      <td>5.18742</td>\n      <td>27.5966</td>\n    </tr>\n    <tr>\n      <th>9</th>\n      <td>Own ill health or disability</td>\n      <td>NaN</td>\n      <td>14.9002</td>\n      <td>10.695</td>\n      <td>10.9637</td>\n      <td>13.0677</td>\n      <td>8.88243</td>\n      <td>34.3159</td>\n      <td>24.1933</td>\n      <td>58.5091</td>\n    </tr>\n    <tr>\n      <th>10</th>\n      <td>Language difficulties</td>\n      <td>NaN</td>\n      <td>1.35856</td>\n      <td>2.41557</td>\n      <td>4.44544</td>\n      <td>3.54547</td>\n      <td>2.36169</td>\n      <td>4.51758</td>\n      <td>9.60915</td>\n      <td>14.1267</td>\n    </tr>\n    <tr>\n      <th>11</th>\n      <td>Unsuitable hours</td>\n      <td>NaN</td>\n      <td>11.8411</td>\n      <td>5.971</td>\n      <td>10.37</td>\n      <td>4.97441</td>\n      <td>1.27637</td>\n      <td>12.8504</td>\n      <td>21.5825</td>\n      <td>34.4329</td>\n    </tr>\n    <tr>\n      <th>12</th>\n      <td>Difficulties with finding childcare and other ...</td>\n      <td>NaN</td>\n      <td>1.82282</td>\n      <td>5.30417</td>\n      <td>5.29949</td>\n      <td>6.09695</td>\n      <td>0.657959</td>\n      <td>5.62373</td>\n      <td>13.5577</td>\n      <td>19.1814</td>\n    </tr>\n    <tr>\n      <th>13</th>\n      <td>No feedback from employers</td>\n      <td>NaN</td>\n      <td>3.68466</td>\n      <td>1.95561</td>\n      <td>1.19173</td>\n      <td>1.71274</td>\n      <td>1.27363</td>\n      <td>5.10944</td>\n      <td>4.70894</td>\n      <td>9.81837</td>\n    </tr>\n    <tr>\n      <th>14</th>\n      <td>Other difficulties</td>\n      <td>NaN</td>\n      <td>33.3951</td>\n      <td>23.8928</td>\n      <td>10.4185</td>\n      <td>6.13019</td>\n      <td>10.0277</td>\n      <td>44.0632</td>\n      <td>39.8012</td>\n      <td>83.8644</td>\n    </tr>\n    <tr>\n      <th>15</th>\n      <td>Did not have difficulty finding work</td>\n      <td>NaN</td>\n      <td>40.4514</td>\n      <td>22.1285</td>\n      <td>12.1295</td>\n      <td>9.98663</td>\n      <td>8.48255</td>\n      <td>49.7492</td>\n      <td>43.4294</td>\n      <td>93.1786</td>\n    </tr>\n    <tr>\n      <th>16</th>\n      <td>Total</td>\n      <td>NaN</td>\n      <td>280.609</td>\n      <td>141.134</td>\n      <td>101.719</td>\n      <td>91.8478</td>\n      <td>90.274</td>\n      <td>380.907</td>\n      <td>324.677</td>\n      <td>705.584</td>\n    </tr>\n  </tbody>\n</table>\n</div>"
     },
     "metadata": {},
     "execution_count": 5
    }
   ],
   "source": [
    "# drop the row that has a breakdown provided underneath\n",
    "difficulties_all = difficulties_df.drop(difficulties_df.index[3]).copy()\n",
    "difficulties_all.reset_index(drop=True, inplace=True)\n",
    "difficulties_all"
   ]
  },
  {
   "cell_type": "code",
   "execution_count": 6,
   "metadata": {},
   "outputs": [
    {
     "output_type": "execute_result",
     "data": {
      "text/plain": [
       "                                      Main difficulty  empty    15–24  \\\n",
       "0                         Had difficulty finding work    NaN  240.158   \n",
       "1              Too many applicants for available jobs    NaN  46.7344   \n",
       "2                Lacked necessary skills or education    NaN  21.6786   \n",
       "3                   Considered too young by employers    NaN  5.95113   \n",
       "4                     Considered too old by employers    NaN  3.53253   \n",
       "5                        Insufficient work experience    NaN  57.5263   \n",
       "6                                 No vacancies at all    NaN  15.9131   \n",
       "7                        No vacancies in line of work    NaN  8.93312   \n",
       "8                Too far to travel/transport problems    NaN  12.8865   \n",
       "9                        Own ill health or disability    NaN  14.9002   \n",
       "10                              Language difficulties    NaN  1.35856   \n",
       "11                                   Unsuitable hours    NaN  11.8411   \n",
       "12  Difficulties with finding childcare and other ...    NaN  1.82282   \n",
       "13                         No feedback from employers    NaN  3.68466   \n",
       "14                                 Other difficulties    NaN  33.3951   \n",
       "15               Did not have difficulty finding work    NaN  40.4514   \n",
       "16                                              Total    NaN  280.609   \n",
       "\n",
       "       25–34     35–44    45–54 55 and over    Males  Females  Persons  \n",
       "0    119.005   89.5895  81.8611     81.7914  331.158  281.248  612.405  \n",
       "1    20.4862   21.9081  13.2327     9.51845  62.8826  48.9972   111.88  \n",
       "2    14.2312   3.39693  5.91124      5.4021   25.604  25.0161  50.6201  \n",
       "3   0.671009         -        -           -  3.35417  3.26798  6.62214  \n",
       "4    1.75023  0.909375   6.9906     28.5424   23.185  18.5401  41.7251  \n",
       "5    16.2254   6.03754  3.16761    0.778057  42.8526  40.8823  83.7349  \n",
       "6    5.07731   4.57682  2.93412     4.14528  19.6673  12.9793  32.6466  \n",
       "7    4.89334   6.88117  10.7606     6.17881  24.7225  12.9245   37.647  \n",
       "8    5.43615   3.19061  3.33686     2.74652  22.4092  5.18742  27.5966  \n",
       "9     10.695   10.9637  13.0677     8.88243  34.3159  24.1933  58.5091  \n",
       "10   2.41557   4.44544  3.54547     2.36169  4.51758  9.60915  14.1267  \n",
       "11     5.971     10.37  4.97441     1.27637  12.8504  21.5825  34.4329  \n",
       "12   5.30417   5.29949  6.09695    0.657959  5.62373  13.5577  19.1814  \n",
       "13   1.95561   1.19173  1.71274     1.27363  5.10944  4.70894  9.81837  \n",
       "14   23.8928   10.4185  6.13019     10.0277  44.0632  39.8012  83.8644  \n",
       "15   22.1285   12.1295  9.98663     8.48255  49.7492  43.4294  93.1786  \n",
       "16   141.134   101.719  91.8478      90.274  380.907  324.677  705.584  "
      ],
      "text/html": "<div>\n<style scoped>\n    .dataframe tbody tr th:only-of-type {\n        vertical-align: middle;\n    }\n\n    .dataframe tbody tr th {\n        vertical-align: top;\n    }\n\n    .dataframe thead th {\n        text-align: right;\n    }\n</style>\n<table border=\"1\" class=\"dataframe\">\n  <thead>\n    <tr style=\"text-align: right;\">\n      <th></th>\n      <th>Main difficulty</th>\n      <th>empty</th>\n      <th>15–24</th>\n      <th>25–34</th>\n      <th>35–44</th>\n      <th>45–54</th>\n      <th>55 and over</th>\n      <th>Males</th>\n      <th>Females</th>\n      <th>Persons</th>\n    </tr>\n  </thead>\n  <tbody>\n    <tr>\n      <th>0</th>\n      <td>Had difficulty finding work</td>\n      <td>NaN</td>\n      <td>240.158</td>\n      <td>119.005</td>\n      <td>89.5895</td>\n      <td>81.8611</td>\n      <td>81.7914</td>\n      <td>331.158</td>\n      <td>281.248</td>\n      <td>612.405</td>\n    </tr>\n    <tr>\n      <th>1</th>\n      <td>Too many applicants for available jobs</td>\n      <td>NaN</td>\n      <td>46.7344</td>\n      <td>20.4862</td>\n      <td>21.9081</td>\n      <td>13.2327</td>\n      <td>9.51845</td>\n      <td>62.8826</td>\n      <td>48.9972</td>\n      <td>111.88</td>\n    </tr>\n    <tr>\n      <th>2</th>\n      <td>Lacked necessary skills or education</td>\n      <td>NaN</td>\n      <td>21.6786</td>\n      <td>14.2312</td>\n      <td>3.39693</td>\n      <td>5.91124</td>\n      <td>5.4021</td>\n      <td>25.604</td>\n      <td>25.0161</td>\n      <td>50.6201</td>\n    </tr>\n    <tr>\n      <th>3</th>\n      <td>Considered too young by employers</td>\n      <td>NaN</td>\n      <td>5.95113</td>\n      <td>0.671009</td>\n      <td>-</td>\n      <td>-</td>\n      <td>-</td>\n      <td>3.35417</td>\n      <td>3.26798</td>\n      <td>6.62214</td>\n    </tr>\n    <tr>\n      <th>4</th>\n      <td>Considered too old by employers</td>\n      <td>NaN</td>\n      <td>3.53253</td>\n      <td>1.75023</td>\n      <td>0.909375</td>\n      <td>6.9906</td>\n      <td>28.5424</td>\n      <td>23.185</td>\n      <td>18.5401</td>\n      <td>41.7251</td>\n    </tr>\n    <tr>\n      <th>5</th>\n      <td>Insufficient work experience</td>\n      <td>NaN</td>\n      <td>57.5263</td>\n      <td>16.2254</td>\n      <td>6.03754</td>\n      <td>3.16761</td>\n      <td>0.778057</td>\n      <td>42.8526</td>\n      <td>40.8823</td>\n      <td>83.7349</td>\n    </tr>\n    <tr>\n      <th>6</th>\n      <td>No vacancies at all</td>\n      <td>NaN</td>\n      <td>15.9131</td>\n      <td>5.07731</td>\n      <td>4.57682</td>\n      <td>2.93412</td>\n      <td>4.14528</td>\n      <td>19.6673</td>\n      <td>12.9793</td>\n      <td>32.6466</td>\n    </tr>\n    <tr>\n      <th>7</th>\n      <td>No vacancies in line of work</td>\n      <td>NaN</td>\n      <td>8.93312</td>\n      <td>4.89334</td>\n      <td>6.88117</td>\n      <td>10.7606</td>\n      <td>6.17881</td>\n      <td>24.7225</td>\n      <td>12.9245</td>\n      <td>37.647</td>\n    </tr>\n    <tr>\n      <th>8</th>\n      <td>Too far to travel/transport problems</td>\n      <td>NaN</td>\n      <td>12.8865</td>\n      <td>5.43615</td>\n      <td>3.19061</td>\n      <td>3.33686</td>\n      <td>2.74652</td>\n      <td>22.4092</td>\n      <td>5.18742</td>\n      <td>27.5966</td>\n    </tr>\n    <tr>\n      <th>9</th>\n      <td>Own ill health or disability</td>\n      <td>NaN</td>\n      <td>14.9002</td>\n      <td>10.695</td>\n      <td>10.9637</td>\n      <td>13.0677</td>\n      <td>8.88243</td>\n      <td>34.3159</td>\n      <td>24.1933</td>\n      <td>58.5091</td>\n    </tr>\n    <tr>\n      <th>10</th>\n      <td>Language difficulties</td>\n      <td>NaN</td>\n      <td>1.35856</td>\n      <td>2.41557</td>\n      <td>4.44544</td>\n      <td>3.54547</td>\n      <td>2.36169</td>\n      <td>4.51758</td>\n      <td>9.60915</td>\n      <td>14.1267</td>\n    </tr>\n    <tr>\n      <th>11</th>\n      <td>Unsuitable hours</td>\n      <td>NaN</td>\n      <td>11.8411</td>\n      <td>5.971</td>\n      <td>10.37</td>\n      <td>4.97441</td>\n      <td>1.27637</td>\n      <td>12.8504</td>\n      <td>21.5825</td>\n      <td>34.4329</td>\n    </tr>\n    <tr>\n      <th>12</th>\n      <td>Difficulties with finding childcare and other ...</td>\n      <td>NaN</td>\n      <td>1.82282</td>\n      <td>5.30417</td>\n      <td>5.29949</td>\n      <td>6.09695</td>\n      <td>0.657959</td>\n      <td>5.62373</td>\n      <td>13.5577</td>\n      <td>19.1814</td>\n    </tr>\n    <tr>\n      <th>13</th>\n      <td>No feedback from employers</td>\n      <td>NaN</td>\n      <td>3.68466</td>\n      <td>1.95561</td>\n      <td>1.19173</td>\n      <td>1.71274</td>\n      <td>1.27363</td>\n      <td>5.10944</td>\n      <td>4.70894</td>\n      <td>9.81837</td>\n    </tr>\n    <tr>\n      <th>14</th>\n      <td>Other difficulties</td>\n      <td>NaN</td>\n      <td>33.3951</td>\n      <td>23.8928</td>\n      <td>10.4185</td>\n      <td>6.13019</td>\n      <td>10.0277</td>\n      <td>44.0632</td>\n      <td>39.8012</td>\n      <td>83.8644</td>\n    </tr>\n    <tr>\n      <th>15</th>\n      <td>Did not have difficulty finding work</td>\n      <td>NaN</td>\n      <td>40.4514</td>\n      <td>22.1285</td>\n      <td>12.1295</td>\n      <td>9.98663</td>\n      <td>8.48255</td>\n      <td>49.7492</td>\n      <td>43.4294</td>\n      <td>93.1786</td>\n    </tr>\n    <tr>\n      <th>16</th>\n      <td>Total</td>\n      <td>NaN</td>\n      <td>280.609</td>\n      <td>141.134</td>\n      <td>101.719</td>\n      <td>91.8478</td>\n      <td>90.274</td>\n      <td>380.907</td>\n      <td>324.677</td>\n      <td>705.584</td>\n    </tr>\n  </tbody>\n</table>\n</div>"
     },
     "metadata": {},
     "execution_count": 6
    }
   ],
   "source": [
    "# rename columns\n",
    "difficulties_all.columns = ['Main difficulty', 'empty', '15–24', '25–34', '35–44', '45–54', '55 and over', 'Males', 'Females', 'Persons']\n",
    "difficulties_all"
   ]
  },
  {
   "cell_type": "code",
   "execution_count": 7,
   "metadata": {},
   "outputs": [
    {
     "output_type": "stream",
     "name": "stdout",
     "text": [
      "<class 'pandas.core.frame.DataFrame'>\nRangeIndex: 17 entries, 0 to 16\nData columns (total 10 columns):\n #   Column           Non-Null Count  Dtype  \n---  ------           --------------  -----  \n 0   Main difficulty  17 non-null     object \n 1   empty            0 non-null      float64\n 2   15–24            17 non-null     object \n 3   25–34            17 non-null     object \n 4   35–44            17 non-null     object \n 5   45–54            17 non-null     object \n 6   55 and over      17 non-null     object \n 7   Males            17 non-null     object \n 8   Females          17 non-null     object \n 9   Persons          17 non-null     object \ndtypes: float64(1), object(9)\nmemory usage: 812.0+ bytes\n"
     ]
    }
   ],
   "source": [
    "# check data types\n",
    "difficulties_all.info()"
   ]
  },
  {
   "cell_type": "code",
   "execution_count": 8,
   "metadata": {},
   "outputs": [
    {
     "output_type": "stream",
     "name": "stdout",
     "text": [
      "<class 'pandas.core.frame.DataFrame'>\nRangeIndex: 17 entries, 0 to 16\nData columns (total 10 columns):\n #   Column           Non-Null Count  Dtype  \n---  ------           --------------  -----  \n 0   Main difficulty  17 non-null     object \n 1   empty            0 non-null      float64\n 2   15–24            17 non-null     float64\n 3   25–34            17 non-null     float64\n 4   35–44            16 non-null     float64\n 5   45–54            16 non-null     float64\n 6   55 and over      16 non-null     float64\n 7   Males            17 non-null     float64\n 8   Females          17 non-null     float64\n 9   Persons          17 non-null     float64\ndtypes: float64(9), object(1)\nmemory usage: 1.3+ KB\n"
     ]
    }
   ],
   "source": [
    "# convert objects to float\n",
    "difficulties_all[['15–24', '25–34', '35–44', '45–54', '55 and over', 'Males', 'Females', 'Persons']] = difficulties_all[['15–24', '25–34', '35–44', '45–54', '55 and over', 'Males', 'Females', 'Persons']].apply(pd.to_numeric, errors='coerce')\n",
    "difficulties_all.info()"
   ]
  },
  {
   "cell_type": "code",
   "execution_count": 9,
   "metadata": {},
   "outputs": [
    {
     "output_type": "execute_result",
     "data": {
      "text/plain": [
       "                                      Main difficulty  empty          15–24  \\\n",
       "0                         Had difficulty finding work    NaN  240158.116060   \n",
       "1              Too many applicants for available jobs    NaN   46734.396557   \n",
       "2                Lacked necessary skills or education    NaN   21678.554854   \n",
       "3                   Considered too young by employers    NaN    5951.133470   \n",
       "4                     Considered too old by employers    NaN    3532.529802   \n",
       "5                        Insufficient work experience    NaN   57526.349373   \n",
       "6                                 No vacancies at all    NaN   15913.068660   \n",
       "7                        No vacancies in line of work    NaN    8933.120816   \n",
       "8                Too far to travel/transport problems    NaN   12886.493486   \n",
       "9                        Own ill health or disability    NaN   14900.209321   \n",
       "10                              Language difficulties    NaN    1358.562757   \n",
       "11                                   Unsuitable hours    NaN   11841.100445   \n",
       "12  Difficulties with finding childcare and other ...    NaN    1822.822910   \n",
       "13                         No feedback from employers    NaN    3684.663214   \n",
       "14                                 Other difficulties    NaN   33395.110392   \n",
       "15               Did not have difficulty finding work    NaN   40451.360268   \n",
       "16                                              Total    NaN  280609.476330   \n",
       "\n",
       "            25–34          35–44         45–54   55 and over          Males  \\\n",
       "0   119005.024210   89589.492147  81861.133106  81791.417782  331157.519690   \n",
       "1    20486.180561   21908.059904  13232.659482   9518.451962   62882.553618   \n",
       "2    14231.247748    3396.928146   5911.239197   5402.104458   25604.005010   \n",
       "3      671.009086            NaN           NaN           NaN    3354.167275   \n",
       "4     1750.225073     909.375225   6990.596409  28542.376326   23184.996671   \n",
       "5    16225.368167    6037.543150   3167.605777    778.057292   42852.601306   \n",
       "6     5077.309599    4576.823966   2934.115375   4145.280109   19667.275674   \n",
       "7     4893.336789    6881.172060  10760.574100   6178.813403   24722.515942   \n",
       "8     5436.145859    3190.614224   3336.857243   2746.520311   22409.212819   \n",
       "9    10695.032657   10963.737186  13067.723727   8882.430756   34315.855276   \n",
       "10    2415.568181    4445.435048   3545.472082   2361.688603    4517.577435   \n",
       "11    5970.996839   10370.045337   4974.409797   1276.367414   12850.392465   \n",
       "12    5304.168077    5299.485374   6096.953746    657.959392    5623.734574   \n",
       "13    1955.613270    1191.729457   1712.736544   1273.632266    5109.437675   \n",
       "14   23892.822308   10418.543069   6130.189625  10027.735490   44063.193949   \n",
       "15   22128.486151   12129.547432   9986.630903   8482.545165   49749.161196   \n",
       "16  141133.510360  101719.039580  91847.764009  90273.962947  380906.680880   \n",
       "\n",
       "          Females        Persons  \n",
       "0   281247.663620  612405.183310  \n",
       "1    48997.194850  111879.748470  \n",
       "2    25016.069394   50620.074404  \n",
       "3     3267.975281    6622.142556  \n",
       "4    18540.106164   41725.102835  \n",
       "5    40882.322455   83734.923761  \n",
       "6    12979.322034   32646.597709  \n",
       "7    12924.501228   37647.017169  \n",
       "8     5187.418304   27596.631123  \n",
       "9    24193.278371   58509.133647  \n",
       "10    9609.149236   14126.726671  \n",
       "11   21582.527368   34432.919833  \n",
       "12   13557.654924   19181.389498  \n",
       "13    4708.937075    9818.374750  \n",
       "14   39801.206935   83864.400884  \n",
       "15   43429.408722   93178.569919  \n",
       "16  324677.072340  705583.753230  "
      ],
      "text/html": "<div>\n<style scoped>\n    .dataframe tbody tr th:only-of-type {\n        vertical-align: middle;\n    }\n\n    .dataframe tbody tr th {\n        vertical-align: top;\n    }\n\n    .dataframe thead th {\n        text-align: right;\n    }\n</style>\n<table border=\"1\" class=\"dataframe\">\n  <thead>\n    <tr style=\"text-align: right;\">\n      <th></th>\n      <th>Main difficulty</th>\n      <th>empty</th>\n      <th>15–24</th>\n      <th>25–34</th>\n      <th>35–44</th>\n      <th>45–54</th>\n      <th>55 and over</th>\n      <th>Males</th>\n      <th>Females</th>\n      <th>Persons</th>\n    </tr>\n  </thead>\n  <tbody>\n    <tr>\n      <th>0</th>\n      <td>Had difficulty finding work</td>\n      <td>NaN</td>\n      <td>240158.116060</td>\n      <td>119005.024210</td>\n      <td>89589.492147</td>\n      <td>81861.133106</td>\n      <td>81791.417782</td>\n      <td>331157.519690</td>\n      <td>281247.663620</td>\n      <td>612405.183310</td>\n    </tr>\n    <tr>\n      <th>1</th>\n      <td>Too many applicants for available jobs</td>\n      <td>NaN</td>\n      <td>46734.396557</td>\n      <td>20486.180561</td>\n      <td>21908.059904</td>\n      <td>13232.659482</td>\n      <td>9518.451962</td>\n      <td>62882.553618</td>\n      <td>48997.194850</td>\n      <td>111879.748470</td>\n    </tr>\n    <tr>\n      <th>2</th>\n      <td>Lacked necessary skills or education</td>\n      <td>NaN</td>\n      <td>21678.554854</td>\n      <td>14231.247748</td>\n      <td>3396.928146</td>\n      <td>5911.239197</td>\n      <td>5402.104458</td>\n      <td>25604.005010</td>\n      <td>25016.069394</td>\n      <td>50620.074404</td>\n    </tr>\n    <tr>\n      <th>3</th>\n      <td>Considered too young by employers</td>\n      <td>NaN</td>\n      <td>5951.133470</td>\n      <td>671.009086</td>\n      <td>NaN</td>\n      <td>NaN</td>\n      <td>NaN</td>\n      <td>3354.167275</td>\n      <td>3267.975281</td>\n      <td>6622.142556</td>\n    </tr>\n    <tr>\n      <th>4</th>\n      <td>Considered too old by employers</td>\n      <td>NaN</td>\n      <td>3532.529802</td>\n      <td>1750.225073</td>\n      <td>909.375225</td>\n      <td>6990.596409</td>\n      <td>28542.376326</td>\n      <td>23184.996671</td>\n      <td>18540.106164</td>\n      <td>41725.102835</td>\n    </tr>\n    <tr>\n      <th>5</th>\n      <td>Insufficient work experience</td>\n      <td>NaN</td>\n      <td>57526.349373</td>\n      <td>16225.368167</td>\n      <td>6037.543150</td>\n      <td>3167.605777</td>\n      <td>778.057292</td>\n      <td>42852.601306</td>\n      <td>40882.322455</td>\n      <td>83734.923761</td>\n    </tr>\n    <tr>\n      <th>6</th>\n      <td>No vacancies at all</td>\n      <td>NaN</td>\n      <td>15913.068660</td>\n      <td>5077.309599</td>\n      <td>4576.823966</td>\n      <td>2934.115375</td>\n      <td>4145.280109</td>\n      <td>19667.275674</td>\n      <td>12979.322034</td>\n      <td>32646.597709</td>\n    </tr>\n    <tr>\n      <th>7</th>\n      <td>No vacancies in line of work</td>\n      <td>NaN</td>\n      <td>8933.120816</td>\n      <td>4893.336789</td>\n      <td>6881.172060</td>\n      <td>10760.574100</td>\n      <td>6178.813403</td>\n      <td>24722.515942</td>\n      <td>12924.501228</td>\n      <td>37647.017169</td>\n    </tr>\n    <tr>\n      <th>8</th>\n      <td>Too far to travel/transport problems</td>\n      <td>NaN</td>\n      <td>12886.493486</td>\n      <td>5436.145859</td>\n      <td>3190.614224</td>\n      <td>3336.857243</td>\n      <td>2746.520311</td>\n      <td>22409.212819</td>\n      <td>5187.418304</td>\n      <td>27596.631123</td>\n    </tr>\n    <tr>\n      <th>9</th>\n      <td>Own ill health or disability</td>\n      <td>NaN</td>\n      <td>14900.209321</td>\n      <td>10695.032657</td>\n      <td>10963.737186</td>\n      <td>13067.723727</td>\n      <td>8882.430756</td>\n      <td>34315.855276</td>\n      <td>24193.278371</td>\n      <td>58509.133647</td>\n    </tr>\n    <tr>\n      <th>10</th>\n      <td>Language difficulties</td>\n      <td>NaN</td>\n      <td>1358.562757</td>\n      <td>2415.568181</td>\n      <td>4445.435048</td>\n      <td>3545.472082</td>\n      <td>2361.688603</td>\n      <td>4517.577435</td>\n      <td>9609.149236</td>\n      <td>14126.726671</td>\n    </tr>\n    <tr>\n      <th>11</th>\n      <td>Unsuitable hours</td>\n      <td>NaN</td>\n      <td>11841.100445</td>\n      <td>5970.996839</td>\n      <td>10370.045337</td>\n      <td>4974.409797</td>\n      <td>1276.367414</td>\n      <td>12850.392465</td>\n      <td>21582.527368</td>\n      <td>34432.919833</td>\n    </tr>\n    <tr>\n      <th>12</th>\n      <td>Difficulties with finding childcare and other ...</td>\n      <td>NaN</td>\n      <td>1822.822910</td>\n      <td>5304.168077</td>\n      <td>5299.485374</td>\n      <td>6096.953746</td>\n      <td>657.959392</td>\n      <td>5623.734574</td>\n      <td>13557.654924</td>\n      <td>19181.389498</td>\n    </tr>\n    <tr>\n      <th>13</th>\n      <td>No feedback from employers</td>\n      <td>NaN</td>\n      <td>3684.663214</td>\n      <td>1955.613270</td>\n      <td>1191.729457</td>\n      <td>1712.736544</td>\n      <td>1273.632266</td>\n      <td>5109.437675</td>\n      <td>4708.937075</td>\n      <td>9818.374750</td>\n    </tr>\n    <tr>\n      <th>14</th>\n      <td>Other difficulties</td>\n      <td>NaN</td>\n      <td>33395.110392</td>\n      <td>23892.822308</td>\n      <td>10418.543069</td>\n      <td>6130.189625</td>\n      <td>10027.735490</td>\n      <td>44063.193949</td>\n      <td>39801.206935</td>\n      <td>83864.400884</td>\n    </tr>\n    <tr>\n      <th>15</th>\n      <td>Did not have difficulty finding work</td>\n      <td>NaN</td>\n      <td>40451.360268</td>\n      <td>22128.486151</td>\n      <td>12129.547432</td>\n      <td>9986.630903</td>\n      <td>8482.545165</td>\n      <td>49749.161196</td>\n      <td>43429.408722</td>\n      <td>93178.569919</td>\n    </tr>\n    <tr>\n      <th>16</th>\n      <td>Total</td>\n      <td>NaN</td>\n      <td>280609.476330</td>\n      <td>141133.510360</td>\n      <td>101719.039580</td>\n      <td>91847.764009</td>\n      <td>90273.962947</td>\n      <td>380906.680880</td>\n      <td>324677.072340</td>\n      <td>705583.753230</td>\n    </tr>\n  </tbody>\n</table>\n</div>"
     },
     "metadata": {},
     "execution_count": 9
    }
   ],
   "source": [
    "# set values to actual amount\n",
    "difficulties_all[['15–24', '25–34', '35–44', '45–54', '55 and over', 'Males', 'Females', 'Persons']] = difficulties_all[['15–24', '25–34', '35–44', '45–54', '55 and over', 'Males', 'Females', 'Persons']] * 1000\n",
    "difficulties_all"
   ]
  },
  {
   "cell_type": "code",
   "execution_count": 10,
   "metadata": {},
   "outputs": [
    {
     "output_type": "execute_result",
     "data": {
      "text/plain": [
       "                                      Main difficulty          15–24  \\\n",
       "0                         Had difficulty finding work  240158.116060   \n",
       "1              Too many applicants for available jobs   46734.396557   \n",
       "2                Lacked necessary skills or education   21678.554854   \n",
       "3                   Considered too young by employers    5951.133470   \n",
       "4                     Considered too old by employers    3532.529802   \n",
       "5                        Insufficient work experience   57526.349373   \n",
       "6                                 No vacancies at all   15913.068660   \n",
       "7                        No vacancies in line of work    8933.120816   \n",
       "8                Too far to travel/transport problems   12886.493486   \n",
       "9                        Own ill health or disability   14900.209321   \n",
       "10                              Language difficulties    1358.562757   \n",
       "11                                   Unsuitable hours   11841.100445   \n",
       "12  Difficulties with finding childcare and other ...    1822.822910   \n",
       "13                         No feedback from employers    3684.663214   \n",
       "14                                 Other difficulties   33395.110392   \n",
       "15               Did not have difficulty finding work   40451.360268   \n",
       "16                                              Total  280609.476330   \n",
       "\n",
       "            25–34          35–44         45–54   55 and over  \n",
       "0   119005.024210   89589.492147  81861.133106  81791.417782  \n",
       "1    20486.180561   21908.059904  13232.659482   9518.451962  \n",
       "2    14231.247748    3396.928146   5911.239197   5402.104458  \n",
       "3      671.009086            NaN           NaN           NaN  \n",
       "4     1750.225073     909.375225   6990.596409  28542.376326  \n",
       "5    16225.368167    6037.543150   3167.605777    778.057292  \n",
       "6     5077.309599    4576.823966   2934.115375   4145.280109  \n",
       "7     4893.336789    6881.172060  10760.574100   6178.813403  \n",
       "8     5436.145859    3190.614224   3336.857243   2746.520311  \n",
       "9    10695.032657   10963.737186  13067.723727   8882.430756  \n",
       "10    2415.568181    4445.435048   3545.472082   2361.688603  \n",
       "11    5970.996839   10370.045337   4974.409797   1276.367414  \n",
       "12    5304.168077    5299.485374   6096.953746    657.959392  \n",
       "13    1955.613270    1191.729457   1712.736544   1273.632266  \n",
       "14   23892.822308   10418.543069   6130.189625  10027.735490  \n",
       "15   22128.486151   12129.547432   9986.630903   8482.545165  \n",
       "16  141133.510360  101719.039580  91847.764009  90273.962947  "
      ],
      "text/html": "<div>\n<style scoped>\n    .dataframe tbody tr th:only-of-type {\n        vertical-align: middle;\n    }\n\n    .dataframe tbody tr th {\n        vertical-align: top;\n    }\n\n    .dataframe thead th {\n        text-align: right;\n    }\n</style>\n<table border=\"1\" class=\"dataframe\">\n  <thead>\n    <tr style=\"text-align: right;\">\n      <th></th>\n      <th>Main difficulty</th>\n      <th>15–24</th>\n      <th>25–34</th>\n      <th>35–44</th>\n      <th>45–54</th>\n      <th>55 and over</th>\n    </tr>\n  </thead>\n  <tbody>\n    <tr>\n      <th>0</th>\n      <td>Had difficulty finding work</td>\n      <td>240158.116060</td>\n      <td>119005.024210</td>\n      <td>89589.492147</td>\n      <td>81861.133106</td>\n      <td>81791.417782</td>\n    </tr>\n    <tr>\n      <th>1</th>\n      <td>Too many applicants for available jobs</td>\n      <td>46734.396557</td>\n      <td>20486.180561</td>\n      <td>21908.059904</td>\n      <td>13232.659482</td>\n      <td>9518.451962</td>\n    </tr>\n    <tr>\n      <th>2</th>\n      <td>Lacked necessary skills or education</td>\n      <td>21678.554854</td>\n      <td>14231.247748</td>\n      <td>3396.928146</td>\n      <td>5911.239197</td>\n      <td>5402.104458</td>\n    </tr>\n    <tr>\n      <th>3</th>\n      <td>Considered too young by employers</td>\n      <td>5951.133470</td>\n      <td>671.009086</td>\n      <td>NaN</td>\n      <td>NaN</td>\n      <td>NaN</td>\n    </tr>\n    <tr>\n      <th>4</th>\n      <td>Considered too old by employers</td>\n      <td>3532.529802</td>\n      <td>1750.225073</td>\n      <td>909.375225</td>\n      <td>6990.596409</td>\n      <td>28542.376326</td>\n    </tr>\n    <tr>\n      <th>5</th>\n      <td>Insufficient work experience</td>\n      <td>57526.349373</td>\n      <td>16225.368167</td>\n      <td>6037.543150</td>\n      <td>3167.605777</td>\n      <td>778.057292</td>\n    </tr>\n    <tr>\n      <th>6</th>\n      <td>No vacancies at all</td>\n      <td>15913.068660</td>\n      <td>5077.309599</td>\n      <td>4576.823966</td>\n      <td>2934.115375</td>\n      <td>4145.280109</td>\n    </tr>\n    <tr>\n      <th>7</th>\n      <td>No vacancies in line of work</td>\n      <td>8933.120816</td>\n      <td>4893.336789</td>\n      <td>6881.172060</td>\n      <td>10760.574100</td>\n      <td>6178.813403</td>\n    </tr>\n    <tr>\n      <th>8</th>\n      <td>Too far to travel/transport problems</td>\n      <td>12886.493486</td>\n      <td>5436.145859</td>\n      <td>3190.614224</td>\n      <td>3336.857243</td>\n      <td>2746.520311</td>\n    </tr>\n    <tr>\n      <th>9</th>\n      <td>Own ill health or disability</td>\n      <td>14900.209321</td>\n      <td>10695.032657</td>\n      <td>10963.737186</td>\n      <td>13067.723727</td>\n      <td>8882.430756</td>\n    </tr>\n    <tr>\n      <th>10</th>\n      <td>Language difficulties</td>\n      <td>1358.562757</td>\n      <td>2415.568181</td>\n      <td>4445.435048</td>\n      <td>3545.472082</td>\n      <td>2361.688603</td>\n    </tr>\n    <tr>\n      <th>11</th>\n      <td>Unsuitable hours</td>\n      <td>11841.100445</td>\n      <td>5970.996839</td>\n      <td>10370.045337</td>\n      <td>4974.409797</td>\n      <td>1276.367414</td>\n    </tr>\n    <tr>\n      <th>12</th>\n      <td>Difficulties with finding childcare and other ...</td>\n      <td>1822.822910</td>\n      <td>5304.168077</td>\n      <td>5299.485374</td>\n      <td>6096.953746</td>\n      <td>657.959392</td>\n    </tr>\n    <tr>\n      <th>13</th>\n      <td>No feedback from employers</td>\n      <td>3684.663214</td>\n      <td>1955.613270</td>\n      <td>1191.729457</td>\n      <td>1712.736544</td>\n      <td>1273.632266</td>\n    </tr>\n    <tr>\n      <th>14</th>\n      <td>Other difficulties</td>\n      <td>33395.110392</td>\n      <td>23892.822308</td>\n      <td>10418.543069</td>\n      <td>6130.189625</td>\n      <td>10027.735490</td>\n    </tr>\n    <tr>\n      <th>15</th>\n      <td>Did not have difficulty finding work</td>\n      <td>40451.360268</td>\n      <td>22128.486151</td>\n      <td>12129.547432</td>\n      <td>9986.630903</td>\n      <td>8482.545165</td>\n    </tr>\n    <tr>\n      <th>16</th>\n      <td>Total</td>\n      <td>280609.476330</td>\n      <td>141133.510360</td>\n      <td>101719.039580</td>\n      <td>91847.764009</td>\n      <td>90273.962947</td>\n    </tr>\n  </tbody>\n</table>\n</div>"
     },
     "metadata": {},
     "execution_count": 10
    }
   ],
   "source": [
    "# narrow down age columns selection\n",
    "difficulties_age = difficulties_all[['Main difficulty', '15–24', '25–34', '35–44', '45–54', '55 and over']].copy()\n",
    "difficulties_age.reset_index(drop=True, inplace=True)\n",
    "difficulties_age"
   ]
  },
  {
   "cell_type": "code",
   "execution_count": 11,
   "metadata": {},
   "outputs": [],
   "source": [
    "# print table to csv\n",
    "difficulties_age.to_csv('difficulties_byage.csv')"
   ]
  },
  {
   "cell_type": "code",
   "execution_count": 12,
   "metadata": {},
   "outputs": [
    {
     "output_type": "execute_result",
     "data": {
      "text/plain": [
       "                                      Main difficulty          Males  \\\n",
       "0                         Had difficulty finding work  331157.519690   \n",
       "1              Too many applicants for available jobs   62882.553618   \n",
       "2                Lacked necessary skills or education   25604.005010   \n",
       "3                   Considered too young by employers    3354.167275   \n",
       "4                     Considered too old by employers   23184.996671   \n",
       "5                        Insufficient work experience   42852.601306   \n",
       "6                                 No vacancies at all   19667.275674   \n",
       "7                        No vacancies in line of work   24722.515942   \n",
       "8                Too far to travel/transport problems   22409.212819   \n",
       "9                        Own ill health or disability   34315.855276   \n",
       "10                              Language difficulties    4517.577435   \n",
       "11                                   Unsuitable hours   12850.392465   \n",
       "12  Difficulties with finding childcare and other ...    5623.734574   \n",
       "13                         No feedback from employers    5109.437675   \n",
       "14                                 Other difficulties   44063.193949   \n",
       "15               Did not have difficulty finding work   49749.161196   \n",
       "16                                              Total  380906.680880   \n",
       "\n",
       "          Females        Persons  \n",
       "0   281247.663620  612405.183310  \n",
       "1    48997.194850  111879.748470  \n",
       "2    25016.069394   50620.074404  \n",
       "3     3267.975281    6622.142556  \n",
       "4    18540.106164   41725.102835  \n",
       "5    40882.322455   83734.923761  \n",
       "6    12979.322034   32646.597709  \n",
       "7    12924.501228   37647.017169  \n",
       "8     5187.418304   27596.631123  \n",
       "9    24193.278371   58509.133647  \n",
       "10    9609.149236   14126.726671  \n",
       "11   21582.527368   34432.919833  \n",
       "12   13557.654924   19181.389498  \n",
       "13    4708.937075    9818.374750  \n",
       "14   39801.206935   83864.400884  \n",
       "15   43429.408722   93178.569919  \n",
       "16  324677.072340  705583.753230  "
      ],
      "text/html": "<div>\n<style scoped>\n    .dataframe tbody tr th:only-of-type {\n        vertical-align: middle;\n    }\n\n    .dataframe tbody tr th {\n        vertical-align: top;\n    }\n\n    .dataframe thead th {\n        text-align: right;\n    }\n</style>\n<table border=\"1\" class=\"dataframe\">\n  <thead>\n    <tr style=\"text-align: right;\">\n      <th></th>\n      <th>Main difficulty</th>\n      <th>Males</th>\n      <th>Females</th>\n      <th>Persons</th>\n    </tr>\n  </thead>\n  <tbody>\n    <tr>\n      <th>0</th>\n      <td>Had difficulty finding work</td>\n      <td>331157.519690</td>\n      <td>281247.663620</td>\n      <td>612405.183310</td>\n    </tr>\n    <tr>\n      <th>1</th>\n      <td>Too many applicants for available jobs</td>\n      <td>62882.553618</td>\n      <td>48997.194850</td>\n      <td>111879.748470</td>\n    </tr>\n    <tr>\n      <th>2</th>\n      <td>Lacked necessary skills or education</td>\n      <td>25604.005010</td>\n      <td>25016.069394</td>\n      <td>50620.074404</td>\n    </tr>\n    <tr>\n      <th>3</th>\n      <td>Considered too young by employers</td>\n      <td>3354.167275</td>\n      <td>3267.975281</td>\n      <td>6622.142556</td>\n    </tr>\n    <tr>\n      <th>4</th>\n      <td>Considered too old by employers</td>\n      <td>23184.996671</td>\n      <td>18540.106164</td>\n      <td>41725.102835</td>\n    </tr>\n    <tr>\n      <th>5</th>\n      <td>Insufficient work experience</td>\n      <td>42852.601306</td>\n      <td>40882.322455</td>\n      <td>83734.923761</td>\n    </tr>\n    <tr>\n      <th>6</th>\n      <td>No vacancies at all</td>\n      <td>19667.275674</td>\n      <td>12979.322034</td>\n      <td>32646.597709</td>\n    </tr>\n    <tr>\n      <th>7</th>\n      <td>No vacancies in line of work</td>\n      <td>24722.515942</td>\n      <td>12924.501228</td>\n      <td>37647.017169</td>\n    </tr>\n    <tr>\n      <th>8</th>\n      <td>Too far to travel/transport problems</td>\n      <td>22409.212819</td>\n      <td>5187.418304</td>\n      <td>27596.631123</td>\n    </tr>\n    <tr>\n      <th>9</th>\n      <td>Own ill health or disability</td>\n      <td>34315.855276</td>\n      <td>24193.278371</td>\n      <td>58509.133647</td>\n    </tr>\n    <tr>\n      <th>10</th>\n      <td>Language difficulties</td>\n      <td>4517.577435</td>\n      <td>9609.149236</td>\n      <td>14126.726671</td>\n    </tr>\n    <tr>\n      <th>11</th>\n      <td>Unsuitable hours</td>\n      <td>12850.392465</td>\n      <td>21582.527368</td>\n      <td>34432.919833</td>\n    </tr>\n    <tr>\n      <th>12</th>\n      <td>Difficulties with finding childcare and other ...</td>\n      <td>5623.734574</td>\n      <td>13557.654924</td>\n      <td>19181.389498</td>\n    </tr>\n    <tr>\n      <th>13</th>\n      <td>No feedback from employers</td>\n      <td>5109.437675</td>\n      <td>4708.937075</td>\n      <td>9818.374750</td>\n    </tr>\n    <tr>\n      <th>14</th>\n      <td>Other difficulties</td>\n      <td>44063.193949</td>\n      <td>39801.206935</td>\n      <td>83864.400884</td>\n    </tr>\n    <tr>\n      <th>15</th>\n      <td>Did not have difficulty finding work</td>\n      <td>49749.161196</td>\n      <td>43429.408722</td>\n      <td>93178.569919</td>\n    </tr>\n    <tr>\n      <th>16</th>\n      <td>Total</td>\n      <td>380906.680880</td>\n      <td>324677.072340</td>\n      <td>705583.753230</td>\n    </tr>\n  </tbody>\n</table>\n</div>"
     },
     "metadata": {},
     "execution_count": 12
    }
   ],
   "source": [
    "# narrow down gender columns selection\n",
    "difficulties_gen = difficulties_all[['Main difficulty', 'Males', 'Females', 'Persons']].copy()\n",
    "difficulties_gen.reset_index(drop=True, inplace=True)\n",
    "difficulties_gen"
   ]
  },
  {
   "cell_type": "code",
   "execution_count": 13,
   "metadata": {},
   "outputs": [],
   "source": [
    "# print table to csv\n",
    "difficulties_gen.to_csv('difficulties_bygender.csv')"
   ]
  },
  {
   "cell_type": "code",
   "execution_count": null,
   "metadata": {},
   "outputs": [],
   "source": []
  }
 ]
}