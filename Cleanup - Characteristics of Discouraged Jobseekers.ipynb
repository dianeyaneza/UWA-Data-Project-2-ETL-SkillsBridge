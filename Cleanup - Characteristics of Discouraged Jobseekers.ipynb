{
 "metadata": {
  "language_info": {
   "codemirror_mode": {
    "name": "ipython",
    "version": 3
   },
   "file_extension": ".py",
   "mimetype": "text/x-python",
   "name": "python",
   "nbconvert_exporter": "python",
   "pygments_lexer": "ipython3",
   "version": "3.8.3-final"
  },
  "orig_nbformat": 2,
  "kernelspec": {
   "name": "python3",
   "display_name": "Python 3.8.3 32-bit (conda)",
   "metadata": {
    "interpreter": {
     "hash": "85762426d71f2b191e713c5961a63e6fefd6db17605c41aaf3f2f11771e258dd"
    }
   }
  }
 },
 "nbformat": 4,
 "nbformat_minor": 2,
 "cells": [
  {
   "cell_type": "code",
   "execution_count": 1,
   "metadata": {},
   "outputs": [],
   "source": [
    "# import dependencies\n",
    "import pandas as pd\n",
    "from pandas import DataFrame, read_csv"
   ]
  },
  {
   "cell_type": "code",
   "execution_count": 2,
   "metadata": {},
   "outputs": [
    {
     "output_type": "execute_result",
     "data": {
      "text/plain": [
       "                      Australian Bureau of Statistics  \\\n",
       "0   6226.0 Participation, Job Search and Mobility,...   \n",
       "1   Released at 11:30 am (Canberra time) Mon 10 Au...   \n",
       "2   Table 8.1 Characteristics of discouraged job s...   \n",
       "3                                                 NaN   \n",
       "4                                                 NaN   \n",
       "5                                                 NaN   \n",
       "6                                                 ...   \n",
       "7              State or territory of usual residence    \n",
       "8                                     New South Wales   \n",
       "9                                            Victoria   \n",
       "10                                         Queensland   \n",
       "11                                    South Australia   \n",
       "12                                  Western Australia   \n",
       "13                                           Tasmania   \n",
       "14                                 Northern Territory   \n",
       "15                       Australian Capital Territory   \n",
       "16                                  Age group (years)   \n",
       "17                                              15–24   \n",
       "18                                              25–34   \n",
       "19                                              35–44   \n",
       "20                                              45–54   \n",
       "21                                              55–64   \n",
       "22                                        65 and over   \n",
       "23                                  Country of birth    \n",
       "24                                  Born in Australia   \n",
       "25                                      Born overseas   \n",
       "26                             Oceania and Antarctica   \n",
       "27                                  North-West Europe   \n",
       "28                        Southern and Eastern Europe   \n",
       "29                   North Africa and the Middle East   \n",
       "\n",
       "                                           Unnamed: 1 Unnamed: 2 Unnamed: 3  \\\n",
       "0                                                 NaN        NaN        NaN   \n",
       "1                                                 NaN        NaN        NaN   \n",
       "2                                                 NaN        NaN        NaN   \n",
       "3   WANTED TO WORK BUT WERE NOT ACTIVELY LOOKING F...        NaN        NaN   \n",
       "4                             Discouraged job seekers      Other      Total   \n",
       "5                                                '000       '000       '000   \n",
       "6                                                 NaN        NaN        NaN   \n",
       "7                                                 NaN        NaN        NaN   \n",
       "8                                             35.2944    247.034    282.328   \n",
       "9                                             29.6652    215.187    244.852   \n",
       "10                                            16.5153    142.389    158.904   \n",
       "11                                            5.06429    54.8702    59.9345   \n",
       "12                                            11.4981    91.9218     103.42   \n",
       "13                                            3.68719    16.2465    19.9337   \n",
       "14                                           0.941022    5.99106    6.93209   \n",
       "15                                            1.03062    12.8999    13.9306   \n",
       "16                                                NaN        NaN        NaN   \n",
       "17                                            19.1276    247.326    266.454   \n",
       "18                                            10.2106     161.35    171.561   \n",
       "19                                            12.0109    133.147    145.158   \n",
       "20                                            8.33762    79.0967    87.4344   \n",
       "21                                            19.2106    81.0895      100.3   \n",
       "22                                            34.7988    84.5289    119.328   \n",
       "23                                                NaN        NaN        NaN   \n",
       "24                                            63.2401    504.055    567.295   \n",
       "25                                            40.4562    282.484     322.94   \n",
       "26                                            2.67608    29.1249     31.801   \n",
       "27                                            6.27017    38.5205    44.7906   \n",
       "28                                            4.46844    20.5849    25.0534   \n",
       "29                                            3.95393    25.1346    29.0886   \n",
       "\n",
       "                                           Unnamed: 4  \\\n",
       "0                                                 NaN   \n",
       "1                                                 NaN   \n",
       "2                                                 NaN   \n",
       "3                                                 NaN   \n",
       "4   Persons with marginal attachment to the labour...   \n",
       "5                                                '000   \n",
       "6                                                 NaN   \n",
       "7                                                 NaN   \n",
       "8                                             343.451   \n",
       "9                                             318.272   \n",
       "10                                            199.865   \n",
       "11                                            75.4966   \n",
       "12                                            123.355   \n",
       "13                                            24.3254   \n",
       "14                                            8.56352   \n",
       "15                                            17.8594   \n",
       "16                                                NaN   \n",
       "17                                            326.391   \n",
       "18                                            230.371   \n",
       "19                                            192.946   \n",
       "20                                            112.358   \n",
       "21                                            121.605   \n",
       "22                                            127.517   \n",
       "23                                                NaN   \n",
       "24                                            709.086   \n",
       "25                                            400.961   \n",
       "26                                             39.423   \n",
       "27                                            53.1013   \n",
       "28                                             30.334   \n",
       "29                                            35.1209   \n",
       "\n",
       "                          Unnamed: 5  \n",
       "0                                NaN  \n",
       "1                                NaN  \n",
       "2                                NaN  \n",
       "3                                NaN  \n",
       "4   Persons not in the labour force   \n",
       "5                               '000  \n",
       "6                                NaN  \n",
       "7                                NaN  \n",
       "8                            2224.24  \n",
       "9                            1747.89  \n",
       "10                           1358.46  \n",
       "11                            519.82  \n",
       "12                           661.035  \n",
       "13                           163.908  \n",
       "14                           36.7182  \n",
       "15                           92.8357  \n",
       "16                               NaN  \n",
       "17                           978.675  \n",
       "18                           545.509  \n",
       "19                           483.355  \n",
       "20                           477.413  \n",
       "21                           960.123  \n",
       "22                           3359.83  \n",
       "23                               NaN  \n",
       "24                           4400.02  \n",
       "25                           2400.95  \n",
       "26                           172.159  \n",
       "27                           611.505  \n",
       "28                           401.183  \n",
       "29                           197.114  "
      ],
      "text/html": "<div>\n<style scoped>\n    .dataframe tbody tr th:only-of-type {\n        vertical-align: middle;\n    }\n\n    .dataframe tbody tr th {\n        vertical-align: top;\n    }\n\n    .dataframe thead th {\n        text-align: right;\n    }\n</style>\n<table border=\"1\" class=\"dataframe\">\n  <thead>\n    <tr style=\"text-align: right;\">\n      <th></th>\n      <th>Australian Bureau of Statistics</th>\n      <th>Unnamed: 1</th>\n      <th>Unnamed: 2</th>\n      <th>Unnamed: 3</th>\n      <th>Unnamed: 4</th>\n      <th>Unnamed: 5</th>\n    </tr>\n  </thead>\n  <tbody>\n    <tr>\n      <th>0</th>\n      <td>6226.0 Participation, Job Search and Mobility,...</td>\n      <td>NaN</td>\n      <td>NaN</td>\n      <td>NaN</td>\n      <td>NaN</td>\n      <td>NaN</td>\n    </tr>\n    <tr>\n      <th>1</th>\n      <td>Released at 11:30 am (Canberra time) Mon 10 Au...</td>\n      <td>NaN</td>\n      <td>NaN</td>\n      <td>NaN</td>\n      <td>NaN</td>\n      <td>NaN</td>\n    </tr>\n    <tr>\n      <th>2</th>\n      <td>Table 8.1 Characteristics of discouraged job s...</td>\n      <td>NaN</td>\n      <td>NaN</td>\n      <td>NaN</td>\n      <td>NaN</td>\n      <td>NaN</td>\n    </tr>\n    <tr>\n      <th>3</th>\n      <td>NaN</td>\n      <td>WANTED TO WORK BUT WERE NOT ACTIVELY LOOKING F...</td>\n      <td>NaN</td>\n      <td>NaN</td>\n      <td>NaN</td>\n      <td>NaN</td>\n    </tr>\n    <tr>\n      <th>4</th>\n      <td>NaN</td>\n      <td>Discouraged job seekers</td>\n      <td>Other</td>\n      <td>Total</td>\n      <td>Persons with marginal attachment to the labour...</td>\n      <td>Persons not in the labour force</td>\n    </tr>\n    <tr>\n      <th>5</th>\n      <td>NaN</td>\n      <td>'000</td>\n      <td>'000</td>\n      <td>'000</td>\n      <td>'000</td>\n      <td>'000</td>\n    </tr>\n    <tr>\n      <th>6</th>\n      <td>...</td>\n      <td>NaN</td>\n      <td>NaN</td>\n      <td>NaN</td>\n      <td>NaN</td>\n      <td>NaN</td>\n    </tr>\n    <tr>\n      <th>7</th>\n      <td>State or territory of usual residence</td>\n      <td>NaN</td>\n      <td>NaN</td>\n      <td>NaN</td>\n      <td>NaN</td>\n      <td>NaN</td>\n    </tr>\n    <tr>\n      <th>8</th>\n      <td>New South Wales</td>\n      <td>35.2944</td>\n      <td>247.034</td>\n      <td>282.328</td>\n      <td>343.451</td>\n      <td>2224.24</td>\n    </tr>\n    <tr>\n      <th>9</th>\n      <td>Victoria</td>\n      <td>29.6652</td>\n      <td>215.187</td>\n      <td>244.852</td>\n      <td>318.272</td>\n      <td>1747.89</td>\n    </tr>\n    <tr>\n      <th>10</th>\n      <td>Queensland</td>\n      <td>16.5153</td>\n      <td>142.389</td>\n      <td>158.904</td>\n      <td>199.865</td>\n      <td>1358.46</td>\n    </tr>\n    <tr>\n      <th>11</th>\n      <td>South Australia</td>\n      <td>5.06429</td>\n      <td>54.8702</td>\n      <td>59.9345</td>\n      <td>75.4966</td>\n      <td>519.82</td>\n    </tr>\n    <tr>\n      <th>12</th>\n      <td>Western Australia</td>\n      <td>11.4981</td>\n      <td>91.9218</td>\n      <td>103.42</td>\n      <td>123.355</td>\n      <td>661.035</td>\n    </tr>\n    <tr>\n      <th>13</th>\n      <td>Tasmania</td>\n      <td>3.68719</td>\n      <td>16.2465</td>\n      <td>19.9337</td>\n      <td>24.3254</td>\n      <td>163.908</td>\n    </tr>\n    <tr>\n      <th>14</th>\n      <td>Northern Territory</td>\n      <td>0.941022</td>\n      <td>5.99106</td>\n      <td>6.93209</td>\n      <td>8.56352</td>\n      <td>36.7182</td>\n    </tr>\n    <tr>\n      <th>15</th>\n      <td>Australian Capital Territory</td>\n      <td>1.03062</td>\n      <td>12.8999</td>\n      <td>13.9306</td>\n      <td>17.8594</td>\n      <td>92.8357</td>\n    </tr>\n    <tr>\n      <th>16</th>\n      <td>Age group (years)</td>\n      <td>NaN</td>\n      <td>NaN</td>\n      <td>NaN</td>\n      <td>NaN</td>\n      <td>NaN</td>\n    </tr>\n    <tr>\n      <th>17</th>\n      <td>15–24</td>\n      <td>19.1276</td>\n      <td>247.326</td>\n      <td>266.454</td>\n      <td>326.391</td>\n      <td>978.675</td>\n    </tr>\n    <tr>\n      <th>18</th>\n      <td>25–34</td>\n      <td>10.2106</td>\n      <td>161.35</td>\n      <td>171.561</td>\n      <td>230.371</td>\n      <td>545.509</td>\n    </tr>\n    <tr>\n      <th>19</th>\n      <td>35–44</td>\n      <td>12.0109</td>\n      <td>133.147</td>\n      <td>145.158</td>\n      <td>192.946</td>\n      <td>483.355</td>\n    </tr>\n    <tr>\n      <th>20</th>\n      <td>45–54</td>\n      <td>8.33762</td>\n      <td>79.0967</td>\n      <td>87.4344</td>\n      <td>112.358</td>\n      <td>477.413</td>\n    </tr>\n    <tr>\n      <th>21</th>\n      <td>55–64</td>\n      <td>19.2106</td>\n      <td>81.0895</td>\n      <td>100.3</td>\n      <td>121.605</td>\n      <td>960.123</td>\n    </tr>\n    <tr>\n      <th>22</th>\n      <td>65 and over</td>\n      <td>34.7988</td>\n      <td>84.5289</td>\n      <td>119.328</td>\n      <td>127.517</td>\n      <td>3359.83</td>\n    </tr>\n    <tr>\n      <th>23</th>\n      <td>Country of birth</td>\n      <td>NaN</td>\n      <td>NaN</td>\n      <td>NaN</td>\n      <td>NaN</td>\n      <td>NaN</td>\n    </tr>\n    <tr>\n      <th>24</th>\n      <td>Born in Australia</td>\n      <td>63.2401</td>\n      <td>504.055</td>\n      <td>567.295</td>\n      <td>709.086</td>\n      <td>4400.02</td>\n    </tr>\n    <tr>\n      <th>25</th>\n      <td>Born overseas</td>\n      <td>40.4562</td>\n      <td>282.484</td>\n      <td>322.94</td>\n      <td>400.961</td>\n      <td>2400.95</td>\n    </tr>\n    <tr>\n      <th>26</th>\n      <td>Oceania and Antarctica</td>\n      <td>2.67608</td>\n      <td>29.1249</td>\n      <td>31.801</td>\n      <td>39.423</td>\n      <td>172.159</td>\n    </tr>\n    <tr>\n      <th>27</th>\n      <td>North-West Europe</td>\n      <td>6.27017</td>\n      <td>38.5205</td>\n      <td>44.7906</td>\n      <td>53.1013</td>\n      <td>611.505</td>\n    </tr>\n    <tr>\n      <th>28</th>\n      <td>Southern and Eastern Europe</td>\n      <td>4.46844</td>\n      <td>20.5849</td>\n      <td>25.0534</td>\n      <td>30.334</td>\n      <td>401.183</td>\n    </tr>\n    <tr>\n      <th>29</th>\n      <td>North Africa and the Middle East</td>\n      <td>3.95393</td>\n      <td>25.1346</td>\n      <td>29.0886</td>\n      <td>35.1209</td>\n      <td>197.114</td>\n    </tr>\n  </tbody>\n</table>\n</div>"
     },
     "metadata": {},
     "execution_count": 2
    }
   ],
   "source": [
    "# read file\n",
    "discouraged_file = \"Resources/Characteristics of Discouraged Jobseekers.xls\"\n",
    "discouraged_df = pd.read_excel(discouraged_file, 'Table 8.1')\n",
    "discouraged_df.head(30)"
   ]
  },
  {
   "cell_type": "code",
   "execution_count": 3,
   "metadata": {},
   "outputs": [
    {
     "output_type": "execute_result",
     "data": {
      "text/plain": [
       "                Australian Bureau of Statistics Unnamed: 1 Unnamed: 2  \\\n",
       "8                               New South Wales    35.2944    247.034   \n",
       "9                                      Victoria    29.6652    215.187   \n",
       "10                                   Queensland    16.5153    142.389   \n",
       "11                              South Australia    5.06429    54.8702   \n",
       "12                            Western Australia    11.4981    91.9218   \n",
       "..                                          ...        ...        ...   \n",
       "118                Arrived 20 years or more ago     8.3185    48.8159   \n",
       "119                                       Total    57.5676    498.686   \n",
       "120                                         NaN        NaN        NaN   \n",
       "121                                         NaN        NaN        NaN   \n",
       "122            © Commonwealth of Australia 2020        NaN        NaN   \n",
       "\n",
       "    Unnamed: 3 Unnamed: 4 Unnamed: 5  \n",
       "8      282.328    343.451    2224.24  \n",
       "9      244.852    318.272    1747.89  \n",
       "10     158.904    199.865    1358.46  \n",
       "11     59.9345    75.4966     519.82  \n",
       "12      103.42    123.355    661.035  \n",
       "..         ...        ...        ...  \n",
       "118    57.1344    66.6752      884.3  \n",
       "119    556.253     681.28    3919.27  \n",
       "120        NaN        NaN        NaN  \n",
       "121        NaN        NaN        NaN  \n",
       "122        NaN        NaN        NaN  \n",
       "\n",
       "[115 rows x 6 columns]"
      ],
      "text/html": "<div>\n<style scoped>\n    .dataframe tbody tr th:only-of-type {\n        vertical-align: middle;\n    }\n\n    .dataframe tbody tr th {\n        vertical-align: top;\n    }\n\n    .dataframe thead th {\n        text-align: right;\n    }\n</style>\n<table border=\"1\" class=\"dataframe\">\n  <thead>\n    <tr style=\"text-align: right;\">\n      <th></th>\n      <th>Australian Bureau of Statistics</th>\n      <th>Unnamed: 1</th>\n      <th>Unnamed: 2</th>\n      <th>Unnamed: 3</th>\n      <th>Unnamed: 4</th>\n      <th>Unnamed: 5</th>\n    </tr>\n  </thead>\n  <tbody>\n    <tr>\n      <th>8</th>\n      <td>New South Wales</td>\n      <td>35.2944</td>\n      <td>247.034</td>\n      <td>282.328</td>\n      <td>343.451</td>\n      <td>2224.24</td>\n    </tr>\n    <tr>\n      <th>9</th>\n      <td>Victoria</td>\n      <td>29.6652</td>\n      <td>215.187</td>\n      <td>244.852</td>\n      <td>318.272</td>\n      <td>1747.89</td>\n    </tr>\n    <tr>\n      <th>10</th>\n      <td>Queensland</td>\n      <td>16.5153</td>\n      <td>142.389</td>\n      <td>158.904</td>\n      <td>199.865</td>\n      <td>1358.46</td>\n    </tr>\n    <tr>\n      <th>11</th>\n      <td>South Australia</td>\n      <td>5.06429</td>\n      <td>54.8702</td>\n      <td>59.9345</td>\n      <td>75.4966</td>\n      <td>519.82</td>\n    </tr>\n    <tr>\n      <th>12</th>\n      <td>Western Australia</td>\n      <td>11.4981</td>\n      <td>91.9218</td>\n      <td>103.42</td>\n      <td>123.355</td>\n      <td>661.035</td>\n    </tr>\n    <tr>\n      <th>...</th>\n      <td>...</td>\n      <td>...</td>\n      <td>...</td>\n      <td>...</td>\n      <td>...</td>\n      <td>...</td>\n    </tr>\n    <tr>\n      <th>118</th>\n      <td>Arrived 20 years or more ago</td>\n      <td>8.3185</td>\n      <td>48.8159</td>\n      <td>57.1344</td>\n      <td>66.6752</td>\n      <td>884.3</td>\n    </tr>\n    <tr>\n      <th>119</th>\n      <td>Total</td>\n      <td>57.5676</td>\n      <td>498.686</td>\n      <td>556.253</td>\n      <td>681.28</td>\n      <td>3919.27</td>\n    </tr>\n    <tr>\n      <th>120</th>\n      <td>NaN</td>\n      <td>NaN</td>\n      <td>NaN</td>\n      <td>NaN</td>\n      <td>NaN</td>\n      <td>NaN</td>\n    </tr>\n    <tr>\n      <th>121</th>\n      <td>NaN</td>\n      <td>NaN</td>\n      <td>NaN</td>\n      <td>NaN</td>\n      <td>NaN</td>\n      <td>NaN</td>\n    </tr>\n    <tr>\n      <th>122</th>\n      <td>© Commonwealth of Australia 2020</td>\n      <td>NaN</td>\n      <td>NaN</td>\n      <td>NaN</td>\n      <td>NaN</td>\n      <td>NaN</td>\n    </tr>\n  </tbody>\n</table>\n<p>115 rows × 6 columns</p>\n</div>"
     },
     "metadata": {},
     "execution_count": 3
    }
   ],
   "source": [
    "# drop first 7 rows\n",
    "discouraged_df.drop(discouraged_df.index[0:8],0,inplace=True)\n",
    "discouraged_df"
   ]
  },
  {
   "cell_type": "code",
   "execution_count": 4,
   "metadata": {},
   "outputs": [
    {
     "output_type": "execute_result",
     "data": {
      "text/plain": [
       "                                      state_territory discouraged_jobseekers  \\\n",
       "8                                     New South Wales                35.2944   \n",
       "9                                            Victoria                29.6652   \n",
       "10                                         Queensland                16.5153   \n",
       "11                                    South Australia                5.06429   \n",
       "12                                  Western Australia                11.4981   \n",
       "13                                           Tasmania                3.68719   \n",
       "14                                 Northern Territory               0.941022   \n",
       "15                       Australian Capital Territory                1.03062   \n",
       "16                                  Age group (years)                    NaN   \n",
       "17                                              15–24                19.1276   \n",
       "18                                              25–34                10.2106   \n",
       "19                                              35–44                12.0109   \n",
       "20                                              45–54                8.33762   \n",
       "21                                              55–64                19.2106   \n",
       "22                                        65 and over                34.7988   \n",
       "23                                  Country of birth                     NaN   \n",
       "24                                  Born in Australia                63.2401   \n",
       "25                                      Born overseas                40.4562   \n",
       "26                             Oceania and Antarctica                2.67608   \n",
       "27                                  North-West Europe                6.27017   \n",
       "28                        Southern and Eastern Europe                4.46844   \n",
       "29                   North Africa and the Middle East                3.95393   \n",
       "30                                    South-East Asia                2.92998   \n",
       "31                                    North-East Asia                9.10964   \n",
       "32                          Southern and Central Asia                 4.2763   \n",
       "33                                           Americas                2.01153   \n",
       "34                                 Sub-Saharan Africa                4.76009   \n",
       "35  Country of birth and elapsed years since arriv...                    NaN   \n",
       "36                                  Born in Australia                63.2401   \n",
       "37                                      Born overseas                40.4562   \n",
       "\n",
       "      Other    Total Labour Force Not in Labour Force  \n",
       "8   247.034  282.328      343.451             2224.24  \n",
       "9   215.187  244.852      318.272             1747.89  \n",
       "10  142.389  158.904      199.865             1358.46  \n",
       "11  54.8702  59.9345      75.4966              519.82  \n",
       "12  91.9218   103.42      123.355             661.035  \n",
       "13  16.2465  19.9337      24.3254             163.908  \n",
       "14  5.99106  6.93209      8.56352             36.7182  \n",
       "15  12.8999  13.9306      17.8594             92.8357  \n",
       "16      NaN      NaN          NaN                 NaN  \n",
       "17  247.326  266.454      326.391             978.675  \n",
       "18   161.35  171.561      230.371             545.509  \n",
       "19  133.147  145.158      192.946             483.355  \n",
       "20  79.0967  87.4344      112.358             477.413  \n",
       "21  81.0895    100.3      121.605             960.123  \n",
       "22  84.5289  119.328      127.517             3359.83  \n",
       "23      NaN      NaN          NaN                 NaN  \n",
       "24  504.055  567.295      709.086             4400.02  \n",
       "25  282.484   322.94      400.961             2400.95  \n",
       "26  29.1249   31.801       39.423             172.159  \n",
       "27  38.5205  44.7906      53.1013             611.505  \n",
       "28  20.5849  25.0534       30.334             401.183  \n",
       "29  25.1346  29.0886      35.1209             197.114  \n",
       "30  42.3832  45.3132      59.2368             291.192  \n",
       "31  49.8073  58.9169      71.7749             322.318  \n",
       "32  50.4814  54.7577      72.3753             228.649  \n",
       "33   11.375  13.3866      16.8602             93.9395  \n",
       "34  15.0721  19.8321      22.7342             82.8886  \n",
       "35      NaN      NaN          NaN                 NaN  \n",
       "36  504.055  567.295      709.086             4400.02  \n",
       "37  282.484   322.94      400.961             2400.95  "
      ],
      "text/html": "<div>\n<style scoped>\n    .dataframe tbody tr th:only-of-type {\n        vertical-align: middle;\n    }\n\n    .dataframe tbody tr th {\n        vertical-align: top;\n    }\n\n    .dataframe thead th {\n        text-align: right;\n    }\n</style>\n<table border=\"1\" class=\"dataframe\">\n  <thead>\n    <tr style=\"text-align: right;\">\n      <th></th>\n      <th>state_territory</th>\n      <th>discouraged_jobseekers</th>\n      <th>Other</th>\n      <th>Total</th>\n      <th>Labour Force</th>\n      <th>Not in Labour Force</th>\n    </tr>\n  </thead>\n  <tbody>\n    <tr>\n      <th>8</th>\n      <td>New South Wales</td>\n      <td>35.2944</td>\n      <td>247.034</td>\n      <td>282.328</td>\n      <td>343.451</td>\n      <td>2224.24</td>\n    </tr>\n    <tr>\n      <th>9</th>\n      <td>Victoria</td>\n      <td>29.6652</td>\n      <td>215.187</td>\n      <td>244.852</td>\n      <td>318.272</td>\n      <td>1747.89</td>\n    </tr>\n    <tr>\n      <th>10</th>\n      <td>Queensland</td>\n      <td>16.5153</td>\n      <td>142.389</td>\n      <td>158.904</td>\n      <td>199.865</td>\n      <td>1358.46</td>\n    </tr>\n    <tr>\n      <th>11</th>\n      <td>South Australia</td>\n      <td>5.06429</td>\n      <td>54.8702</td>\n      <td>59.9345</td>\n      <td>75.4966</td>\n      <td>519.82</td>\n    </tr>\n    <tr>\n      <th>12</th>\n      <td>Western Australia</td>\n      <td>11.4981</td>\n      <td>91.9218</td>\n      <td>103.42</td>\n      <td>123.355</td>\n      <td>661.035</td>\n    </tr>\n    <tr>\n      <th>13</th>\n      <td>Tasmania</td>\n      <td>3.68719</td>\n      <td>16.2465</td>\n      <td>19.9337</td>\n      <td>24.3254</td>\n      <td>163.908</td>\n    </tr>\n    <tr>\n      <th>14</th>\n      <td>Northern Territory</td>\n      <td>0.941022</td>\n      <td>5.99106</td>\n      <td>6.93209</td>\n      <td>8.56352</td>\n      <td>36.7182</td>\n    </tr>\n    <tr>\n      <th>15</th>\n      <td>Australian Capital Territory</td>\n      <td>1.03062</td>\n      <td>12.8999</td>\n      <td>13.9306</td>\n      <td>17.8594</td>\n      <td>92.8357</td>\n    </tr>\n    <tr>\n      <th>16</th>\n      <td>Age group (years)</td>\n      <td>NaN</td>\n      <td>NaN</td>\n      <td>NaN</td>\n      <td>NaN</td>\n      <td>NaN</td>\n    </tr>\n    <tr>\n      <th>17</th>\n      <td>15–24</td>\n      <td>19.1276</td>\n      <td>247.326</td>\n      <td>266.454</td>\n      <td>326.391</td>\n      <td>978.675</td>\n    </tr>\n    <tr>\n      <th>18</th>\n      <td>25–34</td>\n      <td>10.2106</td>\n      <td>161.35</td>\n      <td>171.561</td>\n      <td>230.371</td>\n      <td>545.509</td>\n    </tr>\n    <tr>\n      <th>19</th>\n      <td>35–44</td>\n      <td>12.0109</td>\n      <td>133.147</td>\n      <td>145.158</td>\n      <td>192.946</td>\n      <td>483.355</td>\n    </tr>\n    <tr>\n      <th>20</th>\n      <td>45–54</td>\n      <td>8.33762</td>\n      <td>79.0967</td>\n      <td>87.4344</td>\n      <td>112.358</td>\n      <td>477.413</td>\n    </tr>\n    <tr>\n      <th>21</th>\n      <td>55–64</td>\n      <td>19.2106</td>\n      <td>81.0895</td>\n      <td>100.3</td>\n      <td>121.605</td>\n      <td>960.123</td>\n    </tr>\n    <tr>\n      <th>22</th>\n      <td>65 and over</td>\n      <td>34.7988</td>\n      <td>84.5289</td>\n      <td>119.328</td>\n      <td>127.517</td>\n      <td>3359.83</td>\n    </tr>\n    <tr>\n      <th>23</th>\n      <td>Country of birth</td>\n      <td>NaN</td>\n      <td>NaN</td>\n      <td>NaN</td>\n      <td>NaN</td>\n      <td>NaN</td>\n    </tr>\n    <tr>\n      <th>24</th>\n      <td>Born in Australia</td>\n      <td>63.2401</td>\n      <td>504.055</td>\n      <td>567.295</td>\n      <td>709.086</td>\n      <td>4400.02</td>\n    </tr>\n    <tr>\n      <th>25</th>\n      <td>Born overseas</td>\n      <td>40.4562</td>\n      <td>282.484</td>\n      <td>322.94</td>\n      <td>400.961</td>\n      <td>2400.95</td>\n    </tr>\n    <tr>\n      <th>26</th>\n      <td>Oceania and Antarctica</td>\n      <td>2.67608</td>\n      <td>29.1249</td>\n      <td>31.801</td>\n      <td>39.423</td>\n      <td>172.159</td>\n    </tr>\n    <tr>\n      <th>27</th>\n      <td>North-West Europe</td>\n      <td>6.27017</td>\n      <td>38.5205</td>\n      <td>44.7906</td>\n      <td>53.1013</td>\n      <td>611.505</td>\n    </tr>\n    <tr>\n      <th>28</th>\n      <td>Southern and Eastern Europe</td>\n      <td>4.46844</td>\n      <td>20.5849</td>\n      <td>25.0534</td>\n      <td>30.334</td>\n      <td>401.183</td>\n    </tr>\n    <tr>\n      <th>29</th>\n      <td>North Africa and the Middle East</td>\n      <td>3.95393</td>\n      <td>25.1346</td>\n      <td>29.0886</td>\n      <td>35.1209</td>\n      <td>197.114</td>\n    </tr>\n    <tr>\n      <th>30</th>\n      <td>South-East Asia</td>\n      <td>2.92998</td>\n      <td>42.3832</td>\n      <td>45.3132</td>\n      <td>59.2368</td>\n      <td>291.192</td>\n    </tr>\n    <tr>\n      <th>31</th>\n      <td>North-East Asia</td>\n      <td>9.10964</td>\n      <td>49.8073</td>\n      <td>58.9169</td>\n      <td>71.7749</td>\n      <td>322.318</td>\n    </tr>\n    <tr>\n      <th>32</th>\n      <td>Southern and Central Asia</td>\n      <td>4.2763</td>\n      <td>50.4814</td>\n      <td>54.7577</td>\n      <td>72.3753</td>\n      <td>228.649</td>\n    </tr>\n    <tr>\n      <th>33</th>\n      <td>Americas</td>\n      <td>2.01153</td>\n      <td>11.375</td>\n      <td>13.3866</td>\n      <td>16.8602</td>\n      <td>93.9395</td>\n    </tr>\n    <tr>\n      <th>34</th>\n      <td>Sub-Saharan Africa</td>\n      <td>4.76009</td>\n      <td>15.0721</td>\n      <td>19.8321</td>\n      <td>22.7342</td>\n      <td>82.8886</td>\n    </tr>\n    <tr>\n      <th>35</th>\n      <td>Country of birth and elapsed years since arriv...</td>\n      <td>NaN</td>\n      <td>NaN</td>\n      <td>NaN</td>\n      <td>NaN</td>\n      <td>NaN</td>\n    </tr>\n    <tr>\n      <th>36</th>\n      <td>Born in Australia</td>\n      <td>63.2401</td>\n      <td>504.055</td>\n      <td>567.295</td>\n      <td>709.086</td>\n      <td>4400.02</td>\n    </tr>\n    <tr>\n      <th>37</th>\n      <td>Born overseas</td>\n      <td>40.4562</td>\n      <td>282.484</td>\n      <td>322.94</td>\n      <td>400.961</td>\n      <td>2400.95</td>\n    </tr>\n  </tbody>\n</table>\n</div>"
     },
     "metadata": {},
     "execution_count": 4
    }
   ],
   "source": [
    "# rename columns\n",
    "discouraged_df.columns = ['state_territory', 'discouraged_jobseekers', 'Other', 'Total', 'Labour Force', 'Not in Labour Force']\n",
    "discouraged_df.head(30)"
   ]
  },
  {
   "cell_type": "code",
   "execution_count": 5,
   "metadata": {},
   "outputs": [
    {
     "output_type": "execute_result",
     "data": {
      "text/plain": [
       "                      state_territory  discouraged_jobseekers\n",
       "8                     New South Wales               35.294443\n",
       "9                            Victoria               29.665225\n",
       "10                         Queensland               16.515309\n",
       "11                    South Australia                5.064287\n",
       "12                  Western Australia               11.498129\n",
       "..                                ...                     ...\n",
       "118      Arrived 20 years or more ago                8.318497\n",
       "119                             Total               57.567586\n",
       "120                               NaN                     NaN\n",
       "121                               NaN                     NaN\n",
       "122  © Commonwealth of Australia 2020                     NaN\n",
       "\n",
       "[115 rows x 2 columns]"
      ],
      "text/html": "<div>\n<style scoped>\n    .dataframe tbody tr th:only-of-type {\n        vertical-align: middle;\n    }\n\n    .dataframe tbody tr th {\n        vertical-align: top;\n    }\n\n    .dataframe thead th {\n        text-align: right;\n    }\n</style>\n<table border=\"1\" class=\"dataframe\">\n  <thead>\n    <tr style=\"text-align: right;\">\n      <th></th>\n      <th>state_territory</th>\n      <th>discouraged_jobseekers</th>\n    </tr>\n  </thead>\n  <tbody>\n    <tr>\n      <th>8</th>\n      <td>New South Wales</td>\n      <td>35.294443</td>\n    </tr>\n    <tr>\n      <th>9</th>\n      <td>Victoria</td>\n      <td>29.665225</td>\n    </tr>\n    <tr>\n      <th>10</th>\n      <td>Queensland</td>\n      <td>16.515309</td>\n    </tr>\n    <tr>\n      <th>11</th>\n      <td>South Australia</td>\n      <td>5.064287</td>\n    </tr>\n    <tr>\n      <th>12</th>\n      <td>Western Australia</td>\n      <td>11.498129</td>\n    </tr>\n    <tr>\n      <th>...</th>\n      <td>...</td>\n      <td>...</td>\n    </tr>\n    <tr>\n      <th>118</th>\n      <td>Arrived 20 years or more ago</td>\n      <td>8.318497</td>\n    </tr>\n    <tr>\n      <th>119</th>\n      <td>Total</td>\n      <td>57.567586</td>\n    </tr>\n    <tr>\n      <th>120</th>\n      <td>NaN</td>\n      <td>NaN</td>\n    </tr>\n    <tr>\n      <th>121</th>\n      <td>NaN</td>\n      <td>NaN</td>\n    </tr>\n    <tr>\n      <th>122</th>\n      <td>© Commonwealth of Australia 2020</td>\n      <td>NaN</td>\n    </tr>\n  </tbody>\n</table>\n<p>115 rows × 2 columns</p>\n</div>"
     },
     "metadata": {},
     "execution_count": 5
    }
   ],
   "source": [
    "# convert object values to float\n",
    "discouraged_full = discouraged_df[['state_territory', 'discouraged_jobseekers']].copy()\n",
    "discouraged_full[['discouraged_jobseekers']] = discouraged_full[['discouraged_jobseekers']].apply(pd.to_numeric, errors='coerce')\n",
    "discouraged_full"
   ]
  },
  {
   "cell_type": "code",
   "execution_count": 6,
   "metadata": {},
   "outputs": [
    {
     "output_type": "execute_result",
     "data": {
      "text/plain": [
       "                      state_territory  discouraged_jobseekers\n",
       "8                     New South Wales            35294.443384\n",
       "9                            Victoria            29665.225257\n",
       "10                         Queensland            16515.309330\n",
       "11                    South Australia             5064.287140\n",
       "12                  Western Australia            11498.128840\n",
       "..                                ...                     ...\n",
       "118      Arrived 20 years or more ago             8318.497240\n",
       "119                             Total            57567.586151\n",
       "120                               NaN                     NaN\n",
       "121                               NaN                     NaN\n",
       "122  © Commonwealth of Australia 2020                     NaN\n",
       "\n",
       "[115 rows x 2 columns]"
      ],
      "text/html": "<div>\n<style scoped>\n    .dataframe tbody tr th:only-of-type {\n        vertical-align: middle;\n    }\n\n    .dataframe tbody tr th {\n        vertical-align: top;\n    }\n\n    .dataframe thead th {\n        text-align: right;\n    }\n</style>\n<table border=\"1\" class=\"dataframe\">\n  <thead>\n    <tr style=\"text-align: right;\">\n      <th></th>\n      <th>state_territory</th>\n      <th>discouraged_jobseekers</th>\n    </tr>\n  </thead>\n  <tbody>\n    <tr>\n      <th>8</th>\n      <td>New South Wales</td>\n      <td>35294.443384</td>\n    </tr>\n    <tr>\n      <th>9</th>\n      <td>Victoria</td>\n      <td>29665.225257</td>\n    </tr>\n    <tr>\n      <th>10</th>\n      <td>Queensland</td>\n      <td>16515.309330</td>\n    </tr>\n    <tr>\n      <th>11</th>\n      <td>South Australia</td>\n      <td>5064.287140</td>\n    </tr>\n    <tr>\n      <th>12</th>\n      <td>Western Australia</td>\n      <td>11498.128840</td>\n    </tr>\n    <tr>\n      <th>...</th>\n      <td>...</td>\n      <td>...</td>\n    </tr>\n    <tr>\n      <th>118</th>\n      <td>Arrived 20 years or more ago</td>\n      <td>8318.497240</td>\n    </tr>\n    <tr>\n      <th>119</th>\n      <td>Total</td>\n      <td>57567.586151</td>\n    </tr>\n    <tr>\n      <th>120</th>\n      <td>NaN</td>\n      <td>NaN</td>\n    </tr>\n    <tr>\n      <th>121</th>\n      <td>NaN</td>\n      <td>NaN</td>\n    </tr>\n    <tr>\n      <th>122</th>\n      <td>© Commonwealth of Australia 2020</td>\n      <td>NaN</td>\n    </tr>\n  </tbody>\n</table>\n<p>115 rows × 2 columns</p>\n</div>"
     },
     "metadata": {},
     "execution_count": 6
    }
   ],
   "source": [
    "# set values to actual amount\n",
    "discouraged_full[['discouraged_jobseekers']] = discouraged_full[['discouraged_jobseekers']] * 1000\n",
    "discouraged_full"
   ]
  },
  {
   "cell_type": "code",
   "execution_count": 7,
   "metadata": {},
   "outputs": [
    {
     "output_type": "stream",
     "name": "stdout",
     "text": [
      "<class 'pandas.core.frame.DataFrame'>\nInt64Index: 115 entries, 8 to 122\nData columns (total 2 columns):\n #   Column                  Non-Null Count  Dtype  \n---  ------                  --------------  -----  \n 0   state_territory         113 non-null    object \n 1   discouraged_jobseekers  99 non-null     float64\ndtypes: float64(1), object(1)\nmemory usage: 2.2+ KB\n"
     ]
    }
   ],
   "source": [
    "# check data types\n",
    "discouraged_full.info()"
   ]
  },
  {
   "cell_type": "code",
   "execution_count": 8,
   "metadata": {},
   "outputs": [
    {
     "output_type": "execute_result",
     "data": {
      "text/plain": [
       "                 state_territory  discouraged_jobseekers\n",
       "8                New South Wales            35294.443384\n",
       "9                       Victoria            29665.225257\n",
       "10                    Queensland            16515.309330\n",
       "11               South Australia             5064.287140\n",
       "12             Western Australia            11498.128840\n",
       "13                      Tasmania             3687.193909\n",
       "14            Northern Territory              941.021873\n",
       "15  Australian Capital Territory             1030.624947\n",
       "46               New South Wales            15720.363625\n",
       "47                      Victoria            12941.473265\n",
       "48                    Queensland             5823.649801\n",
       "49               South Australia             2686.831138\n",
       "50             Western Australia             6172.344732\n",
       "51                      Tasmania             1425.445288\n",
       "52            Northern Territory              526.559214\n",
       "53  Australian Capital Territory              831.981467\n",
       "84               New South Wales            19574.079759\n",
       "85                      Victoria            16723.751992\n",
       "86                    Queensland            10691.659529\n",
       "87               South Australia             2377.456002\n",
       "88             Western Australia             5325.784108\n",
       "89                      Tasmania             2261.748621\n",
       "90            Northern Territory              414.462660\n",
       "91  Australian Capital Territory              198.643480"
      ],
      "text/html": "<div>\n<style scoped>\n    .dataframe tbody tr th:only-of-type {\n        vertical-align: middle;\n    }\n\n    .dataframe tbody tr th {\n        vertical-align: top;\n    }\n\n    .dataframe thead th {\n        text-align: right;\n    }\n</style>\n<table border=\"1\" class=\"dataframe\">\n  <thead>\n    <tr style=\"text-align: right;\">\n      <th></th>\n      <th>state_territory</th>\n      <th>discouraged_jobseekers</th>\n    </tr>\n  </thead>\n  <tbody>\n    <tr>\n      <th>8</th>\n      <td>New South Wales</td>\n      <td>35294.443384</td>\n    </tr>\n    <tr>\n      <th>9</th>\n      <td>Victoria</td>\n      <td>29665.225257</td>\n    </tr>\n    <tr>\n      <th>10</th>\n      <td>Queensland</td>\n      <td>16515.309330</td>\n    </tr>\n    <tr>\n      <th>11</th>\n      <td>South Australia</td>\n      <td>5064.287140</td>\n    </tr>\n    <tr>\n      <th>12</th>\n      <td>Western Australia</td>\n      <td>11498.128840</td>\n    </tr>\n    <tr>\n      <th>13</th>\n      <td>Tasmania</td>\n      <td>3687.193909</td>\n    </tr>\n    <tr>\n      <th>14</th>\n      <td>Northern Territory</td>\n      <td>941.021873</td>\n    </tr>\n    <tr>\n      <th>15</th>\n      <td>Australian Capital Territory</td>\n      <td>1030.624947</td>\n    </tr>\n    <tr>\n      <th>46</th>\n      <td>New South Wales</td>\n      <td>15720.363625</td>\n    </tr>\n    <tr>\n      <th>47</th>\n      <td>Victoria</td>\n      <td>12941.473265</td>\n    </tr>\n    <tr>\n      <th>48</th>\n      <td>Queensland</td>\n      <td>5823.649801</td>\n    </tr>\n    <tr>\n      <th>49</th>\n      <td>South Australia</td>\n      <td>2686.831138</td>\n    </tr>\n    <tr>\n      <th>50</th>\n      <td>Western Australia</td>\n      <td>6172.344732</td>\n    </tr>\n    <tr>\n      <th>51</th>\n      <td>Tasmania</td>\n      <td>1425.445288</td>\n    </tr>\n    <tr>\n      <th>52</th>\n      <td>Northern Territory</td>\n      <td>526.559214</td>\n    </tr>\n    <tr>\n      <th>53</th>\n      <td>Australian Capital Territory</td>\n      <td>831.981467</td>\n    </tr>\n    <tr>\n      <th>84</th>\n      <td>New South Wales</td>\n      <td>19574.079759</td>\n    </tr>\n    <tr>\n      <th>85</th>\n      <td>Victoria</td>\n      <td>16723.751992</td>\n    </tr>\n    <tr>\n      <th>86</th>\n      <td>Queensland</td>\n      <td>10691.659529</td>\n    </tr>\n    <tr>\n      <th>87</th>\n      <td>South Australia</td>\n      <td>2377.456002</td>\n    </tr>\n    <tr>\n      <th>88</th>\n      <td>Western Australia</td>\n      <td>5325.784108</td>\n    </tr>\n    <tr>\n      <th>89</th>\n      <td>Tasmania</td>\n      <td>2261.748621</td>\n    </tr>\n    <tr>\n      <th>90</th>\n      <td>Northern Territory</td>\n      <td>414.462660</td>\n    </tr>\n    <tr>\n      <th>91</th>\n      <td>Australian Capital Territory</td>\n      <td>198.643480</td>\n    </tr>\n  </tbody>\n</table>\n</div>"
     },
     "metadata": {},
     "execution_count": 8
    }
   ],
   "source": [
    "# find location table\n",
    "location_df = discouraged_full[discouraged_full[\"state_territory\"].isin(['New South Wales', 'Victoria', 'Queensland', 'South Australia', 'Western Australia', 'Tasmania', 'Northern Territory', 'Australian Capital Territory'])]\n",
    "location_df = location_df.copy()\n",
    "location_df "
   ]
  },
  {
   "cell_type": "code",
   "execution_count": 9,
   "metadata": {},
   "outputs": [
    {
     "output_type": "execute_result",
     "data": {
      "text/plain": [
       "                 state_territory  discouraged_jobseekers\n",
       "8                New South Wales            35294.443384\n",
       "9                       Victoria            29665.225257\n",
       "10                    Queensland            16515.309330\n",
       "11               South Australia             5064.287140\n",
       "12             Western Australia            11498.128840\n",
       "13                      Tasmania             3687.193909\n",
       "14            Northern Territory              941.021873\n",
       "15  Australian Capital Territory             1030.624947"
      ],
      "text/html": "<div>\n<style scoped>\n    .dataframe tbody tr th:only-of-type {\n        vertical-align: middle;\n    }\n\n    .dataframe tbody tr th {\n        vertical-align: top;\n    }\n\n    .dataframe thead th {\n        text-align: right;\n    }\n</style>\n<table border=\"1\" class=\"dataframe\">\n  <thead>\n    <tr style=\"text-align: right;\">\n      <th></th>\n      <th>state_territory</th>\n      <th>discouraged_jobseekers</th>\n    </tr>\n  </thead>\n  <tbody>\n    <tr>\n      <th>8</th>\n      <td>New South Wales</td>\n      <td>35294.443384</td>\n    </tr>\n    <tr>\n      <th>9</th>\n      <td>Victoria</td>\n      <td>29665.225257</td>\n    </tr>\n    <tr>\n      <th>10</th>\n      <td>Queensland</td>\n      <td>16515.309330</td>\n    </tr>\n    <tr>\n      <th>11</th>\n      <td>South Australia</td>\n      <td>5064.287140</td>\n    </tr>\n    <tr>\n      <th>12</th>\n      <td>Western Australia</td>\n      <td>11498.128840</td>\n    </tr>\n    <tr>\n      <th>13</th>\n      <td>Tasmania</td>\n      <td>3687.193909</td>\n    </tr>\n    <tr>\n      <th>14</th>\n      <td>Northern Territory</td>\n      <td>941.021873</td>\n    </tr>\n    <tr>\n      <th>15</th>\n      <td>Australian Capital Territory</td>\n      <td>1030.624947</td>\n    </tr>\n  </tbody>\n</table>\n</div>"
     },
     "metadata": {},
     "execution_count": 9
    }
   ],
   "source": [
    "# narrow down selection\n",
    "location_persons = location_df[:8].copy()\n",
    "location_persons"
   ]
  },
  {
   "cell_type": "code",
   "execution_count": 10,
   "metadata": {},
   "outputs": [
    {
     "output_type": "execute_result",
     "data": {
      "text/plain": [
       "                state_territory  discouraged_jobseekers\n",
       "0               New South Wales            35294.443384\n",
       "1                      Victoria            29665.225257\n",
       "2                    Queensland            16515.309330\n",
       "3               South Australia             5064.287140\n",
       "4             Western Australia            11498.128840\n",
       "5                      Tasmania             3687.193909\n",
       "6            Northern Territory              941.021873\n",
       "7  Australian Capital Territory             1030.624947"
      ],
      "text/html": "<div>\n<style scoped>\n    .dataframe tbody tr th:only-of-type {\n        vertical-align: middle;\n    }\n\n    .dataframe tbody tr th {\n        vertical-align: top;\n    }\n\n    .dataframe thead th {\n        text-align: right;\n    }\n</style>\n<table border=\"1\" class=\"dataframe\">\n  <thead>\n    <tr style=\"text-align: right;\">\n      <th></th>\n      <th>state_territory</th>\n      <th>discouraged_jobseekers</th>\n    </tr>\n  </thead>\n  <tbody>\n    <tr>\n      <th>0</th>\n      <td>New South Wales</td>\n      <td>35294.443384</td>\n    </tr>\n    <tr>\n      <th>1</th>\n      <td>Victoria</td>\n      <td>29665.225257</td>\n    </tr>\n    <tr>\n      <th>2</th>\n      <td>Queensland</td>\n      <td>16515.309330</td>\n    </tr>\n    <tr>\n      <th>3</th>\n      <td>South Australia</td>\n      <td>5064.287140</td>\n    </tr>\n    <tr>\n      <th>4</th>\n      <td>Western Australia</td>\n      <td>11498.128840</td>\n    </tr>\n    <tr>\n      <th>5</th>\n      <td>Tasmania</td>\n      <td>3687.193909</td>\n    </tr>\n    <tr>\n      <th>6</th>\n      <td>Northern Territory</td>\n      <td>941.021873</td>\n    </tr>\n    <tr>\n      <th>7</th>\n      <td>Australian Capital Territory</td>\n      <td>1030.624947</td>\n    </tr>\n  </tbody>\n</table>\n</div>"
     },
     "metadata": {},
     "execution_count": 10
    }
   ],
   "source": [
    "# reset index\n",
    "location_persons.reset_index(drop=True, inplace=True)\n",
    "location_persons"
   ]
  },
  {
   "cell_type": "code",
   "execution_count": 18,
   "metadata": {},
   "outputs": [],
   "source": [
    "# print table to csv\n",
    "location_persons.to_csv('discouragedjobseekers_location.csv', index=False)"
   ]
  },
  {
   "cell_type": "code",
   "execution_count": 12,
   "metadata": {},
   "outputs": [
    {
     "output_type": "execute_result",
     "data": {
      "text/plain": [
       "   state_territory  discouraged_jobseekers\n",
       "17           15–24            19127.603453\n",
       "18           25–34            10210.574674\n",
       "19           35–44            12010.948635\n",
       "20           45–54             8337.623604\n",
       "21           55–64            19210.640148\n",
       "22     65 and over            34798.844168\n",
       "55           15–24             9701.105711\n",
       "56           25–34             3255.898798\n",
       "57           35–44             2862.987251\n",
       "58           45–54             2649.042042\n",
       "59           55–64             7073.985807\n",
       "60     65 and over            20585.628921\n",
       "93           15–24             9426.497742\n",
       "94           25–34             6954.675876\n",
       "95           35–44             9147.961384\n",
       "96           45–54             5688.581562\n",
       "97           55–64            12136.654341\n",
       "98     65 and over            14213.215247"
      ],
      "text/html": "<div>\n<style scoped>\n    .dataframe tbody tr th:only-of-type {\n        vertical-align: middle;\n    }\n\n    .dataframe tbody tr th {\n        vertical-align: top;\n    }\n\n    .dataframe thead th {\n        text-align: right;\n    }\n</style>\n<table border=\"1\" class=\"dataframe\">\n  <thead>\n    <tr style=\"text-align: right;\">\n      <th></th>\n      <th>state_territory</th>\n      <th>discouraged_jobseekers</th>\n    </tr>\n  </thead>\n  <tbody>\n    <tr>\n      <th>17</th>\n      <td>15–24</td>\n      <td>19127.603453</td>\n    </tr>\n    <tr>\n      <th>18</th>\n      <td>25–34</td>\n      <td>10210.574674</td>\n    </tr>\n    <tr>\n      <th>19</th>\n      <td>35–44</td>\n      <td>12010.948635</td>\n    </tr>\n    <tr>\n      <th>20</th>\n      <td>45–54</td>\n      <td>8337.623604</td>\n    </tr>\n    <tr>\n      <th>21</th>\n      <td>55–64</td>\n      <td>19210.640148</td>\n    </tr>\n    <tr>\n      <th>22</th>\n      <td>65 and over</td>\n      <td>34798.844168</td>\n    </tr>\n    <tr>\n      <th>55</th>\n      <td>15–24</td>\n      <td>9701.105711</td>\n    </tr>\n    <tr>\n      <th>56</th>\n      <td>25–34</td>\n      <td>3255.898798</td>\n    </tr>\n    <tr>\n      <th>57</th>\n      <td>35–44</td>\n      <td>2862.987251</td>\n    </tr>\n    <tr>\n      <th>58</th>\n      <td>45–54</td>\n      <td>2649.042042</td>\n    </tr>\n    <tr>\n      <th>59</th>\n      <td>55–64</td>\n      <td>7073.985807</td>\n    </tr>\n    <tr>\n      <th>60</th>\n      <td>65 and over</td>\n      <td>20585.628921</td>\n    </tr>\n    <tr>\n      <th>93</th>\n      <td>15–24</td>\n      <td>9426.497742</td>\n    </tr>\n    <tr>\n      <th>94</th>\n      <td>25–34</td>\n      <td>6954.675876</td>\n    </tr>\n    <tr>\n      <th>95</th>\n      <td>35–44</td>\n      <td>9147.961384</td>\n    </tr>\n    <tr>\n      <th>96</th>\n      <td>45–54</td>\n      <td>5688.581562</td>\n    </tr>\n    <tr>\n      <th>97</th>\n      <td>55–64</td>\n      <td>12136.654341</td>\n    </tr>\n    <tr>\n      <th>98</th>\n      <td>65 and over</td>\n      <td>14213.215247</td>\n    </tr>\n  </tbody>\n</table>\n</div>"
     },
     "metadata": {},
     "execution_count": 12
    }
   ],
   "source": [
    "# find age table\n",
    "age_df = discouraged_full[discouraged_full[\"state_territory\"].isin(['15–24', '25–34', '35–44', '45–54', '55–64', '65 and over'])]\n",
    "age_df = age_df.copy()\n",
    "age_df"
   ]
  },
  {
   "cell_type": "code",
   "execution_count": 13,
   "metadata": {},
   "outputs": [
    {
     "output_type": "execute_result",
     "data": {
      "text/plain": [
       "   state_territory  discouraged_jobseekers\n",
       "17           15–24            19127.603453\n",
       "18           25–34            10210.574674\n",
       "19           35–44            12010.948635\n",
       "20           45–54             8337.623604\n",
       "21           55–64            19210.640148\n",
       "22     65 and over            34798.844168"
      ],
      "text/html": "<div>\n<style scoped>\n    .dataframe tbody tr th:only-of-type {\n        vertical-align: middle;\n    }\n\n    .dataframe tbody tr th {\n        vertical-align: top;\n    }\n\n    .dataframe thead th {\n        text-align: right;\n    }\n</style>\n<table border=\"1\" class=\"dataframe\">\n  <thead>\n    <tr style=\"text-align: right;\">\n      <th></th>\n      <th>state_territory</th>\n      <th>discouraged_jobseekers</th>\n    </tr>\n  </thead>\n  <tbody>\n    <tr>\n      <th>17</th>\n      <td>15–24</td>\n      <td>19127.603453</td>\n    </tr>\n    <tr>\n      <th>18</th>\n      <td>25–34</td>\n      <td>10210.574674</td>\n    </tr>\n    <tr>\n      <th>19</th>\n      <td>35–44</td>\n      <td>12010.948635</td>\n    </tr>\n    <tr>\n      <th>20</th>\n      <td>45–54</td>\n      <td>8337.623604</td>\n    </tr>\n    <tr>\n      <th>21</th>\n      <td>55–64</td>\n      <td>19210.640148</td>\n    </tr>\n    <tr>\n      <th>22</th>\n      <td>65 and over</td>\n      <td>34798.844168</td>\n    </tr>\n  </tbody>\n</table>\n</div>"
     },
     "metadata": {},
     "execution_count": 13
    }
   ],
   "source": [
    "# narrow down selection\n",
    "age_persons = age_df[:6].copy()\n",
    "age_persons"
   ]
  },
  {
   "cell_type": "code",
   "execution_count": 14,
   "metadata": {},
   "outputs": [
    {
     "output_type": "execute_result",
     "data": {
      "text/plain": [
       "  state_territory  discouraged_jobseekers\n",
       "0           15–24            19127.603453\n",
       "1           25–34            10210.574674\n",
       "2           35–44            12010.948635\n",
       "3           45–54             8337.623604\n",
       "4           55–64            19210.640148\n",
       "5     65 and over            34798.844168"
      ],
      "text/html": "<div>\n<style scoped>\n    .dataframe tbody tr th:only-of-type {\n        vertical-align: middle;\n    }\n\n    .dataframe tbody tr th {\n        vertical-align: top;\n    }\n\n    .dataframe thead th {\n        text-align: right;\n    }\n</style>\n<table border=\"1\" class=\"dataframe\">\n  <thead>\n    <tr style=\"text-align: right;\">\n      <th></th>\n      <th>state_territory</th>\n      <th>discouraged_jobseekers</th>\n    </tr>\n  </thead>\n  <tbody>\n    <tr>\n      <th>0</th>\n      <td>15–24</td>\n      <td>19127.603453</td>\n    </tr>\n    <tr>\n      <th>1</th>\n      <td>25–34</td>\n      <td>10210.574674</td>\n    </tr>\n    <tr>\n      <th>2</th>\n      <td>35–44</td>\n      <td>12010.948635</td>\n    </tr>\n    <tr>\n      <th>3</th>\n      <td>45–54</td>\n      <td>8337.623604</td>\n    </tr>\n    <tr>\n      <th>4</th>\n      <td>55–64</td>\n      <td>19210.640148</td>\n    </tr>\n    <tr>\n      <th>5</th>\n      <td>65 and over</td>\n      <td>34798.844168</td>\n    </tr>\n  </tbody>\n</table>\n</div>"
     },
     "metadata": {},
     "execution_count": 14
    }
   ],
   "source": [
    "# reset index\n",
    "age_persons.reset_index(drop=True, inplace=True)\n",
    "age_persons"
   ]
  },
  {
   "cell_type": "code",
   "execution_count": 15,
   "metadata": {},
   "outputs": [
    {
     "output_type": "execute_result",
     "data": {
      "text/plain": [
       "     age_range  discouraged_jobseekers\n",
       "0        15–24            19127.603453\n",
       "1        25–34            10210.574674\n",
       "2        35–44            12010.948635\n",
       "3        45–54             8337.623604\n",
       "4        55–64            19210.640148\n",
       "5  65 and over            34798.844168"
      ],
      "text/html": "<div>\n<style scoped>\n    .dataframe tbody tr th:only-of-type {\n        vertical-align: middle;\n    }\n\n    .dataframe tbody tr th {\n        vertical-align: top;\n    }\n\n    .dataframe thead th {\n        text-align: right;\n    }\n</style>\n<table border=\"1\" class=\"dataframe\">\n  <thead>\n    <tr style=\"text-align: right;\">\n      <th></th>\n      <th>age_range</th>\n      <th>discouraged_jobseekers</th>\n    </tr>\n  </thead>\n  <tbody>\n    <tr>\n      <th>0</th>\n      <td>15–24</td>\n      <td>19127.603453</td>\n    </tr>\n    <tr>\n      <th>1</th>\n      <td>25–34</td>\n      <td>10210.574674</td>\n    </tr>\n    <tr>\n      <th>2</th>\n      <td>35–44</td>\n      <td>12010.948635</td>\n    </tr>\n    <tr>\n      <th>3</th>\n      <td>45–54</td>\n      <td>8337.623604</td>\n    </tr>\n    <tr>\n      <th>4</th>\n      <td>55–64</td>\n      <td>19210.640148</td>\n    </tr>\n    <tr>\n      <th>5</th>\n      <td>65 and over</td>\n      <td>34798.844168</td>\n    </tr>\n  </tbody>\n</table>\n</div>"
     },
     "metadata": {},
     "execution_count": 15
    }
   ],
   "source": [
    "# rename first column to match table\n",
    "age_persons.columns = ['age_range', 'discouraged_jobseekers']\n",
    "age_persons"
   ]
  },
  {
   "cell_type": "code",
   "execution_count": 17,
   "metadata": {},
   "outputs": [],
   "source": [
    "# print table to csv\n",
    "age_persons.to_csv('discouragedjobseekers_age.csv', index=False)"
   ]
  },
  {
   "cell_type": "code",
   "execution_count": null,
   "metadata": {},
   "outputs": [],
   "source": []
  }
 ]
}